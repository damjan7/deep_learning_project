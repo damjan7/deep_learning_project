{
 "cells": [
  {
   "cell_type": "code",
   "execution_count": 3,
   "metadata": {},
   "outputs": [],
   "source": [
    "import os\n",
    "import numpy as np\n",
    "import torch\n",
    "import torch.nn as nn\n",
    "import torch.nn.functional as F\n",
    "import torch.optim\n",
    "import torch.utils.data\n",
    "import torchvision\n",
    "import tqdm\n",
    "import matplotlib.pyplot as plt\n",
    "import torch.distributions as dist\n",
    "\n",
    "from torch.utils.data import DataLoader\n",
    "from torch.distributions.distribution import Distribution"
   ]
  },
  {
   "cell_type": "code",
   "execution_count": 4,
   "metadata": {},
   "outputs": [],
   "source": [
    "# Load MNIST dataset\n",
    "transform = torchvision.transforms.Compose([torchvision.transforms.ToTensor()])\n",
    "trainset = torchvision.datasets.MNIST(root='./data', train=True, download=True, transform=transform)\n",
    "testset = torchvision.datasets.MNIST(root='./data', train=False, download=True, transform=transform)\n",
    "  \n",
    "\n"
   ]
  },
  {
   "cell_type": "code",
   "execution_count": 13,
   "metadata": {},
   "outputs": [
    {
     "name": "stdout",
     "output_type": "stream",
     "text": [
      "3\n"
     ]
    },
    {
     "data": {
      "image/png": "[encoded data removed]",
      "text/plain": [
       "<Figure size 432x288 with 1 Axes>"
      ]
     },
     "metadata": {
      "needs_background": "light"
     },
     "output_type": "display_data"
    }
   ],
   "source": [
    "feature = trainset[10][0]\n",
    "label = trainset[10][1]\n",
    "print(label)\n",
    "plt.imshow(feature.squeeze(), cmap='gray')\n",
    "plt.show()\n"
   ]
  },
  {
   "cell_type": "markdown",
   "metadata": {},
   "source": [
    "Here, I will first implement a BNN such as in the PAI Task 2. Thus it will be a BNN that is trained via Bayes by Backprop. We will need to change this to train the BNN via SG-MCMC as we said in the Proposal."
   ]
  },
  {
   "cell_type": "markdown",
   "metadata": {},
   "source": [
    "First, we need to define the Prior distributions which we will later use in the BNN."
   ]
  },
  {
   "cell_type": "code",
   "execution_count": null,
   "metadata": {},
   "outputs": [],
   "source": [
    "class Prior(nn.Module):\n",
    "    \"\"\"\n",
    "    https://github.com/ratschlab/bnn_priors/blob/main/bnn_priors/prior/base.py\n",
    "    \"\"\"\n",
    "    pass"
   ]
  },
  {
   "cell_type": "code",
   "execution_count": null,
   "metadata": {},
   "outputs": [],
   "source": [
    "class Isotropic_Gaussian2(Distribution):\n",
    "    \"\"\" CAVEAT: Not sure if this is correct. Probably not even needed. Just use dist.normal\"\"\"\n",
    "    def __init__(self, loc: torch.Tensor, scale: torch.Tensor):\n",
    "        super(Isotropic_Gaussian, self).__init__()\n",
    "        assert scale > 0, \"Scale must be positive.\"\n",
    "        self.loc = loc\n",
    "        self.scale = scale\n",
    "\n",
    "    def log_prob(self, values: torch.Tensor) -> torch.Tensor:\n",
    "        return -0.5 * torch.log(2 * torch.pi * self.scale ** 2) - (values - self.loc) ** 2 / (2 * self.scale ** 2)\n",
    "    def sample(self, sample_shape=torch.Size()):\n",
    "        return torch.normal(self.loc, self.scale, sample_shape)\n",
    "\n",
    "    def entropy(self):\n",
    "        return 0.5 * torch.log(2 * torch.pi * torch.e) + torch.log(self.scale)\n",
    "\n",
    "    def kl_divergence(self, other):\n",
    "        return torch.log(self.scale / other.scale) + (other.scale ** 2 + (self.loc - other.loc) ** 2) / (2 * self.scale ** 2) - 0.5\n",
    "\n",
    "    def mean(self):\n",
    "        return self.loc\n",
    "\n",
    "    def std(self):\n",
    "        return self.scale\n",
    "\n",
    "    def mode(self):\n",
    "        return self.loc\n",
    "\n",
    "\n",
    "\n",
    "class Isotropic_Gaussian(Distribution):\n",
    "    \"\"\"\n",
    "    https://github.com/ratschlab/bnn_priors/blob/main/bnn_priors/prior/loc_scale.py\n",
    "    \"\"\"\n",
    "    pass\n"
   ]
  },
  {
   "cell_type": "markdown",
   "metadata": {},
   "source": [
    "Next, we need to define a basic module for one single Bayesian Layer. This module will then be used as building block for the full BNN. \n"
   ]
  },
  {
   "cell_type": "code",
   "execution_count": null,
   "metadata": {},
   "outputs": [],
   "source": [
    "class Linear_Layer(nn.Linear):\n",
    "    \"\"\"\n",
    "    Bayesian Linear Layer that will be used as a building block for the Bayesian Neural Network\n",
    "    https://github.com/ratschlab/bnn_priors/blob/main/bnn_priors/models/layers.py\n",
    "    \"\"\" \n",
    "    def __init__(self, in_features: int, out_features: int, bias: bool = True):\n",
    "        super(Linear_Layer, self).__init__()\n",
    "        pass\n",
    "\n",
    "    \n",
    "    "
   ]
  },
  {
   "cell_type": "code",
   "execution_count": null,
   "metadata": {},
   "outputs": [],
   "source": [
    "class Conv_Layer(nn.Conv2d):\n",
    "    \"\"\"\n",
    "    Bayesian Convolutional Layer that will be used as a building block for the Bayesian Neural Network\n",
    "    https://github.com/ratschlab/bnn_priors/blob/main/bnn_priors/models/layers.py\n",
    "    \"\"\"\n",
    "    def __init__(self, in_channels: int, out_channels: int, kernel_size: int, stride: int = 1, padding: int = 0, bias: bool = True):\n",
    "        super(Conv_Layer, self).__init__()\n",
    "        pass"
   ]
  },
  {
   "cell_type": "code",
   "execution_count": null,
   "metadata": {},
   "outputs": [],
   "source": [
    "class Bayesian_FCN(nn.Module):\n",
    "    \"\"\"\n",
    "    Bayesian Fully Connected Neural Network\n",
    "    https://arxiv.org/pdf/2102.06571.pdf\n",
    "    https://github.com/ratschlab/bnn_priors/blob/main/bnn_priors/models/dense_nets.py\n",
    "    \"\"\"\n",
    "    def __init__(self, input_size: int, output_size: int, hidden_sizes: list, activation: str = 'relu'):\n",
    "        super(Bayesian_FCN, self).__init__()\n",
    "        pass\n",
    "\n",
    "    def forward(self, x: torch.Tensor) -> torch.Tensor:\n",
    "        pass\n",
    "\n",
    "    def sample_elbo(self, input: torch.Tensor, target: torch.Tensor, samples: int = 1, beta: float = 1.0) -> torch.Tensor:\n",
    "        pass\n",
    "\n",
    "    def sample_predict(self, input: torch.Tensor, samples: int = 1) -> torch.Tensor:\n",
    "        pass"
   ]
  },
  {
   "cell_type": "code",
   "execution_count": null,
   "metadata": {},
   "outputs": [],
   "source": [
    "class Bayesian_CNN(nn.Module):\n",
    "    \"\"\"\n",
    "    Bayesian Convolutional Neural Network\n",
    "    https://github.com/ratschlab/bnn_priors/blob/main/bnn_priors/models/conv_nets.py\n",
    "    https://arxiv.org/pdf/2102.06571.pdf\n",
    "\n",
    "    \"\"\"\n",
    "    def __init__(self, input_size: int, output_size: int, hidden_sizes: list, activation: str = 'relu'):\n",
    "        super(Bayesian_CNN, self).__init__()\n",
    "        pass\n",
    "\n",
    "    def forward(self, x: torch.Tensor) -> torch.Tensor:\n",
    "        pass\n",
    "\n",
    "    def sample_elbo(self, input: torch.Tensor, target: torch.Tensor, samples: int = 1, beta: float = 1.0) -> torch.Tensor:\n",
    "        pass\n",
    "\n",
    "    def sample_predict(self, input: torch.Tensor, samples: int = 1) -> torch.Tensor:\n",
    "        pass"
   ]
  },
  {
   "cell_type": "code",
   "execution_count": null,
   "metadata": {},
   "outputs": [],
   "source": []
  }
 ],
 "metadata": {
  "kernelspec": {
   "display_name": "Python 3 (ipykernel)",
   "language": "python",
   "name": "python3"
  },
  "language_info": {
   "codemirror_mode": {
    "name": "ipython",
    "version": 3
   },
   "file_extension": ".py",
   "mimetype": "text/x-python",
   "name": "python",
   "nbconvert_exporter": "python",
   "pygments_lexer": "ipython3",
   "version": "3.8.5"
  },
  "vscode": {
   "interpreter": {
    "hash": "9412b45e6a57aa9914730508726d49801d3b2c579f461e1fb13c705887a7b1f6"
   }
  }
 },
 "nbformat": 4,
 "nbformat_minor": 4
}
