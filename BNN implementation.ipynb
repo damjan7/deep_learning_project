{
 "cells": [
  {
   "cell_type": "code",
   "execution_count": 16,
   "metadata": {},
   "outputs": [],
   "source": [
    "import os\n",
    "import numpy as np\n",
    "import torch\n",
    "import torch.nn as nn\n",
    "import torch.nn.functional as F\n",
    "import torch.optim\n",
    "import torch.utils.data\n",
    "import torchvision\n",
    "import tqdm\n",
    "import matplotlib.pyplot as plt\n",
    "import torch.distributions as dist\n",
    "import abc\n",
    "\n",
    "from torch.utils.data import DataLoader\n",
    "from torch.distributions.distribution import Distribution"
   ]
  },
  {
   "cell_type": "code",
   "execution_count": 17,
   "metadata": {},
   "outputs": [],
   "source": [
    "# Load MNIST dataset\n",
    "transform = torchvision.transforms.Compose([torchvision.transforms.ToTensor()])\n",
    "trainset = torchvision.datasets.MNIST(root='./data', train=True, download=True, transform=transform)\n",
    "testset = torchvision.datasets.MNIST(root='./data', train=False, download=True, transform=transform)\n",
    "\n",
    "\n",
    "train_loader = DataLoader(trainset, batch_size=32, shuffle=True)\n",
    "test_loader = DataLoader(testset, batch_size=32, shuffle=False)\n"
   ]
  },
  {
   "cell_type": "code",
   "execution_count": 18,
   "metadata": {},
   "outputs": [
    {
     "name": "stdout",
     "output_type": "stream",
     "text": [
      "5\n"
     ]
    },
    {
     "data": {
      "image/png": "[encoded data removed]",
      "text/plain": [
       "<Figure size 432x288 with 1 Axes>"
      ]
     },
     "metadata": {
      "needs_background": "light"
     },
     "output_type": "display_data"
    }
   ],
   "source": [
    "feature = trainset[0][0]\n",
    "label = trainset[0][1]\n",
    "print(label)\n",
    "plt.imshow(feature.squeeze(), cmap='gray')\n",
    "plt.show()\n"
   ]
  },
  {
   "attachments": {},
   "cell_type": "markdown",
   "metadata": {},
   "source": [
    "Here, I will first implement a BNN such as in the PAI Task 2. Thus it will be a BNN that is trained via Bayes by Backprop. We will need to change this to train the BNN via SG-MCMC as we said in the Proposal."
   ]
  },
  {
   "attachments": {},
   "cell_type": "markdown",
   "metadata": {},
   "source": [
    "First, we need to define the Prior distributions which we will later use in the BNN."
   ]
  },
  {
   "cell_type": "code",
   "execution_count": 19,
   "metadata": {},
   "outputs": [],
   "source": [
    "class Prior(nn.Module, abc.ABC):\n",
    "    \"\"\"\n",
    "    https://github.com/ratschlab/bnn_priors/blob/main/bnn_priors/prior/base.py\n",
    "    \"\"\"\n",
    "    def __init__(self):\n",
    "        super().__init__()\n",
    "\n",
    "    @abc.abstractmethod\n",
    "    def log_likelihood(self, x: torch.Tensor) -> torch.Tensor:\n",
    "        \"\"\"\n",
    "        Compute the log-likelihood for the given x values\n",
    "        \"\"\"\n",
    "        pass\n",
    "    \n",
    "    @abc.abstractmethod\n",
    "    def sample(self) -> torch.Tensor:\n",
    "        \"\"\"\n",
    "        Sample from the prior\n",
    "        \"\"\"\n",
    "        pass\n",
    "\n",
    "    def forward(self, x: torch.Tensor) -> torch.Tensor:\n",
    "        \"\"\"\n",
    "        Don't use this method, we only implement it because nn.Module requires it\n",
    "        Vincent Fortuin uses the forward to return the parameter value using self.p\n",
    "        \"\"\"\n",
    "        return self.log_likelihood(x)\n"
   ]
  },
  {
   "cell_type": "code",
   "execution_count": null,
   "metadata": {},
   "outputs": [],
   "source": [
    "class Isotropic_Gaussian2(Distribution):\n",
    "    \"\"\" CAVEAT: Not sure if this is correct. Probably not even needed. Just use dist.normal\"\"\"\n",
    "    def __init__(self, loc: torch.Tensor, scale: torch.Tensor):\n",
    "        super(Isotropic_Gaussian, self).__init__()\n",
    "        assert scale > 0, \"Scale must be positive.\"\n",
    "        self.loc = loc\n",
    "        self.scale = scale\n",
    "\n",
    "    def log_prob(self, values: torch.Tensor) -> torch.Tensor:\n",
    "        return -0.5 * torch.log(2 * torch.pi * self.scale ** 2) - (values - self.loc) ** 2 / (2 * self.scale ** 2)\n",
    "    def sample(self, sample_shape=torch.Size()):\n",
    "        return torch.normal(self.loc, self.scale, sample_shape)\n",
    "\n",
    "    def entropy(self):\n",
    "        return 0.5 * torch.log(2 * torch.pi * torch.e) + torch.log(self.scale)\n",
    "\n",
    "    def kl_divergence(self, other):\n",
    "        return torch.log(self.scale / other.scale) + (other.scale ** 2 + (self.loc - other.loc) ** 2) / (2 * self.scale ** 2) - 0.5\n",
    "\n",
    "    def mean(self):\n",
    "        return self.loc\n",
    "\n",
    "    def std(self):\n",
    "        return self.scale\n",
    "\n",
    "    def mode(self):\n",
    "        return self.loc\n",
    "\n",
    "\n",
    "\n",
    "class Isotropic_Gaussian(Distribution):\n",
    "    \"\"\"\n",
    "    https://github.com/ratschlab/bnn_priors/blob/main/bnn_priors/prior/loc_scale.py\n",
    "    \"\"\"\n",
    "    pass\n"
   ]
  },
  {
   "attachments": {},
   "cell_type": "markdown",
   "metadata": {},
   "source": [
    "Next, we need to define a basic module for one single Bayesian Layer. This module will then be used as building block for the full BNN. \n"
   ]
  },
  {
   "cell_type": "code",
   "execution_count": 48,
   "metadata": {},
   "outputs": [
    {
     "name": "stderr",
     "output_type": "stream",
     "text": [
      "Epoch: 15, Loss: 952.23, Accuracy: 0.12: 100%|██████████| 15/15 [07:02<00:00, 28.20s/it] \n"
     ]
    }
   ],
   "source": [
    "class Linear_Layer(nn.Linear):\n",
    "    \"\"\"\n",
    "    Bayesian Linear Layer that will be used as a building block for the Bayesian Neural Network\n",
    "    https://github.com/ratschlab/bnn_priors/blob/main/bnn_priors/models/layers.py\n",
    "    \"\"\" \n",
    "    def __init__(self, in_features, out_features, bias = True):\n",
    "        super().__init__(in_features, out_features, bias)\n",
    "        self.in_features = in_features\n",
    "        self.out_features = out_features\n",
    "        self.with_bias = bias\n",
    "\n",
    "        # create a prior for the weights and biases using the Isotropic Gaussian prior\n",
    "        self.weight_prior = Isotropic_Gaussian(\n",
    "            mu = torch.zeros(out_features, in_features),\n",
    "            sigma = torch.ones(out_features, in_features)\n",
    "        )\n",
    "\n",
    "        if bias:\n",
    "            self.bias_prior = Isotropic_Gaussian(\n",
    "                mu = torch.zeros(out_features),\n",
    "                sigma = torch.ones(out_features)\n",
    "            )\n",
    "        \n",
    "        # create a variational posterior for the weights and biases as Instance of Isotropic Gaussian\n",
    "        self.weight_posterior = Isotropic_Gaussian(\n",
    "            mu = torch.nn.Parameter(torch.zeros(out_features, in_features)),\n",
    "            sigma = torch.nn.Parameter(torch.ones(out_features, in_features))\n",
    "        )\n",
    "\n",
    "        if bias:\n",
    "            self.bias_posterior = Isotropic_Gaussian(\n",
    "                mu = torch.nn.Parameter(torch.zeros(out_features)),\n",
    "                sigma = torch.nn.Parameter(torch.ones(out_features))\n",
    "            )\n",
    "        else:\n",
    "            self.register_parameter('bias', None)\n",
    "\n",
    "    def forward(self, x: torch.Tensor) -> torch.Tensor:\n",
    "        # sample weights and biases from the variational posterior\n",
    "        weight = self.weight_posterior.sample()\n",
    "        bias = self.bias_posterior.sample() if self.with_bias else None\n",
    "\n",
    "        # compute the log-likelihood of the weights and biases\n",
    "        log_prior = self.weight_prior.log_likelihood(weight) + self.bias_prior.log_likelihood(bias)\n",
    "\n",
    "        # compute the log posterior of the weights and biases\n",
    "        log_posterior = self.weight_posterior.log_likelihood(weight) + self.bias_posterior.log_likelihood(bias)\n",
    "\n",
    "        # compute the output of the layer\n",
    "        output = F.linear(x, weight, bias)\n",
    "\n",
    "        return output, log_prior, log_posterior    \n",
    "\n",
    "\n",
    "class Bayesian_Neural_Network(nn.Module):\n",
    "    \"\"\"\n",
    "    Bayesian Neural Network that will be trained using the BNN implementation\n",
    "    \"\"\" \n",
    "    def __init__(self, input_size: int, hidden_size: int, output_size: int):\n",
    "        super().__init__()\n",
    "        self.input_size = input_size\n",
    "        self.hidden_size = hidden_size\n",
    "        self.output_size = output_size\n",
    "\n",
    "        # create the layers of the network\n",
    "        self.input_layer = Linear_Layer(in_features=self.input_size, out_features=self.hidden_size)\n",
    "        self.hidden_layer = Linear_Layer(in_features=self.hidden_size, out_features=self.hidden_size)\n",
    "        self.output_layer = Linear_Layer(in_features=self.hidden_size, out_features=self.output_size)\n",
    "\n",
    "    def forward(self, x: torch.Tensor) -> torch.Tensor:\n",
    "        # compute the output of the input layer\n",
    "        x, log_prior, log_posterior = self.input_layer(x)\n",
    "        x = F.relu(x)\n",
    "\n",
    "        # compute the output of the hidden layer\n",
    "        x, log_prior, log_posterior = self.hidden_layer(x)\n",
    "        x = F.relu(x)\n",
    "\n",
    "        # compute the output of the output layer\n",
    "        x, log_prior, log_posterior = self.output_layer(x)\n",
    "\n",
    "        return x, log_prior, log_posterior\n",
    "\n",
    "    def predict(self, x: torch.Tensor) -> torch.Tensor:\n",
    "        # compute the output of the network\n",
    "        x, _, _ = self.forward(x)\n",
    "\n",
    "        # compute the class probabilities\n",
    "        x = F.softmax(x, dim=1)\n",
    "\n",
    "        return x\n",
    "\n",
    "    def predict_class(self, x: torch.Tensor) -> torch.Tensor:\n",
    "        # compute the class probabilities\n",
    "        x = self.predict(x)\n",
    "\n",
    "        # compute the class predictions\n",
    "        x = x.argmax(dim=1)\n",
    "\n",
    "        return x\n",
    "\n",
    "\n",
    "# create the Bayesian Neural Network\n",
    "model = Bayesian_Neural_Network(input_size=28*28, hidden_size=100, output_size=10)\n",
    "\n",
    "# create the optimizer\n",
    "optimizer = torch.optim.Adam(model.parameters(), lr=0.001)\n",
    "\n",
    "# create the loss function\n",
    "loss_fn = nn.CrossEntropyLoss()\n",
    "\n",
    "# train the model\n",
    "epochs = 15\n",
    "progress_bar = tqdm.trange(epochs)\n",
    "\n",
    "for epoch in progress_bar:\n",
    "    for x, y in train_loader:\n",
    "        # reshape the input\n",
    "        x = x.view(-1, 28*28)\n",
    "\n",
    "        # compute the output of the network\n",
    "        y_hat, log_prior, log_posterior = model(x)\n",
    "\n",
    "        # compute the loss\n",
    "        loss = loss_fn(y_hat, y) - log_prior + log_posterior\n",
    "\n",
    "        # compute the gradients\n",
    "        loss.backward()\n",
    "\n",
    "        # update the parameters\n",
    "        optimizer.step()\n",
    "\n",
    "        # reset the gradients\n",
    "        optimizer.zero_grad()\n",
    "\n",
    "    # compute the accuracy\n",
    "    accuracy = (model.predict_class(x) == y).float().mean()\n",
    "\n",
    "    # update the progress bar\n",
    "    progress_bar.set_description(f\"Epoch: {epoch+1}, Loss: {loss.item():.2f}, Accuracy: {accuracy:.2f}\")\n",
    "\n",
    "\n"
   ]
  },
  {
   "cell_type": "code",
   "execution_count": 49,
   "metadata": {},
   "outputs": [
    {
     "name": "stdout",
     "output_type": "stream",
     "text": [
      "Hello World\n"
     ]
    }
   ],
   "source": [
    "# some changes\n",
    "print(\"Hello World\")"
   ]
  },
  {
   "cell_type": "code",
   "execution_count": null,
   "metadata": {},
   "outputs": [],
   "source": [
    "class Conv_Layer(nn.Conv2d):\n",
    "    \"\"\"\n",
    "    Bayesian Convolutional Layer that will be used as a building block for the Bayesian Neural Network\n",
    "    https://github.com/ratschlab/bnn_priors/blob/main/bnn_priors/models/layers.py\n",
    "    \"\"\"\n",
    "    def __init__(self, in_channels: int, out_channels: int, kernel_size: int, stride: int = 1, padding: int = 0, bias: bool = True):\n",
    "        super(Conv_Layer, self).__init__()\n",
    "        pass"
   ]
  },
  {
   "cell_type": "code",
   "execution_count": null,
   "metadata": {},
   "outputs": [],
   "source": [
    "class Bayesian_FCN(nn.Module):\n",
    "    \"\"\"\n",
    "    Bayesian Fully Connected Neural Network\n",
    "    https://arxiv.org/pdf/2102.06571.pdf\n",
    "    https://github.com/ratschlab/bnn_priors/blob/main/bnn_priors/models/dense_nets.py\n",
    "    \"\"\"\n",
    "    def __init__(self, input_size: int, output_size: int, hidden_sizes: list, activation: str = 'relu'):\n",
    "        super(Bayesian_FCN, self).__init__()\n",
    "        pass\n",
    "\n",
    "    def forward(self, x: torch.Tensor) -> torch.Tensor:\n",
    "        pass\n",
    "\n",
    "    def sample_elbo(self, input: torch.Tensor, target: torch.Tensor, samples: int = 1, beta: float = 1.0) -> torch.Tensor:\n",
    "        pass\n",
    "\n",
    "    def sample_predict(self, input: torch.Tensor, samples: int = 1) -> torch.Tensor:\n",
    "        pass"
   ]
  },
  {
   "cell_type": "code",
   "execution_count": null,
   "metadata": {},
   "outputs": [],
   "source": [
    "class Bayesian_CNN(nn.Module):\n",
    "    \"\"\"\n",
    "    Bayesian Convolutional Neural Network\n",
    "    https://github.com/ratschlab/bnn_priors/blob/main/bnn_priors/models/conv_nets.py\n",
    "    https://arxiv.org/pdf/2102.06571.pdf\n",
    "\n",
    "    \"\"\"\n",
    "    def __init__(self, input_size: int, output_size: int, hidden_sizes: list, activation: str = 'relu'):\n",
    "        super(Bayesian_CNN, self).__init__()\n",
    "        pass\n",
    "\n",
    "    def forward(self, x: torch.Tensor) -> torch.Tensor:\n",
    "        pass\n",
    "\n",
    "    def sample_elbo(self, input: torch.Tensor, target: torch.Tensor, samples: int = 1, beta: float = 1.0) -> torch.Tensor:\n",
    "        pass\n",
    "\n",
    "    def sample_predict(self, input: torch.Tensor, samples: int = 1) -> torch.Tensor:\n",
    "        pass"
   ]
  },
  {
   "cell_type": "code",
   "execution_count": null,
   "metadata": {},
   "outputs": [],
   "source": []
  }
 ],
 "metadata": {
  "kernelspec": {
   "display_name": "base",
   "language": "python",
   "name": "python3"
  },
  "language_info": {
   "codemirror_mode": {
    "name": "ipython",
    "version": 3
   },
   "file_extension": ".py",
   "mimetype": "text/x-python",
   "name": "python",
   "nbconvert_exporter": "python",
   "pygments_lexer": "ipython3",
   "version": "3.8.3"
  },
  "vscode": {
   "interpreter": {
    "hash": "9412b45e6a57aa9914730508726d49801d3b2c579f461e1fb13c705887a7b1f6"
   }
  }
 },
 "nbformat": 4,
 "nbformat_minor": 4
}
