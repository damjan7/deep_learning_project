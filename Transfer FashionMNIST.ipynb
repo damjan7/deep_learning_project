{
 "cells": [
  {
   "cell_type": "code",
   "execution_count": 1,
   "metadata": {},
   "outputs": [],
   "source": [
    "import numpy as np\n",
    "import torch\n",
    "import torch.nn as nn\n",
    "import torchvision\n",
    "from torchvision import datasets, transforms\n",
    "from torch.utils.data import DataLoader\n",
    "from torch.distributions import Normal\n",
    "from torch.utils.data import Subset\n",
    "import torch.nn.functional as F\n",
    "import matplotlib.pyplot as plt\n",
    "import random\n",
    "from torch.distributions import Categorical, Normal, StudentT\n",
    "import torch.distributions as dist\n",
    "from torch.optim import SGD\n",
    "from collections import deque\n",
    "from tqdm import trange\n",
    "import tqdm\n",
    "import copy"
   ]
  },
  {
   "cell_type": "code",
   "execution_count": 2,
   "metadata": {},
   "outputs": [],
   "source": [
    "from data import *\n",
    "from models import *"
   ]
  },
  {
   "cell_type": "code",
   "execution_count": 3,
   "metadata": {},
   "outputs": [
    {
     "name": "stdout",
     "output_type": "stream",
     "text": [
      "Train data size:  60000\n",
      "Test data size:  10000\n"
     ]
    },
    {
     "name": "stderr",
     "output_type": "stream",
     "text": [
      "C:\\Users\\jorge\\AppData\\Local\\Packages\\PythonSoftwareFoundation.Python.3.8_qbz5n2kfra8p0\\LocalCache\\local-packages\\Python38\\site-packages\\torchvision\\datasets\\mnist.py:498: UserWarning: The given NumPy array is not writeable, and PyTorch does not support non-writeable tensors. This means you can write to the underlying (supposedly non-writeable) NumPy array using the tensor. You may want to copy the array to protect its data or make it writeable before converting it to a tensor. This type of warning will be suppressed for the rest of this program. (Triggered internally at  ..\\torch\\csrc\\utils\\tensor_numpy.cpp:180.)\n",
      "  return torch.from_numpy(parsed.astype(m[2], copy=False)).view(*s)\n"
     ]
    }
   ],
   "source": [
    "# Load MNIST dataset with specified transforms\n",
    "# always use ToTensor() as first transform\n",
    "# possible transforms: RandomRotation, RandomCrop, GaussianBlur\n",
    "# avoid Normalize (already done), RandomHorizontalFlip (for MNIST), RandomVerticalFlip (for MNIST)\n",
    "transform = tr.Compose([tr.ToTensor()])\n",
    "augmentations = tr.Compose([tr.RandomRotation(15)])\n",
    "\n",
    "dataset = Data(\"FashionMNIST\", augmentations = None)\n",
    "train_data, test_data = dataset.get_data()\n",
    "\n",
    "# Print some information about the dataset\n",
    "print(\"Train data size: \", len(train_data))\n",
    "print(\"Test data size: \", len(test_data))\n",
    "\n",
    "# Create data loaders\n",
    "train_loader = DataLoader(train_data, batch_size=128, shuffle=True)\n",
    "test_loader = DataLoader(test_data, batch_size=128, shuffle=False)"
   ]
  },
  {
   "cell_type": "code",
   "execution_count": 4,
   "metadata": {},
   "outputs": [
    {
     "name": "stdout",
     "output_type": "stream",
     "text": [
      "tensor(9)\n"
     ]
    },
    {
     "data": {
      "image/png": "[encoded data removed]",
      "text/plain": [
       "<Figure size 640x480 with 1 Axes>"
      ]
     },
     "metadata": {},
     "output_type": "display_data"
    }
   ],
   "source": [
    "# display some images\n",
    "image_index = 0\n",
    "feature = dataset.trainset[image_index][0]\n",
    "# feature = dataset.trainset_extra[image_index][0] # to display images from the augmented dataset\n",
    "label = train_data[image_index][1]\n",
    "print(label)\n",
    "plt.imshow(feature.squeeze(), cmap='gray')\n",
    "plt.show()"
   ]
  },
  {
   "cell_type": "code",
   "execution_count": 29,
   "metadata": {},
   "outputs": [
    {
     "name": "stdout",
     "output_type": "stream",
     "text": [
      "Bayesian_Neural_Network(\n",
      "  (layers): ModuleList(\n",
      "    (0): Linear_Layer(\n",
      "      (weight_prior): MultivariateDiagonalGaussian()\n",
      "      (bias_prior): MultivariateDiagonalGaussian()\n",
      "      (weight_posterior): MultivariateDiagonalGaussian()\n",
      "      (bias_posterior): MultivariateDiagonalGaussian()\n",
      "    )\n",
      "    (1): Linear_Layer(\n",
      "      (weight_prior): MultivariateDiagonalGaussian()\n",
      "      (bias_prior): MultivariateDiagonalGaussian()\n",
      "      (weight_posterior): MultivariateDiagonalGaussian()\n",
      "      (bias_posterior): MultivariateDiagonalGaussian()\n",
      "    )\n",
      "  )\n",
      "  (activation): ReLU(inplace=True)\n",
      ")\n"
     ]
    },
    {
     "name": "stderr",
     "output_type": "stream",
     "text": [
      "  0%|          | 0/10 [00:00<?, ?it/s]"
     ]
    },
    {
     "name": "stdout",
     "output_type": "stream",
     "text": [
      "Epoch: 0 | Batch: 0 | Loss: -12.70931339263916, accuracy: 0.0703125\n",
      "Epoch: 0 | Batch: 100 | Loss: -14.823896408081055, accuracy: 0.109375\n",
      "Epoch: 0 | Batch: 200 | Loss: -10.477163314819336, accuracy: 0.0859375\n",
      "Epoch: 0 | Batch: 300 | Loss: -12.029365539550781, accuracy: 0.125\n",
      "Epoch: 0 | Batch: 400 | Loss: -19.094501495361328, accuracy: 0.203125\n"
     ]
    },
    {
     "name": "stderr",
     "output_type": "stream",
     "text": [
      " 10%|█         | 1/10 [00:19<02:51, 19.09s/it]"
     ]
    },
    {
     "name": "stdout",
     "output_type": "stream",
     "text": [
      "Epoch: 1 | Batch: 0 | Loss: -20.439247131347656, accuracy: 0.171875\n",
      "Epoch: 1 | Batch: 100 | Loss: -24.715211868286133, accuracy: 0.2109375\n",
      "Epoch: 1 | Batch: 200 | Loss: -26.704917907714844, accuracy: 0.1171875\n",
      "Epoch: 1 | Batch: 300 | Loss: -33.936302185058594, accuracy: 0.3125\n",
      "Epoch: 1 | Batch: 400 | Loss: -30.180419921875, accuracy: 0.25\n"
     ]
    },
    {
     "name": "stderr",
     "output_type": "stream",
     "text": [
      " 20%|██        | 2/10 [00:38<02:33, 19.13s/it]"
     ]
    },
    {
     "name": "stdout",
     "output_type": "stream",
     "text": [
      "Epoch: 2 | Batch: 0 | Loss: -27.852548599243164, accuracy: 0.21875\n",
      "Epoch: 2 | Batch: 100 | Loss: -33.46372604370117, accuracy: 0.3203125\n",
      "Epoch: 2 | Batch: 200 | Loss: -41.19282531738281, accuracy: 0.3203125\n",
      "Epoch: 2 | Batch: 300 | Loss: -44.96277618408203, accuracy: 0.3828125\n",
      "Epoch: 2 | Batch: 400 | Loss: -43.881683349609375, accuracy: 0.28125\n"
     ]
    },
    {
     "name": "stderr",
     "output_type": "stream",
     "text": [
      " 30%|███       | 3/10 [00:58<02:17, 19.67s/it]"
     ]
    },
    {
     "name": "stdout",
     "output_type": "stream",
     "text": [
      "Epoch: 3 | Batch: 0 | Loss: -49.911441802978516, accuracy: 0.3828125\n",
      "Epoch: 3 | Batch: 100 | Loss: -38.36311340332031, accuracy: 0.2421875\n",
      "Epoch: 3 | Batch: 200 | Loss: -58.173980712890625, accuracy: 0.5\n",
      "Epoch: 3 | Batch: 300 | Loss: -55.2803955078125, accuracy: 0.421875\n",
      "Epoch: 3 | Batch: 400 | Loss: -50.337772369384766, accuracy: 0.3984375\n"
     ]
    },
    {
     "name": "stderr",
     "output_type": "stream",
     "text": [
      " 40%|████      | 4/10 [01:18<01:58, 19.83s/it]"
     ]
    },
    {
     "name": "stdout",
     "output_type": "stream",
     "text": [
      "Epoch: 4 | Batch: 0 | Loss: -58.936126708984375, accuracy: 0.484375\n",
      "Epoch: 4 | Batch: 100 | Loss: -54.13908767700195, accuracy: 0.4765625\n",
      "Epoch: 4 | Batch: 200 | Loss: -50.87129211425781, accuracy: 0.3515625\n",
      "Epoch: 4 | Batch: 300 | Loss: -63.838584899902344, accuracy: 0.5390625\n",
      "Epoch: 4 | Batch: 400 | Loss: -66.62382507324219, accuracy: 0.5\n"
     ]
    },
    {
     "name": "stderr",
     "output_type": "stream",
     "text": [
      " 50%|█████     | 5/10 [01:38<01:40, 20.01s/it]"
     ]
    },
    {
     "name": "stdout",
     "output_type": "stream",
     "text": [
      "Epoch: 5 | Batch: 0 | Loss: -72.25790405273438, accuracy: 0.5546875\n",
      "Epoch: 5 | Batch: 100 | Loss: -66.5965805053711, accuracy: 0.484375\n",
      "Epoch: 5 | Batch: 200 | Loss: -63.221500396728516, accuracy: 0.484375\n",
      "Epoch: 5 | Batch: 300 | Loss: -77.85186004638672, accuracy: 0.546875\n",
      "Epoch: 5 | Batch: 400 | Loss: -64.8832778930664, accuracy: 0.546875\n"
     ]
    },
    {
     "name": "stderr",
     "output_type": "stream",
     "text": [
      " 60%|██████    | 6/10 [01:59<01:20, 20.09s/it]"
     ]
    },
    {
     "name": "stdout",
     "output_type": "stream",
     "text": [
      "Epoch: 6 | Batch: 0 | Loss: -76.20370483398438, accuracy: 0.6328125\n",
      "Epoch: 6 | Batch: 100 | Loss: -73.27842712402344, accuracy: 0.5390625\n",
      "Epoch: 6 | Batch: 200 | Loss: -70.29612731933594, accuracy: 0.5390625\n",
      "Epoch: 6 | Batch: 300 | Loss: -76.53894805908203, accuracy: 0.609375\n",
      "Epoch: 6 | Batch: 400 | Loss: -67.82331085205078, accuracy: 0.5625\n"
     ]
    },
    {
     "name": "stderr",
     "output_type": "stream",
     "text": [
      " 70%|███████   | 7/10 [02:19<01:00, 20.06s/it]"
     ]
    },
    {
     "name": "stdout",
     "output_type": "stream",
     "text": [
      "Epoch: 7 | Batch: 0 | Loss: -74.81932067871094, accuracy: 0.59375\n",
      "Epoch: 7 | Batch: 100 | Loss: -78.6496353149414, accuracy: 0.609375\n",
      "Epoch: 7 | Batch: 200 | Loss: -72.25154876708984, accuracy: 0.578125\n",
      "Epoch: 7 | Batch: 300 | Loss: -74.00775146484375, accuracy: 0.59375\n",
      "Epoch: 7 | Batch: 400 | Loss: -82.50737762451172, accuracy: 0.5859375\n"
     ]
    },
    {
     "name": "stderr",
     "output_type": "stream",
     "text": [
      " 80%|████████  | 8/10 [02:39<00:40, 20.06s/it]"
     ]
    },
    {
     "name": "stdout",
     "output_type": "stream",
     "text": [
      "Epoch: 8 | Batch: 0 | Loss: -86.12056732177734, accuracy: 0.7109375\n",
      "Epoch: 8 | Batch: 100 | Loss: -77.58885955810547, accuracy: 0.5625\n",
      "Epoch: 8 | Batch: 200 | Loss: -81.9466552734375, accuracy: 0.6796875\n",
      "Epoch: 8 | Batch: 300 | Loss: -84.63333129882812, accuracy: 0.65625\n",
      "Epoch: 8 | Batch: 400 | Loss: -83.11550903320312, accuracy: 0.6484375\n"
     ]
    },
    {
     "name": "stderr",
     "output_type": "stream",
     "text": [
      " 90%|█████████ | 9/10 [02:59<00:20, 20.06s/it]"
     ]
    },
    {
     "name": "stdout",
     "output_type": "stream",
     "text": [
      "Epoch: 9 | Batch: 0 | Loss: -78.94570922851562, accuracy: 0.578125\n",
      "Epoch: 9 | Batch: 100 | Loss: -86.2344970703125, accuracy: 0.6796875\n",
      "Epoch: 9 | Batch: 200 | Loss: -71.75973510742188, accuracy: 0.546875\n",
      "Epoch: 9 | Batch: 300 | Loss: -78.02259063720703, accuracy: 0.5625\n",
      "Epoch: 9 | Batch: 400 | Loss: -79.94757843017578, accuracy: 0.640625\n"
     ]
    },
    {
     "name": "stderr",
     "output_type": "stream",
     "text": [
      "100%|██████████| 10/10 [03:20<00:00, 20.05s/it]\n"
     ]
    }
   ],
   "source": [
    "# Temperature for the posterior\n",
    "Temperature_posterior = 1\n",
    "\n",
    "# create the Bayesian Neural Network\n",
    "model = Bayesian_Neural_Network(input_dim = 28*28, output_dim = 10, hidden_dims = [100], Temperature = Temperature_posterior)\n",
    "print(model)\n",
    "\n",
    "# define the optimizer\n",
    "optimizer = torch.optim.Adam(model.parameters(), lr = 0.005)\n",
    "scheduler = torch.optim.lr_scheduler.StepLR(optimizer, step_size = 1, gamma = 0.99)\n",
    "\n",
    "# train the model\n",
    "epochs = 10\n",
    "num_samples = 5\n",
    "\n",
    "for epoch in tqdm.trange(epochs):\n",
    "    num_batches = len(train_loader)\n",
    "    for i, (x, y) in enumerate(train_loader):\n",
    "        # zero the gradients\n",
    "        optimizer.zero_grad()\n",
    "\n",
    "        # reshape the data\n",
    "        x = x.view(-1, 28*28)\n",
    "\n",
    "        # save weights\n",
    "        weights = []\n",
    "\n",
    "        # reset loss\n",
    "        loss = torch.tensor(0.0)\n",
    "\n",
    "        # forward pass\n",
    "        for e in range(num_samples):\n",
    "            output, kl_divergence, w = model(x)\n",
    "            loss += (F.nll_loss(F.softmax(output, dim = 1), y, reduction = \"sum\") + kl_divergence/num_batches)/num_samples\n",
    "        \n",
    "        weights.append(w)\n",
    "            \n",
    "\n",
    "        # backward pass\n",
    "        loss.backward(retain_graph=True)\n",
    "        optimizer.step()\n",
    "        \n",
    "        # accuracy\n",
    "        acc = (output.argmax(dim = 1) == y).float().mean()\n",
    "\n",
    "        # print the loss\n",
    "        if i % 100 == 0:\n",
    "            print(f\"Epoch: {epoch} | Batch: {i} | Loss: {loss.item()}, accuracy: {acc.item()}\")\n",
    "            scheduler.step()"
   ]
  },
  {
   "cell_type": "code",
   "execution_count": 30,
   "metadata": {},
   "outputs": [
    {
     "name": "stdout",
     "output_type": "stream",
     "text": [
      "Accuracy: 0.6341999769210815\n",
      "tensor([[9, 9],\n",
      "        [2, 2],\n",
      "        [1, 1],\n",
      "        ...,\n",
      "        [8, 8],\n",
      "        [1, 1],\n",
      "        [7, 5]])\n"
     ]
    },
    {
     "name": "stderr",
     "output_type": "stream",
     "text": [
      "C:\\Users\\jorge\\AppData\\Local\\Temp\\ipykernel_9988\\2444513940.py:12: UserWarning: To copy construct from a tensor, it is recommended to use sourceTensor.clone().detach() or sourceTensor.clone().detach().requires_grad_(True), rather than torch.tensor(sourceTensor).\n",
      "  print(torch.hstack((torch.tensor(predicted_class).unsqueeze(1), torch.tensor(y_test).unsqueeze(1))))\n"
     ]
    }
   ],
   "source": [
    "# predict class probabilities for the test data\n",
    "x_test = test_data[:][0].clone().detach()\n",
    "y_test = test_data[:][1].clone().detach()\n",
    "\n",
    "predicted_probs = model.predict_probs(x_test, 100)\n",
    "top_probs = torch.max(predicted_probs, axis = 1)\n",
    "predicted_class = torch.argmax(predicted_probs, axis = 1)\n",
    "\n",
    "accuracy = torch.sum(predicted_class == y_test) / len(y_test)\n",
    "print(f\"Accuracy: {accuracy}\")\n",
    "\n",
    "print(torch.hstack((torch.tensor(predicted_class).unsqueeze(1), torch.tensor(y_test).unsqueeze(1))))"
   ]
  },
  {
   "cell_type": "code",
   "execution_count": 15,
   "metadata": {},
   "outputs": [
    {
     "data": {
      "text/plain": [
       "tensor(0.2628)"
      ]
     },
     "execution_count": 15,
     "metadata": {},
     "output_type": "execute_result"
    }
   ],
   "source": [
    "import torchmetrics\n",
    "from torchmetrics.functional import calibration_error\n",
    "\n",
    "calibration_error(predicted_probs, y_test, n_bins = 30, task = \"multiclass\", norm=\"l1\", num_classes=10)"
   ]
  },
  {
   "cell_type": "code",
   "execution_count": 16,
   "metadata": {},
   "outputs": [
    {
     "data": {
      "image/png": "[encoded data removed]",
      "text/plain": [
       "<Figure size 640x480 with 1 Axes>"
      ]
     },
     "metadata": {},
     "output_type": "display_data"
    },
    {
     "data": {
      "image/png": "[encoded data removed]",
      "text/plain": [
       "<Figure size 640x480 with 1 Axes>"
      ]
     },
     "metadata": {},
     "output_type": "display_data"
    },
    {
     "data": {
      "image/png": "[encoded data removed]",
      "text/plain": [
       "<Figure size 640x480 with 1 Axes>"
      ]
     },
     "metadata": {},
     "output_type": "display_data"
    }
   ],
   "source": [
    "# plot the distribution of the model parameters\n",
    "\n",
    "# get all parameters in a vector\n",
    "params = torch.cat([p.view(-1) for p in model.parameters()])\n",
    "plt.hist(params.detach().numpy(), bins = 100)\n",
    "plt.title(\"Distribution of the model parameters\")\n",
    "plt.show()\n",
    "\n",
    "# plot the distribution of all the mu weights\n",
    "mu_weights = torch.cat([p[1].view(-1) for p in model.named_parameters() if \"mu\" in p[0]])\n",
    "mean = mu_weights.mean()\n",
    "std = mu_weights.std()\n",
    "plt.hist(mu_weights.detach().numpy(), bins = 100)\n",
    "plt.title(f\"Distribution of the mu weights, mean: {mean.item():.4f}, std: {std.item():.4f}\")\n",
    "plt.show()\n",
    "\n",
    "# plot the distribution of all the rho weights\n",
    "rho_weights = torch.cat([p[1].view(-1) for p in model.named_parameters() if \"rho\" in p[0]])\n",
    "mean = rho_weights.mean()\n",
    "std = rho_weights.std()\n",
    "plt.hist(rho_weights.detach().numpy(), bins = 100)\n",
    "plt.title(f\"Distribution of the rho weights, mean: {mean.item():.4f}, std: {std.item():.4f}\")\n",
    "plt.show()\n"
   ]
  },
  {
   "cell_type": "code",
   "execution_count": 31,
   "metadata": {},
   "outputs": [
    {
     "name": "stdout",
     "output_type": "stream",
     "text": [
      "torch.Size([78500])\n",
      "torch.Size([1010])\n"
     ]
    }
   ],
   "source": [
    "for w in weights:\n",
    "    print(w[0].shape)\n",
    "    print(w[1].shape)"
   ]
  },
  {
   "cell_type": "code",
   "execution_count": 32,
   "metadata": {},
   "outputs": [
    {
     "name": "stdout",
     "output_type": "stream",
     "text": [
      "1\n"
     ]
    },
    {
     "data": {
      "image/png": "[encoded data removed]",
      "text/plain": [
       "<Figure size 640x480 with 1 Axes>"
      ]
     },
     "metadata": {},
     "output_type": "display_data"
    }
   ],
   "source": [
    "# flatten the weights\n",
    "print(len(weights))\n",
    "weight_list = torch.cat([torch.cat(w).view(-1) for w in weights])\n",
    "\n",
    "# plot the distribution of the weights\n",
    "plt.hist(weight_list.detach().numpy(), bins = 100)\n",
    "plt.title(\"Distribution of the weights\")\n",
    "plt.show()"
   ]
  },
  {
   "cell_type": "code",
   "execution_count": null,
   "metadata": {},
   "outputs": [],
   "source": []
  }
 ],
 "metadata": {
  "kernelspec": {
   "display_name": "Python 3",
   "language": "python",
   "name": "python3"
  },
  "language_info": {
   "codemirror_mode": {
    "name": "ipython",
    "version": 3
   },
   "file_extension": ".py",
   "mimetype": "text/x-python",
   "name": "python",
   "nbconvert_exporter": "python",
   "pygments_lexer": "ipython3",
   "version": "3.8.10 (tags/v3.8.10:3d8993a, May  3 2021, 11:48:03) [MSC v.1928 64 bit (AMD64)]"
  },
  "orig_nbformat": 4,
  "vscode": {
   "interpreter": {
    "hash": "27f3840d2a8e92b9098d5d1f2625c1fbd9e0739b6ace23f817bf68ad3a8d77b4"
   }
  }
 },
 "nbformat": 4,
 "nbformat_minor": 2
}
