{
 "cells": [
  {
   "cell_type": "code",
   "execution_count": 5,
   "metadata": {},
   "outputs": [],
   "source": [
    "import numpy as np\n",
    "import torch\n",
    "import torch.nn as nn\n",
    "import torchvision\n",
    "from torchvision import datasets, transforms\n",
    "from torch.utils.data import DataLoader\n",
    "from torch.distributions import Normal\n",
    "from torch.utils.data import Subset\n",
    "import torch.nn.functional as F\n",
    "import matplotlib.pyplot as plt\n",
    "import random\n",
    "from torch.distributions import Categorical, Normal, StudentT\n",
    "import torch.distributions as dist\n",
    "from torch.optim import SGD\n",
    "from collections import deque\n",
    "from tqdm import trange\n",
    "import tqdm\n",
    "import copy\n",
    "\n"
   ]
  },
  {
   "cell_type": "code",
   "execution_count": 6,
   "metadata": {},
   "outputs": [],
   "source": [
    "# MNIST dataset\n",
    "transform = transforms.Compose([torchvision.transforms.ToTensor()])\n",
    "train_set = datasets.MNIST(root='./data', train=True, download=True, transform=transform)\n",
    "test_set = datasets.MNIST(root='./data', train=False, download=True, transform=transform)"
   ]
  },
  {
   "cell_type": "code",
   "execution_count": 5,
   "metadata": {},
   "outputs": [],
   "source": [
    "# subsample from trainset\n",
    "n_subsamples_train = 5000 # size of subset\n",
    "sub_train_idx = random.sample(range(60000),n_subsamples_train) # 60'000 is train size in MNSIT\n",
    "sub_train_set = Subset(train_set, sub_train_idx)\n",
    "\n",
    "# subsample from testset\n",
    "n_subsamples_test = 1000  # size of subset\n",
    "sub_test_idx = random.sample(range(10000), n_subsamples_test) # 10'000 is test size in MNIST\n",
    "sub_test_set = Subset(test_set, sub_test_idx)\n",
    "\n",
    "# load\n",
    "#sub_train_dataloader = DataLoader(sub_train_set, batch_size=64, shuffle=True)\n",
    "sub_test_dataloader = DataLoader(sub_test_set, batch_size=64, shuffle=False)\n"
   ]
  },
  {
   "cell_type": "code",
   "execution_count": 6,
   "metadata": {},
   "outputs": [
    {
     "name": "stdout",
     "output_type": "stream",
     "text": [
      "9\n"
     ]
    },
    {
     "data": {
      "image/png": "[encoded data removed]",
      "text/plain": [
       "<Figure size 640x480 with 1 Axes>"
      ]
     },
     "metadata": {},
     "output_type": "display_data"
    },
    {
     "name": "stdout",
     "output_type": "stream",
     "text": [
      "9\n"
     ]
    },
    {
     "data": {
      "image/png": "[encoded data removed]",
      "text/plain": [
       "<Figure size 640x480 with 1 Axes>"
      ]
     },
     "metadata": {},
     "output_type": "display_data"
    }
   ],
   "source": [
    "# Quick Check \n",
    "feature_test = sub_test_set[999][0]\n",
    "label_test = sub_test_set[999][1]\n",
    "print(label_test)\n",
    "plt.imshow(feature_test.squeeze(), cmap='hot')\n",
    "plt.show()\n",
    "\n",
    "\n",
    "feature_train = sub_train_set[1999][0]\n",
    "label_train = sub_train_set[1999][1]\n",
    "print(label_train)\n",
    "plt.imshow(feature_train.squeeze(), cmap='hot')\n",
    "plt.show()\n"
   ]
  },
  {
   "attachments": {},
   "cell_type": "markdown",
   "metadata": {},
   "source": [
    "    Model Part Krause"
   ]
  },
  {
   "cell_type": "code",
   "execution_count": 7,
   "metadata": {},
   "outputs": [],
   "source": [
    "# Create Class for Priors\n",
    "\n",
    "class Prior:\n",
    "    def __init__(self):\n",
    "        pass\n",
    "    def sample(self,n):\n",
    "        pass\n",
    "    def log_likelihood(self,values):\n",
    "        pass"
   ]
  },
  {
   "cell_type": "code",
   "execution_count": 8,
   "metadata": {},
   "outputs": [],
   "source": [
    "# Create Gaussian Prior\n",
    "# Change: to a subclass of Prior\n",
    "\n",
    "class IsotropicGaussian(Prior):\n",
    "    def __init__(self, mean=0, std=1):\n",
    "        super(IsotropicGaussian,self).__init__()\n",
    "        self.mean = mean\n",
    "        self.std = std\n",
    "\n",
    "    def sample(self, n):\n",
    "        return np.random.normal(self.mean, self.std, size=n)\n",
    "\n",
    "    def log_likelihood(self, weights):\n",
    "        return Normal(self.mean, self.std).log_prob(torch.tensor(weights)).sum()\n"
   ]
  },
  {
   "cell_type": "code",
   "execution_count": 18,
   "metadata": {},
   "outputs": [],
   "source": [
    "# Fully Connected Neural Network \n",
    "\n",
    "class FullyConnectedNN(nn.Module):\n",
    "    def __init__(self, in_features = 28*28, out_features = 10, hidden_units = 100, hidden_layers = 3):\n",
    "        super().__init__()\n",
    "        self.hidden_layers = nn.ModuleList()\n",
    "        self.hidden_layers.append(nn.Linear(in_features, hidden_units))\n",
    "        for i in range(hidden_layers - 1):\n",
    "            self.hidden_layers.append(nn.Linear(hidden_units, hidden_units))\n",
    "        self.output_layer = nn.Linear(hidden_units, out_features)\n",
    "\n",
    "    def forward(self, x):\n",
    "        x = x.reshape(-1,28*28)\n",
    "        for layer in self.hidden_layers:\n",
    "            x = F.relu(layer(x))\n",
    "        class_probs = self.output_layer(x)\n",
    "        return class_probs\n",
    "        "
   ]
  },
  {
   "cell_type": "code",
   "execution_count": 10,
   "metadata": {},
   "outputs": [],
   "source": [
    "# Convolutional Neural Network \n",
    "\n",
    "class ConvolutionalNN(nn.Module):\n",
    "    def __init__(self, in_features = 28*28, out_features = 10):\n",
    "\n",
    "    # define two convolutional layers with 64 channels\n",
    "        self.conv1 = nn.Conv2d(in_channels=2000, out_channels=64, kernel_size=3, stride=1, padding=1)\n",
    "        self.conv2 = nn.Conv2d(in_channels=64, out_channels=64, kernel_size=3, stride=1, padding=1)\n",
    "        \n",
    "        # define two max-pooling layers\n",
    "        self.maxpool1 = nn.MaxPool2d(kernel_size=2)\n",
    "        self.maxpool2 = nn.MaxPool2d(kernel_size=2)\n",
    "        \n",
    "        # define a fully-connected layer\n",
    "        self.fc = nn.Linear(in_features=3*3*64, out_features=out_features)\n",
    "        \n",
    "        # define the ReLU nonlinearity\n",
    "        self.activ = nn.ReLU()\n",
    "\n",
    "    def forward(self, x):\n",
    "        x = self.activ(self.maxpool1(self.activ(self.conv1(x))))\n",
    "        x = self.activ(self.maxpool2(self.activ(self.conv2(x))))\n",
    "        x = x.view(x.size(0), -1)\n",
    "        class_probs = self.fc(x)\n",
    "        return class_probs\n",
    "\n",
    "# DEBUG THIS \n",
    "        "
   ]
  },
  {
   "cell_type": "code",
   "execution_count": 12,
   "metadata": {},
   "outputs": [],
   "source": [
    "# Framework\n",
    "\n",
    "class Framework(object):\n",
    "    def __init__(self, training_set, *args, **kwargs):\n",
    "        \"\"\"\n",
    "        Basic Framework for your bayesian neural network.\n",
    "        SGLD will be based on this.\n",
    "        \"\"\"\n",
    "        self.train_set = training_set\n",
    "        self.print_interval = 64 # number of batches until updated metrics are displayed during training\n",
    "\n",
    "    def train(self):\n",
    "        raise NotImplementedError()\n",
    "\n",
    "    def predict(self, data_loader: torch.utils.data.DataLoader) -> np.ndarray:\n",
    "        \"\"\"\n",
    "        Predict the class probabilities using your trained model.\n",
    "        This method should return an (num_samples, 10) NumPy float array\n",
    "        such that the second dimension sums up to 1 for each row.\n",
    "\n",
    "        :param data_loader: Data loader yielding the samples to predict on\n",
    "        :return: (num_samples, 10) NumPy float array where the second dimension sums up to 1 for each row\n",
    "        \"\"\"\n",
    "        probability_batches = []\n",
    "        \n",
    "        for batch_x, _ in tqdm.tqdm(data_loader):\n",
    "            current_probabilities = self.predict_probabilities(batch_x).detach().numpy()\n",
    "            probability_batches.append(current_probabilities)\n",
    "\n",
    "        output = np.concatenate(probability_batches, axis=0)\n",
    "        assert isinstance(output, np.ndarray)\n",
    "        assert output.ndim == 2 and output.shape[1] == 10\n",
    "        assert np.allclose(np.sum(output, axis=1), 1.0)\n",
    "        return output\n",
    "\n",
    "    def predict_probabilities(self, x: torch.Tensor) -> torch.Tensor:\n",
    "        raise NotImplementedError()"
   ]
  },
  {
   "cell_type": "code",
   "execution_count": 13,
   "metadata": {},
   "outputs": [],
   "source": [
    "import torch\n",
    "import math\n",
    "import numpy as np\n",
    "from collections import OrderedDict\n",
    "from typing import Sequence, Optional, Callable, Tuple, Dict, Union\n",
    "import typing\n",
    "\n",
    "\n",
    "def dot(a, b):\n",
    "    \"return (a*b).sum().item()\"\n",
    "    return (a.view(-1) @ b.view(-1)).item()\n",
    "\n",
    "## Fortuin SGLD code\n",
    "\n",
    "\n",
    "class SGLD(torch.optim.Optimizer):\n",
    "    \"\"\"SGLD with momentum, preconditioning and diagnostics from Wenzel et al. 2020.\n",
    "    Args:\n",
    "        params (iterable): iterable of parameters to optimize or dicts defining\n",
    "            parameter groups\n",
    "        lr (float): learning rate\n",
    "        num_data (int): the number of data points in this learning task\n",
    "        momentum (float): momentum factor (default: 0)\n",
    "        temperature (float): Temperature for tempering the posterior.\n",
    "                             temperature=0 corresponds to SGD with momentum.\n",
    "        rmsprop_alpha: decay for the moving average of the squared gradients\n",
    "        rmsprop_eps: the regularizer parameter for the RMSProp update\n",
    "        raise_on_no_grad (bool): whether to complain if a parameter does not\n",
    "                                 have a gradient\n",
    "        raise_on_nan: whether to complain if a gradient is not all finite.\n",
    "    \"\"\"\n",
    "    def __init__(self, params: Sequence[Union[torch.nn.Parameter, Dict]], lr: float,\n",
    "                 num_data: int, momentum: float=0, temperature: float=1.,\n",
    "                 rmsprop_alpha: float=0.99, rmsprop_eps: float=1e-8,  # Wenzel et al. use 1e-7\n",
    "                 raise_on_no_grad: bool=True, raise_on_nan: bool=False):\n",
    "        assert lr >= 0 and num_data >= 0 and momentum >= 0 and temperature >= 0\n",
    "        defaults = dict(lr=lr, num_data=num_data, momentum=momentum,\n",
    "                        rmsprop_alpha=rmsprop_alpha, rmsprop_eps=rmsprop_eps,\n",
    "                        temperature=temperature)\n",
    "        super(SGLD, self).__init__(params, defaults)\n",
    "        self.raise_on_no_grad = raise_on_no_grad\n",
    "        self.raise_on_nan = raise_on_nan\n",
    "        # OK to call this one, but not `sample_momentum`, because\n",
    "        # `update_preconditioner` uses no random numbers.\n",
    "        self.update_preconditioner()\n",
    "        self._step_count = 0  # keep the `torch.optim.scheduler` happy\n",
    "\n",
    "    def _preconditioner_default(self, state, p) -> float:\n",
    "        try:\n",
    "            return state['preconditioner']\n",
    "        except KeyError:\n",
    "            v = state['preconditioner'] = 1.\n",
    "            return v\n",
    "\n",
    "    def delta_energy(self, a, b) -> float:\n",
    "        return math.inf\n",
    "\n",
    "    @torch.no_grad()\n",
    "    def sample_momentum(self, keep=0.0):\n",
    "        \"Sample the momenta for all the parameters\"\n",
    "        assert 0 <= keep and keep <= 1.\n",
    "        if keep == 1.:\n",
    "            return\n",
    "        for group in self.param_groups:\n",
    "            std = math.sqrt(group['temperature']*(1-keep))\n",
    "            for p in group['params']:\n",
    "                if keep == 0.0:\n",
    "                    self.state[p]['momentum_buffer'] = torch.randn_like(p).mul_(std)\n",
    "                else:\n",
    "                    self.state[p]['momentum_buffer'].mul_(math.sqrt(keep)).add_(torch.randn_like(p), alpha=std)\n",
    "\n",
    "    @torch.no_grad()\n",
    "    def step(self, closure: Optional[Callable[..., torch.Tensor]]=None,\n",
    "             calc_metrics=True, save_state=False):\n",
    "        assert save_state is False\n",
    "        return self._step_internal(self._update_group_fn, self._step_fn,\n",
    "                                   closure, calc_metrics=calc_metrics)\n",
    "    initial_step = step\n",
    "\n",
    "    @torch.no_grad()\n",
    "    def final_step(self, closure: Optional[Callable[..., torch.Tensor]]=None,\n",
    "                   calc_metrics=True, save_state=False):\n",
    "        assert save_state is False\n",
    "        return self._step_internal(self._update_group_fn, self._step_fn,\n",
    "                                   closure, calc_metrics=calc_metrics,\n",
    "                                   is_final=True)\n",
    "\n",
    "\n",
    "    def _step_internal(self, update_group_fn, step_fn, closure, **step_fn_kwargs):\n",
    "        loss = None\n",
    "        if closure is not None:\n",
    "            with torch.enable_grad():\n",
    "                loss = closure()\n",
    "        try:\n",
    "            for group in self.param_groups:\n",
    "                update_group_fn(group)\n",
    "                for p in group['params']:\n",
    "                    if p.grad is None:\n",
    "                        if self.raise_on_no_grad:\n",
    "                            raise RuntimeError(\n",
    "                                f\"No gradient for parameter with shape {p.shape}\")\n",
    "                        continue\n",
    "                    if self.raise_on_nan and not torch.isfinite(p.grad).all():\n",
    "                        raise ValueError(\n",
    "                            f\"Gradient of shape {p.shape} is not finite: {p.grad}\")\n",
    "                    step_fn(group, p, self.state[p], **step_fn_kwargs)\n",
    "\n",
    "        except KeyError as e:\n",
    "            if e.args[0] == \"momentum_buffer\":\n",
    "                raise RuntimeError(\"No 'momentum_buffer' stored in state. \"\n",
    "                                   \"Perhaps you forgot to call `sample_momentum`?\")\n",
    "            raise e\n",
    "        return loss\n",
    "\n",
    "    def _update_group_fn(self, g):\n",
    "        g['hn'] = math.sqrt(g['lr'] * g['num_data'])\n",
    "        g['h'] = math.sqrt(g['lr'] / g['num_data'])\n",
    "        g['noise_std'] = math.sqrt(2*(1 - g['momentum']) * g['temperature'])\n",
    "\n",
    "    def _step_fn(self, group, p, state, calc_metrics=True, is_final=False):\n",
    "        \"\"\"if is_final, do not change parameters or momentum\"\"\"\n",
    "        M_rsqrt = self._preconditioner_default(state, p)\n",
    "        d = p.numel()\n",
    "\n",
    "        # Update the momentum with the gradient\n",
    "        if group['momentum'] > 0:\n",
    "            momentum = state['momentum_buffer']\n",
    "            if calc_metrics:\n",
    "                # NOTE: the momentum is from the previous time step\n",
    "                state['est_temperature'] = dot(momentum, momentum) / d\n",
    "            if not is_final:\n",
    "                momentum.mul_(group['momentum']).add_(p.grad, alpha=-group['hn']*M_rsqrt)\n",
    "        else:\n",
    "            if not is_final:\n",
    "                momentum = p.grad.detach().mul(-group['hn']*M_rsqrt)\n",
    "            if calc_metrics:\n",
    "                # TODO: make the momentum be from the previous time step\n",
    "                state['est_temperature'] = dot(momentum, momentum) / d\n",
    "\n",
    "        if not is_final:\n",
    "            # Add noise to momentum\n",
    "            if group['temperature'] > 0:\n",
    "                momentum.add_(torch.randn_like(momentum), alpha=group['noise_std'])\n",
    "\n",
    "        if calc_metrics:\n",
    "            # NOTE: p and p.grad are from the same time step\n",
    "            state['est_config_temp'] = dot(p, p.grad) * (group['num_data']/d)\n",
    "\n",
    "        if not is_final:\n",
    "            # Take the gradient step\n",
    "            p.add_(momentum, alpha=group['h']*M_rsqrt)\n",
    "\n",
    "            # RMSProp moving average\n",
    "            alpha = group['rmsprop_alpha']\n",
    "            state['square_avg'].mul_(alpha).addcmul_(p.grad, p.grad, value=1 - alpha)\n",
    "\n",
    "    @torch.no_grad()\n",
    "    def update_preconditioner(self):\n",
    "        \"\"\"Updates the preconditioner for each parameter `state['preconditioner']` using\n",
    "        the estimated `state['square_avg']`.\n",
    "        \"\"\"\n",
    "        precond = OrderedDict()\n",
    "        min_s = math.inf\n",
    "\n",
    "        for group in self.param_groups:\n",
    "            eps = group['rmsprop_eps']\n",
    "            for p in group['params']:\n",
    "                state = self.state[p]\n",
    "                try:\n",
    "                    square_avg = state['square_avg']\n",
    "                except KeyError:\n",
    "                    square_avg = state['square_avg'] = torch.ones_like(p)\n",
    "\n",
    "                precond[p] = square_avg.mean().item() + eps\n",
    "                min_s = min(min_s, precond[p])\n",
    "\n",
    "        for p, new_M in precond.items():\n",
    "            # ^(1/2) to form the preconditioner,\n",
    "            # ^(-1/2) because we want the preconditioner's inverse square root.\n",
    "            self.state[p]['preconditioner'] = (new_M / min_s)**(-1/4)"
   ]
  },
  {
   "cell_type": "code",
   "execution_count": 14,
   "metadata": {},
   "outputs": [],
   "source": [
    "class SGLDTrainer(Framework):\n",
    "    def __init__(self, dataset_train, network, prior, *args, **kwargs):\n",
    "        super().__init__(dataset_train, *args, **kwargs)\n",
    "\n",
    "        # Hyperparameters and general parameters\n",
    "        self.batch_size = 128\n",
    "        self.learning_rate = 1e-3\n",
    "        self.num_epochs = 10\n",
    "        self.burn_in = 2\n",
    "        self.sample_interval = 2\n",
    "        self.max_size = 100\n",
    "        \n",
    "        self.sample_size = dataset_train.__len__()\n",
    "        self.data_loader = DataLoader(dataset_train, batch_size=64, shuffle=True)\n",
    "\n",
    "        # Set Prior\n",
    "        self.prior = prior\n",
    "\n",
    "        # Initialize the SGLD network\n",
    "        self.network = network\n",
    "\n",
    "        # SGLD optimizer is provided\n",
    "        self.optimizer = SGLD(self.network.parameters(), lr=self.learning_rate, num_data=self.sample_size)\n",
    "\n",
    "        # Learning rate scheduler\n",
    "        self.scheduler = torch.optim.lr_scheduler.StepLR(self.optimizer, step_size=1, gamma=0.9)\n",
    "\n",
    "        # Deque to store model samples\n",
    "        self.SGLDSequence = deque()\n",
    "\n",
    "    def train(self):\n",
    "        num_iter = 0\n",
    "        print('Training model')\n",
    "\n",
    "        self.network.train()\n",
    "        progress_bar = trange(self.num_epochs)\n",
    "\n",
    "        for _ in progress_bar:\n",
    "            num_iter += 1\n",
    "\n",
    "            N = self.sample_size\n",
    "\n",
    "            for batch_idx, (batch_x, batch_y) in enumerate(self.data_loader):\n",
    "                self.network.zero_grad()\n",
    "                n = len(batch_x)\n",
    "\n",
    "                # Perform forward pass\n",
    "                current_logits = self.network(batch_x)\n",
    "\n",
    "                # Calculate log_likelihood of weights for a given prior\n",
    "\n",
    "                parameters = self.network.state_dict()     # extract weights from network\n",
    "                param_values = list(parameters.values())    # list weights\n",
    "                param_flat = np.concatenate([v.flatten() for v in param_values])    # flattern\n",
    "                log_likelihood = self.prior.log_likelihood(param_flat)              # calculate log_lik\n",
    "\n",
    "                # Calculate the loss\n",
    "                loss = F.nll_loss(F.log_softmax(current_logits, dim=1), batch_y, reduction = \"sum\") - log_likelihood*n/N\n",
    "\n",
    "                # Backpropagate to get the gradients\n",
    "                loss.backward()\n",
    "\n",
    "                self.optimizer.step()\n",
    "\n",
    "                if batch_idx % self.print_interval == 0:\n",
    "                    current_logits = self.network(batch_x)\n",
    "                    current_accuracy = (current_logits.argmax(axis=1) == batch_y).float().mean()\n",
    "                    progress_bar.set_postfix(loss=loss.item(), acc=current_accuracy.item(),\n",
    "                    nll_loss= F.nll_loss(F.log_softmax(current_logits, dim=1), batch_y, reduction = \"sum\").item(),\n",
    "                    log_lik_prior = - log_likelihood.item()*n/N)\n",
    "\n",
    "            # Update the learning rate\n",
    "            self.scheduler.step()\n",
    "            \n",
    "            # Save the model samples if past the burn-in epochs and reached a regular sampling interval\n",
    "            if num_iter > self.burn_in and num_iter % self.sample_interval == 0:\n",
    "                self.SGLDSequence.append(copy.deepcopy(self.network))\n",
    "                # self.network.state_dict()\n",
    "\n",
    "            # If the deque exceeds the maximum size, delete the oldest model\n",
    "            if len(self.SGLDSequence) > self.max_size:\n",
    "                self.SGLDSequence.popleft()\n",
    "\n",
    "    def predict_probabilities(self, x: torch.Tensor) -> torch.Tensor:\n",
    "        #assert x.shape[1] == 28 ** 2\n",
    "        self.network.eval()\n",
    "\n",
    "        # Obtain the prediction from each network in SGLDSequence and combine the predictions\n",
    "        estimated_probability = torch.zeros((len(x), 10))\n",
    "        for model in self.SGLDSequence:\n",
    "\n",
    "\n",
    "            self.network.load_state_dict(model.state_dict())\n",
    "            logits = self.network(x).detach()\n",
    "            estimated_probability += F.softmax(logits, dim=1)\n",
    "        \n",
    "        # Normalize the combined predictions\n",
    "        estimated_probability /= len(self.SGLDSequence)\n",
    "\n",
    "        assert estimated_probability.shape == (x.shape[0], 10)  \n",
    "        return estimated_probability\n",
    "\n"
   ]
  },
  {
   "attachments": {},
   "cell_type": "markdown",
   "metadata": {},
   "source": [
    "# Normal prior"
   ]
  },
  {
   "cell_type": "code",
   "execution_count": 32,
   "metadata": {},
   "outputs": [
    {
     "name": "stdout",
     "output_type": "stream",
     "text": [
      "Training model\n"
     ]
    },
    {
     "name": "stderr",
     "output_type": "stream",
     "text": [
      "100%|██████████| 10/10 [02:35<00:00, 15.53s/it, acc=0.984, log_lik_prior=97.9, loss=101, nll_loss=2.21]\n"
     ]
    }
   ],
   "source": [
    "lol = SGLDTrainer(train_set,network= FullyConnectedNN(),prior= IsotropicGaussian(mean = 0, std = 1))\n",
    "lol.train()"
   ]
  },
  {
   "cell_type": "code",
   "execution_count": 33,
   "metadata": {},
   "outputs": [
    {
     "name": "stdout",
     "output_type": "stream",
     "text": [
      "Test Accuracy: 0.9683\n"
     ]
    }
   ],
   "source": [
    "# test set\n",
    "x_test = sub_test_set.dataset.data.float()\n",
    "y_test = sub_test_set.dataset.targets\n",
    "\n",
    "# predicted probabilities\n",
    "class_probs = lol.predict_probabilities(x_test)\n",
    "\n",
    "# accuracy\n",
    "accuracy = (class_probs.argmax(axis=1) == y_test).float().mean()\n",
    "print(f'Test Accuracy: {accuracy.item():.4f}')"
   ]
  },
  {
   "cell_type": "code",
   "execution_count": 34,
   "metadata": {},
   "outputs": [
    {
     "name": "stdout",
     "output_type": "stream",
     "text": [
      "Calibration Error: 0.0205\n"
     ]
    }
   ],
   "source": [
    "# Calibration\n",
    "import torchmetrics\n",
    "from torchmetrics.functional import calibration_error\n",
    "\n",
    "calib_err = calibration_error(class_probs, y_test, n_bins = 30, task = \"multiclass\", norm=\"l1\", num_classes=10)\n",
    "print(f'Calibration Error: {calib_err.item():.4f}')"
   ]
  },
  {
   "cell_type": "code",
   "execution_count": 35,
   "metadata": {},
   "outputs": [
    {
     "data": {
      "image/png": "[encoded data removed]",
      "text/plain": [
       "<Figure size 640x480 with 1 Axes>"
      ]
     },
     "metadata": {},
     "output_type": "display_data"
    }
   ],
   "source": [
    "# get weights\n",
    "parameters = lol.network.state_dict()\n",
    "param_values = list(parameters.values())\n",
    "param_flat = np.concatenate([v.flatten() for v in param_values])\n",
    "\n",
    "# plot weights\n",
    "plt.hist(param_flat, bins=100)\n",
    "plt.show()\n"
   ]
  },
  {
   "cell_type": "code",
   "execution_count": 37,
   "metadata": {},
   "outputs": [
    {
     "data": {
      "image/png": "[encoded data removed]",
      "text/plain": [
       "<Figure size 640x480 with 1 Axes>"
      ]
     },
     "metadata": {},
     "output_type": "display_data"
    }
   ],
   "source": [
    "# get weights from all models\n",
    "param_flat_all = []\n",
    "for model in lol.SGLDSequence:\n",
    "    parameters = model.state_dict()\n",
    "    param_values = list(parameters.values())\n",
    "    param_flat = torch.cat([v.flatten() for v in param_values])\n",
    "    param_flat_all.append(param_flat.flatten())\n",
    "\n",
    "# put all weights in one array\n",
    "params = np.concatenate(param_flat_all)\n",
    "\n",
    "# plot weights\n",
    "plt.hist(params, bins=100)\n",
    "plt.title(\"Weights of all models, Gaussian prior\")\n",
    "plt.show()\n"
   ]
  },
  {
   "attachments": {},
   "cell_type": "markdown",
   "metadata": {},
   "source": [
    "# Student-t prior"
   ]
  },
  {
   "cell_type": "code",
   "execution_count": 38,
   "metadata": {},
   "outputs": [],
   "source": [
    "class StudentTPrior(Prior):\n",
    "    \"\"\"\n",
    "    Student-T Prior\n",
    "    \"\"\"\n",
    "    def __init__(self, df=10, loc=0, scale=1, Temperature: float= 1.0):\n",
    "        super().__init__()\n",
    "        self.df = df\n",
    "        self.loc = loc\n",
    "        self.scale = scale\n",
    "        self.Temperature = Temperature\n",
    "\n",
    "    def log_likelihood(self, values) -> torch.Tensor:\n",
    "        return StudentT(self.df, self.loc, self.scale).log_prob(torch.tensor(values)).sum() / self.Temperature\n",
    "\n",
    "    def sample(self,n):\n",
    "        return StudentT(self.df, self.loc, self.scale).sample((n,))  # sample from student-T"
   ]
  },
  {
   "cell_type": "code",
   "execution_count": 39,
   "metadata": {},
   "outputs": [
    {
     "name": "stdout",
     "output_type": "stream",
     "text": [
      "Training model\n"
     ]
    },
    {
     "name": "stderr",
     "output_type": "stream",
     "text": [
      "100%|██████████| 10/10 [02:25<00:00, 14.54s/it, acc=0.984, log_lik_prior=101, loss=108, nll_loss=4.74]\n"
     ]
    }
   ],
   "source": [
    "student_lol = SGLDTrainer(train_set,network = FullyConnectedNN(), prior=StudentTPrior())\n",
    "student_lol.train()"
   ]
  },
  {
   "cell_type": "code",
   "execution_count": 40,
   "metadata": {},
   "outputs": [
    {
     "name": "stdout",
     "output_type": "stream",
     "text": [
      "Test Accuracy: 0.9675\n"
     ]
    }
   ],
   "source": [
    "# predicted probabilities\n",
    "class_probs_t = student_lol.predict_probabilities(x_test)\n",
    "\n",
    "# accuracy\n",
    "accuracy = (class_probs_t.argmax(axis=1) == y_test).float().mean()\n",
    "print(f'Test Accuracy: {accuracy.item():.4f}')"
   ]
  },
  {
   "cell_type": "code",
   "execution_count": 41,
   "metadata": {},
   "outputs": [
    {
     "name": "stdout",
     "output_type": "stream",
     "text": [
      "Calibration Error: 0.0205\n"
     ]
    }
   ],
   "source": [
    "calib_err = calibration_error(class_probs_t, y_test, n_bins = 30, task = \"multiclass\", norm=\"l1\", num_classes=10)\n",
    "print(f'Calibration Error: {calib_err.item():.4f}')"
   ]
  },
  {
   "cell_type": "code",
   "execution_count": 45,
   "metadata": {},
   "outputs": [
    {
     "data": {
      "image/png": "[encoded data removed]",
      "text/plain": [
       "<Figure size 640x480 with 1 Axes>"
      ]
     },
     "metadata": {},
     "output_type": "display_data"
    }
   ],
   "source": [
    "# get weights from all models\n",
    "param_flat_all = []\n",
    "for model in student_lol.SGLDSequence:\n",
    "    parameters = model.state_dict()\n",
    "    param_values = list(parameters.values())\n",
    "    param_flat = torch.cat([v.flatten() for v in param_values])\n",
    "    param_flat_all.append(param_flat.flatten())\n",
    "\n",
    "# put all weights in one array\n",
    "params = np.concatenate(param_flat_all)\n",
    "\n",
    "# plot weights\n",
    "plt.hist(params, bins=100)\n",
    "plt.title(\"Weights of all models, Student-T prior\")\n",
    "plt.show()"
   ]
  },
  {
   "attachments": {},
   "cell_type": "markdown",
   "metadata": {},
   "source": [
    "# Laplace prior"
   ]
  },
  {
   "cell_type": "code",
   "execution_count": 46,
   "metadata": {},
   "outputs": [],
   "source": [
    "class LaplacePrior(Prior):\n",
    "    \"\"\"\n",
    "    Laplace Prior\n",
    "    \"\"\"\n",
    "    def __init__(self, mu: torch.Tensor, rho: torch.Tensor, Temperature: float=1.0):\n",
    "        super().__init__()\n",
    "        self.mu = mu\n",
    "        self.rho = rho\n",
    "        self.sig = torch.log(1 + torch.exp(rho))   # transform rho\n",
    "        self.Temperature = Temperature\n",
    "\n",
    "    def log_likelihood(self, values: torch.Tensor) -> torch.Tensor:\n",
    "        return dist.Laplace(self.mu, self.sig).log_prob(torch.tensor(values)).sum() / self.Temperature\n",
    "\n",
    "    def sample(self) -> torch.Tensor:\n",
    "        return dist.Laplace(self.mu, self.sig).sample(torch.Tensor(1).shape).view(self.mu.shape)  # sample from laplace"
   ]
  },
  {
   "cell_type": "code",
   "execution_count": 47,
   "metadata": {},
   "outputs": [
    {
     "name": "stdout",
     "output_type": "stream",
     "text": [
      "Training model\n"
     ]
    },
    {
     "name": "stderr",
     "output_type": "stream",
     "text": [
      "100%|██████████| 10/10 [02:27<00:00, 14.77s/it, acc=1, log_lik_prior=106, loss=107, nll_loss=0.795]  \n"
     ]
    }
   ],
   "source": [
    "Laplace_lol = SGLDTrainer(train_set,network = FullyConnectedNN(), prior=LaplacePrior(mu=torch.tensor(0.), rho=torch.tensor(1.)))\n",
    "Laplace_lol.train()"
   ]
  },
  {
   "cell_type": "code",
   "execution_count": 48,
   "metadata": {},
   "outputs": [
    {
     "name": "stdout",
     "output_type": "stream",
     "text": [
      "Test Accuracy: 0.9640\n",
      "Calibration Error: 0.0222\n"
     ]
    }
   ],
   "source": [
    "# predicted probabilities\n",
    "class_probs_t = Laplace_lol.predict_probabilities(x_test)\n",
    "\n",
    "# accuracy\n",
    "accuracy = (class_probs_t.argmax(axis=1) == y_test).float().mean()\n",
    "print(f'Test Accuracy: {accuracy.item():.4f}')\n",
    "\n",
    "calib_err = calibration_error(class_probs_t, y_test, n_bins = 30, task = \"multiclass\", norm=\"l1\", num_classes=10)\n",
    "print(f'Calibration Error: {calib_err.item():.4f}')"
   ]
  },
  {
   "cell_type": "code",
   "execution_count": 49,
   "metadata": {},
   "outputs": [
    {
     "data": {
      "image/png": "[encoded data removed]",
      "text/plain": [
       "<Figure size 640x480 with 1 Axes>"
      ]
     },
     "metadata": {},
     "output_type": "display_data"
    }
   ],
   "source": [
    "# get weights from all models\n",
    "param_flat_all = []\n",
    "for model in Laplace_lol.SGLDSequence:\n",
    "    parameters = model.state_dict()\n",
    "    param_values = list(parameters.values())\n",
    "    param_flat = torch.cat([v.flatten() for v in param_values])\n",
    "    param_flat_all.append(param_flat.flatten())\n",
    "\n",
    "# put all weights in one array\n",
    "params = np.concatenate(param_flat_all)\n",
    "\n",
    "# plot weights\n",
    "plt.hist(params, bins=100)\n",
    "plt.title(\"Weights of all models, Laplace prior\")\n",
    "plt.show()"
   ]
  },
  {
   "attachments": {},
   "cell_type": "markdown",
   "metadata": {},
   "source": [
    "# Inverse Gamma prior"
   ]
  },
  {
   "cell_type": "code",
   "execution_count": 50,
   "metadata": {},
   "outputs": [],
   "source": [
    "from scipy.special import gamma\n",
    "\n",
    "class InverseGamma(Prior):\n",
    "    \"\"\" Inverse Gamma distribution \"\"\"\n",
    "    def __init__(self, shape: torch.Tensor, rate: torch.Tensor, Temperature: float = 1.0):\n",
    "        \"\"\"\n",
    "        shape: shape parameters of the distribution\n",
    "        rate: rate parameters of the distribution\n",
    "        \"\"\"\n",
    "        self.shape = shape\n",
    "        self.rate = rate\n",
    "        self.Temperature = Temperature\n",
    "\n",
    "    def log_likelihood(self, values: torch.Tensor) -> torch.Tensor:\n",
    "        \"\"\"\n",
    "        Computes the value of the predictive log likelihood at the target value\n",
    "        Args:\n",
    "            target: Torch tensor of floats, point(s) to evaluate the logprob\n",
    "        Returns:\n",
    "            loglike: float, the log likelihood\n",
    "        \"\"\"\n",
    "        x = (self.rate**self.shape) / gamma(self.shape)\n",
    "        y = torch.tensor(values)**(-self.shape - 1)\n",
    "        z = torch.exp(-self.rate / values)\n",
    "        return torch.log(x * y * z)\n",
    "\n",
    "    def sample(self) -> torch.Tensor:\n",
    "        # sample from gamma and return 1/x\n",
    "        x = dist.Gamma(self.shape, self.rate).sample()\n",
    "        return 1/x"
   ]
  },
  {
   "cell_type": "code",
   "execution_count": 51,
   "metadata": {},
   "outputs": [
    {
     "name": "stdout",
     "output_type": "stream",
     "text": [
      "Training model\n"
     ]
    },
    {
     "name": "stderr",
     "output_type": "stream",
     "text": [
      "  0%|          | 0/10 [00:00<?, ?it/s]\n"
     ]
    },
    {
     "ename": "RuntimeError",
     "evalue": "grad can be implicitly created only for scalar outputs",
     "output_type": "error",
     "traceback": [
      "\u001b[1;31m---------------------------------------------------------------------------\u001b[0m",
      "\u001b[1;31mRuntimeError\u001b[0m                              Traceback (most recent call last)",
      "Cell \u001b[1;32mIn[51], line 2\u001b[0m\n\u001b[0;32m      1\u001b[0m IG_lol \u001b[39m=\u001b[39m SGLDTrainer(sub_train_set,network \u001b[39m=\u001b[39m FullyConnectedNN(), prior\u001b[39m=\u001b[39mInverseGamma(shape\u001b[39m=\u001b[39mtorch\u001b[39m.\u001b[39mtensor(\u001b[39m0.5\u001b[39m), rate\u001b[39m=\u001b[39mtorch\u001b[39m.\u001b[39mtensor(\u001b[39m0.5\u001b[39m)))\n\u001b[1;32m----> 2\u001b[0m IG_lol\u001b[39m.\u001b[39;49mtrain()\n",
      "Cell \u001b[1;32mIn[31], line 61\u001b[0m, in \u001b[0;36mSGLDTrainer.train\u001b[1;34m(self)\u001b[0m\n\u001b[0;32m     58\u001b[0m loss \u001b[39m=\u001b[39m F\u001b[39m.\u001b[39mnll_loss(F\u001b[39m.\u001b[39mlog_softmax(current_logits, dim\u001b[39m=\u001b[39m\u001b[39m1\u001b[39m), batch_y, reduction \u001b[39m=\u001b[39m \u001b[39m\"\u001b[39m\u001b[39msum\u001b[39m\u001b[39m\"\u001b[39m) \u001b[39m-\u001b[39m log_likelihood\u001b[39m*\u001b[39mn\u001b[39m/\u001b[39mN\n\u001b[0;32m     60\u001b[0m \u001b[39m# Backpropagate to get the gradients\u001b[39;00m\n\u001b[1;32m---> 61\u001b[0m loss\u001b[39m.\u001b[39;49mbackward()\n\u001b[0;32m     63\u001b[0m \u001b[39mself\u001b[39m\u001b[39m.\u001b[39moptimizer\u001b[39m.\u001b[39mstep()\n\u001b[0;32m     65\u001b[0m \u001b[39mif\u001b[39;00m batch_idx \u001b[39m%\u001b[39m \u001b[39mself\u001b[39m\u001b[39m.\u001b[39mprint_interval \u001b[39m==\u001b[39m \u001b[39m0\u001b[39m:\n",
      "File \u001b[1;32m~\\AppData\\Local\\Packages\\PythonSoftwareFoundation.Python.3.8_qbz5n2kfra8p0\\LocalCache\\local-packages\\Python38\\site-packages\\torch\\_tensor.py:255\u001b[0m, in \u001b[0;36mTensor.backward\u001b[1;34m(self, gradient, retain_graph, create_graph, inputs)\u001b[0m\n\u001b[0;32m    246\u001b[0m \u001b[39mif\u001b[39;00m has_torch_function_unary(\u001b[39mself\u001b[39m):\n\u001b[0;32m    247\u001b[0m     \u001b[39mreturn\u001b[39;00m handle_torch_function(\n\u001b[0;32m    248\u001b[0m         Tensor\u001b[39m.\u001b[39mbackward,\n\u001b[0;32m    249\u001b[0m         (\u001b[39mself\u001b[39m,),\n\u001b[1;32m   (...)\u001b[0m\n\u001b[0;32m    253\u001b[0m         create_graph\u001b[39m=\u001b[39mcreate_graph,\n\u001b[0;32m    254\u001b[0m         inputs\u001b[39m=\u001b[39minputs)\n\u001b[1;32m--> 255\u001b[0m torch\u001b[39m.\u001b[39;49mautograd\u001b[39m.\u001b[39;49mbackward(\u001b[39mself\u001b[39;49m, gradient, retain_graph, create_graph, inputs\u001b[39m=\u001b[39;49minputs)\n",
      "File \u001b[1;32m~\\AppData\\Local\\Packages\\PythonSoftwareFoundation.Python.3.8_qbz5n2kfra8p0\\LocalCache\\local-packages\\Python38\\site-packages\\torch\\autograd\\__init__.py:143\u001b[0m, in \u001b[0;36mbackward\u001b[1;34m(tensors, grad_tensors, retain_graph, create_graph, grad_variables, inputs)\u001b[0m\n\u001b[0;32m    139\u001b[0m inputs \u001b[39m=\u001b[39m (inputs,) \u001b[39mif\u001b[39;00m \u001b[39misinstance\u001b[39m(inputs, torch\u001b[39m.\u001b[39mTensor) \u001b[39melse\u001b[39;00m \\\n\u001b[0;32m    140\u001b[0m     \u001b[39mtuple\u001b[39m(inputs) \u001b[39mif\u001b[39;00m inputs \u001b[39mis\u001b[39;00m \u001b[39mnot\u001b[39;00m \u001b[39mNone\u001b[39;00m \u001b[39melse\u001b[39;00m \u001b[39mtuple\u001b[39m()\n\u001b[0;32m    142\u001b[0m grad_tensors_ \u001b[39m=\u001b[39m _tensor_or_tensors_to_tuple(grad_tensors, \u001b[39mlen\u001b[39m(tensors))\n\u001b[1;32m--> 143\u001b[0m grad_tensors_ \u001b[39m=\u001b[39m _make_grads(tensors, grad_tensors_)\n\u001b[0;32m    144\u001b[0m \u001b[39mif\u001b[39;00m retain_graph \u001b[39mis\u001b[39;00m \u001b[39mNone\u001b[39;00m:\n\u001b[0;32m    145\u001b[0m     retain_graph \u001b[39m=\u001b[39m create_graph\n",
      "File \u001b[1;32m~\\AppData\\Local\\Packages\\PythonSoftwareFoundation.Python.3.8_qbz5n2kfra8p0\\LocalCache\\local-packages\\Python38\\site-packages\\torch\\autograd\\__init__.py:50\u001b[0m, in \u001b[0;36m_make_grads\u001b[1;34m(outputs, grads)\u001b[0m\n\u001b[0;32m     48\u001b[0m \u001b[39mif\u001b[39;00m out\u001b[39m.\u001b[39mrequires_grad:\n\u001b[0;32m     49\u001b[0m     \u001b[39mif\u001b[39;00m out\u001b[39m.\u001b[39mnumel() \u001b[39m!=\u001b[39m \u001b[39m1\u001b[39m:\n\u001b[1;32m---> 50\u001b[0m         \u001b[39mraise\u001b[39;00m \u001b[39mRuntimeError\u001b[39;00m(\u001b[39m\"\u001b[39m\u001b[39mgrad can be implicitly created only for scalar outputs\u001b[39m\u001b[39m\"\u001b[39m)\n\u001b[0;32m     51\u001b[0m     new_grads\u001b[39m.\u001b[39mappend(torch\u001b[39m.\u001b[39mones_like(out, memory_format\u001b[39m=\u001b[39mtorch\u001b[39m.\u001b[39mpreserve_format))\n\u001b[0;32m     52\u001b[0m \u001b[39melse\u001b[39;00m:\n",
      "\u001b[1;31mRuntimeError\u001b[0m: grad can be implicitly created only for scalar outputs"
     ]
    }
   ],
   "source": [
    "IG_lol = SGLDTrainer(sub_train_set,network = FullyConnectedNN(), prior=InverseGamma(shape=torch.tensor(0.5), rate=torch.tensor(0.5)))\n",
    "IG_lol.train()"
   ]
  },
  {
   "cell_type": "code",
   "execution_count": null,
   "metadata": {},
   "outputs": [],
   "source": [
    "# predicted probabilities\n",
    "class_probs_t = IG_lol.predict_probabilities(x_test)\n",
    "\n",
    "# accuracy\n",
    "accuracy = (class_probs_t.argmax(axis=1) == y_test).float().mean()\n",
    "print(f'Test Accuracy: {accuracy.item():.4f}')\n",
    "\n",
    "calib_err = calibration_error(class_probs_t, y_test, n_bins = 30, task = \"multiclass\", norm=\"l1\", num_classes=10)\n",
    "print(f'Calibration Error: {calib_err.item():.4f}')"
   ]
  },
  {
   "cell_type": "code",
   "execution_count": null,
   "metadata": {},
   "outputs": [],
   "source": [
    "# get weights from all models\n",
    "param_flat_all = []\n",
    "for model in IG_lol.SGLDSequence:\n",
    "    parameters = model.state_dict()\n",
    "    param_values = list(parameters.values())\n",
    "    param_flat = torch.cat([v.flatten() for v in param_values])\n",
    "    param_flat_all.append(param_flat.flatten())\n",
    "\n",
    "# put all weights in one array\n",
    "params = np.concatenate(param_flat_all)\n",
    "\n",
    "# plot weights\n",
    "plt.hist(params, bins=100)\n",
    "plt.title(\"Weights of all models, Inverse Gamma prior\")\n",
    "plt.show()"
   ]
  },
  {
   "attachments": {},
   "cell_type": "markdown",
   "metadata": {},
   "source": [
    "# GMM prior"
   ]
  },
  {
   "cell_type": "code",
   "execution_count": 52,
   "metadata": {},
   "outputs": [],
   "source": [
    "class GaussianMixture(Prior):\n",
    "    \"\"\"\n",
    "    Mixture of 2 gaussians with same mean but different variances\n",
    "    \"\"\"\n",
    "    def __init__(self,  mu: torch.Tensor, rho1: torch.Tensor, rho2: torch.Tensor, mixing_coef: float=0.7 ,Temperature: float = 1.0):\n",
    "        super().__init__()\n",
    "        self.mu = mu\n",
    "        self.rho1 = rho1\n",
    "        self.rho2 = rho2\n",
    "        self.sig1 = torch.log(1 + torch.exp(rho1))  # transform rho\n",
    "        self.sig2 = torch.log(1 + torch.exp(rho2))  # transform rho\n",
    "        self.mixing_coef = mixing_coef\n",
    "        self.Temperature = Temperature\n",
    "\n",
    "    def log_likelihood(self, values: torch.Tensor) -> torch.Tensor:\n",
    "        p1 = dist.Normal(self.mu, self.sig1).log_prob(values)\n",
    "        p2 = dist.Normal(self.mu, self.sig2).log_prob(values)\n",
    "        log_lik = (p1 * self.mixing_coef + p2 * (1-self.mixing_coef)).sum() / self.Temperature\n",
    "        return log_lik\n",
    "\n",
    "    def sample(self) -> torch.Tensor:\n",
    "        eps = torch.randn_like(self.mu)\n",
    "        sample1 = self.mu + self.sig1 * eps\n",
    "        eps = torch.randn_like(self.mu)\n",
    "        sample2 = self.mu + self.sig2 * eps\n",
    "        return sample1 * self.mixing_coef + sample2 * (1-self.mixing_coef)"
   ]
  },
  {
   "cell_type": "code",
   "execution_count": 20,
   "metadata": {},
   "outputs": [
    {
     "ename": "NameError",
     "evalue": "name 'LaplacePrior' is not defined",
     "output_type": "error",
     "traceback": [
      "\u001b[1;31m---------------------------------------------------------------------------\u001b[0m",
      "\u001b[1;31mNameError\u001b[0m                                 Traceback (most recent call last)",
      "Cell \u001b[1;32mIn[20], line 1\u001b[0m\n\u001b[1;32m----> 1\u001b[0m GMM_lol \u001b[39m=\u001b[39m SGLDTrainer(train_set,network \u001b[39m=\u001b[39m FullyConnectedNN(), prior\u001b[39m=\u001b[39mLaplacePrior(mu\u001b[39m=\u001b[39mtorch\u001b[39m.\u001b[39mtensor(\u001b[39m0.\u001b[39m), std\u001b[39m=\u001b[39mtorch\u001b[39m.\u001b[39mtensor(\u001b[39m1.\u001b[39m)))\n\u001b[0;32m      2\u001b[0m GMM_lol\u001b[39m.\u001b[39mtrain()\n",
      "\u001b[1;31mNameError\u001b[0m: name 'LaplacePrior' is not defined"
     ]
    }
   ],
   "source": [
    "GMM_lol = SGLDTrainer(train_set,network = FullyConnectedNN(), prior=LaplacePrior(mu=torch.tensor(0.), rho=torch.tensor(1.)))\n",
    "GMM_lol.train()"
   ]
  },
  {
   "cell_type": "code",
   "execution_count": 54,
   "metadata": {},
   "outputs": [
    {
     "name": "stdout",
     "output_type": "stream",
     "text": [
      "Test Accuracy: 0.9662\n",
      "Calibration Error: 0.0237\n"
     ]
    }
   ],
   "source": [
    "# predicted probabilities\n",
    "class_probs_t = GMM_lol.predict_probabilities(x_test)\n",
    "\n",
    "# accuracy\n",
    "accuracy = (class_probs_t.argmax(axis=1) == y_test).float().mean()\n",
    "print(f'Test Accuracy: {accuracy.item():.4f}')\n",
    "\n",
    "calib_err = calibration_error(class_probs_t, y_test, n_bins = 30, task = \"multiclass\", norm=\"l1\", num_classes=10)\n",
    "print(f'Calibration Error: {calib_err.item():.4f}')"
   ]
  },
  {
   "cell_type": "code",
   "execution_count": 59,
   "metadata": {},
   "outputs": [],
   "source": [
    "# get weights from all models\n",
    "param_flat_all = []\n",
    "for model in GMM_lol.SGLDSequence:\n",
    "    parameters = model.state_dict()\n",
    "    param_values = list(parameters.values())\n",
    "    param_flat = torch.cat([v.flatten() for v in param_values])\n",
    "    param_flat_all.append(param_flat.flatten())\n",
    "    plt.hist(param_flat, bins=100)\n",
    "    plt.show()\n",
    "\n",
    "# put all weights in one array\n",
    "params = np.concatenate(param_flat_all)\n",
    "\n",
    "# plot weights\n",
    "plt.hist(params, bins=100)\n",
    "plt.title(\"Weights of all models, Gaussian Mixture prior\")\n",
    "plt.show()"
   ]
  },
  {
   "cell_type": "code",
   "execution_count": null,
   "metadata": {},
   "outputs": [],
   "source": []
  },
  {
   "cell_type": "code",
   "execution_count": null,
   "metadata": {},
   "outputs": [],
   "source": []
  },
  {
   "cell_type": "code",
   "execution_count": null,
   "metadata": {},
   "outputs": [],
   "source": []
  },
  {
   "attachments": {},
   "cell_type": "markdown",
   "metadata": {},
   "source": [
    "# Pretrained Prior\n"
   ]
  },
  {
   "cell_type": "code",
   "execution_count": 67,
   "metadata": {},
   "outputs": [],
   "source": [
    "from data import *\n",
    "from models import *"
   ]
  },
  {
   "cell_type": "code",
   "execution_count": 68,
   "metadata": {},
   "outputs": [
    {
     "name": "stdout",
     "output_type": "stream",
     "text": [
      "Train data size:  60000\n",
      "Test data size:  10000\n"
     ]
    }
   ],
   "source": [
    "# Load FashionMNIST dataset for pretrain task\n",
    "transform = tr.Compose([tr.ToTensor()])\n",
    "\n",
    "dataset = Data(\"FashionMNIST\", augmentations = None)\n",
    "train_data, test_data = dataset.get_data()\n",
    "\n",
    "# Print some information about the dataset\n",
    "print(\"Train data size: \", len(train_data))\n",
    "print(\"Test data size: \", len(test_data))"
   ]
  },
  {
   "cell_type": "code",
   "execution_count": 69,
   "metadata": {},
   "outputs": [
    {
     "name": "stdout",
     "output_type": "stream",
     "text": [
      "Training model\n"
     ]
    },
    {
     "name": "stderr",
     "output_type": "stream",
     "text": [
      "100%|██████████| 10/10 [00:55<00:00,  5.54s/it, acc=0.891, log_lik_prior=97.9, loss=119, nll_loss=17.5]\n"
     ]
    }
   ],
   "source": [
    "SGLD_model_normal = SGLDTrainer(train_data, network = FullyConnectedNN(), prior=IsotropicGaussian(mean=torch.tensor(0.), std=torch.tensor(1.)))\n",
    "SGLD_model_normal.train()"
   ]
  },
  {
   "cell_type": "code",
   "execution_count": 70,
   "metadata": {},
   "outputs": [
    {
     "data": {
      "image/png": "[encoded data removed]",
      "text/plain": [
       "<Figure size 640x480 with 1 Axes>"
      ]
     },
     "metadata": {},
     "output_type": "display_data"
    }
   ],
   "source": [
    "param_flat_all = []\n",
    "for model in SGLD_model_normal.SGLDSequence:\n",
    "    parameters = model.state_dict()\n",
    "    param_values = list(parameters.values())\n",
    "    param_flat = torch.cat([v.flatten() for v in param_values])\n",
    "    param_flat_all.append(param_flat.flatten())\n",
    "\n",
    "# put all weights in one array\n",
    "params = np.concatenate(param_flat_all)\n",
    "\n",
    "# plot weights\n",
    "plt.hist(params, bins=100)\n",
    "plt.title(\"Weights of all models, Normal prior\")\n",
    "plt.show()"
   ]
  },
  {
   "cell_type": "code",
   "execution_count": 71,
   "metadata": {},
   "outputs": [
    {
     "name": "stdout",
     "output_type": "stream",
     "text": [
      "Mean of weights:  0.0004731368\n",
      "Std of weights:  0.048908655\n"
     ]
    }
   ],
   "source": [
    "print(\"Mean of weights: \", np.mean(params))\n",
    "print(\"Std of weights: \", np.std(params))"
   ]
  },
  {
   "cell_type": "code",
   "execution_count": 72,
   "metadata": {},
   "outputs": [
    {
     "name": "stdout",
     "output_type": "stream",
     "text": [
      "Covariance matrix:  (99710,)\n",
      "Means:  (99710,)\n"
     ]
    }
   ],
   "source": [
    "weight_mat = np.stack(param_flat_all).transpose()\n",
    "cov = np.var(weight_mat, axis=1)\n",
    "means = np.mean(weight_mat, axis=1)\n",
    "print(\"Covariance matrix: \", cov.shape)\n",
    "print(\"Means: \", means.shape)"
   ]
  },
  {
   "cell_type": "code",
   "execution_count": 73,
   "metadata": {},
   "outputs": [],
   "source": [
    "class DiagonalGaussian(Prior):\n",
    "    \"\"\"\n",
    "    Multivariate diagonal Gaussian distribution,\n",
    "    i.e., assumes all elements to be independent Gaussians\n",
    "    but with different means and standard deviations.\n",
    "    This parameterizes the standard deviation via a parameter rho as\n",
    "    sigma = softplus(rho).\n",
    "    \"\"\"\n",
    "    def __init__(self, mu: torch.Tensor, var: torch.Tensor, Temperature: float = 1.0):\n",
    "        super(DiagonalGaussian, self).__init__()  \n",
    "        self.mu = mu\n",
    "        self.var = var\n",
    "        self.covar = torch.diag(var)\n",
    "        self.Temperature = Temperature\n",
    "\n",
    "    def log_likelihood(self, values: torch.Tensor) -> torch.Tensor:\n",
    "        # TODO: Implement this\n",
    "        return dist.Normal(self.mu, self.var).log_prob(values).sum() / self.Temperature\n",
    "\n",
    "    def sample(self) -> torch.Tensor:\n",
    "        # TODO: Implement this\n",
    "        return dist.Normal(self.mu, self.var).sample()"
   ]
  },
  {
   "attachments": {},
   "cell_type": "markdown",
   "metadata": {},
   "source": [
    "Fit of MNIST"
   ]
  },
  {
   "cell_type": "code",
   "execution_count": 74,
   "metadata": {},
   "outputs": [
    {
     "name": "stdout",
     "output_type": "stream",
     "text": [
      "Train data size:  60000\n",
      "Test data size:  10000\n"
     ]
    }
   ],
   "source": [
    "# Load FashionMNIST dataset for pretrain task\n",
    "transform = tr.Compose([tr.ToTensor()])\n",
    "\n",
    "dataset = Data(\"MNIST\", augmentations = None)\n",
    "train_data, test_data = dataset.get_data()\n",
    "\n",
    "# Print some information about the dataset\n",
    "print(\"Train data size: \", len(train_data))\n",
    "print(\"Test data size: \", len(test_data))"
   ]
  },
  {
   "cell_type": "code",
   "execution_count": 75,
   "metadata": {},
   "outputs": [
    {
     "name": "stdout",
     "output_type": "stream",
     "text": [
      "Training model\n"
     ]
    },
    {
     "name": "stderr",
     "output_type": "stream",
     "text": [
      "100%|██████████| 10/10 [01:00<00:00,  6.03s/it, acc=1, log_lik_prior=-162, loss=-159, nll_loss=2.12]   \n"
     ]
    }
   ],
   "source": [
    "new_model = SGLDTrainer(train_data, network = FullyConnectedNN(), \n",
    "    prior=IsotropicGaussian(mean=np.mean(params), std = np.std(params)))\n",
    "\n",
    "new_model.train()"
   ]
  },
  {
   "cell_type": "code",
   "execution_count": 79,
   "metadata": {},
   "outputs": [
    {
     "name": "stdout",
     "output_type": "stream",
     "text": [
      "Test Accuracy: 0.9731\n",
      "Calibration Error: 0.0084\n"
     ]
    }
   ],
   "source": [
    "# predict class probabilities for the test data\n",
    "x_test = test_data[:][0].clone().detach()\n",
    "y_test = test_data[:][1].clone().detach()\n",
    "\n",
    "# predicted probabilities\n",
    "class_probs_t = new_model.predict_probabilities(x_test)\n",
    "\n",
    "# accuracy\n",
    "accuracy = (class_probs_t.argmax(axis=1) == y_test).float().mean()\n",
    "print(f'Test Accuracy: {accuracy.item():.4f}')\n",
    "\n",
    "from torchmetrics.functional import calibration_error\n",
    "\n",
    "calib_err = calibration_error(class_probs_t, y_test, n_bins = 30, task = \"multiclass\", norm=\"l1\", num_classes=10)\n",
    "print(f'Calibration Error: {calib_err.item():.4f}')"
   ]
  },
  {
   "cell_type": "code",
   "execution_count": 80,
   "metadata": {},
   "outputs": [
    {
     "data": {
      "image/png": "[encoded data removed]",
      "text/plain": [
       "<Figure size 640x480 with 1 Axes>"
      ]
     },
     "metadata": {},
     "output_type": "display_data"
    }
   ],
   "source": [
    "param_flat_all = []\n",
    "for model in new_model.SGLDSequence:\n",
    "    parameters = model.state_dict()\n",
    "    param_values = list(parameters.values())\n",
    "    param_flat = torch.cat([v.flatten() for v in param_values])\n",
    "    param_flat_all.append(param_flat.flatten())\n",
    "\n",
    "# put all weights in one array\n",
    "params = np.concatenate(param_flat_all)\n",
    "\n",
    "# plot weights\n",
    "plt.hist(params, bins=100)\n",
    "plt.title(\"Weights of all models, Normal prior\")\n",
    "plt.show()"
   ]
  },
  {
   "attachments": {},
   "cell_type": "markdown",
   "metadata": {},
   "source": [
    "Use diagonal Covariance matrix"
   ]
  },
  {
   "cell_type": "code",
   "execution_count": 64,
   "metadata": {},
   "outputs": [
    {
     "ename": "RuntimeError",
     "evalue": "[enforce fail at ..\\c10\\core\\CPUAllocator.cpp:79] data. DefaultCPUAllocator: not enough memory: you tried to allocate 39768336400 bytes.",
     "output_type": "error",
     "traceback": [
      "\u001b[1;31m---------------------------------------------------------------------------\u001b[0m",
      "\u001b[1;31mRuntimeError\u001b[0m                              Traceback (most recent call last)",
      "Cell \u001b[1;32mIn[64], line 2\u001b[0m\n\u001b[0;32m      1\u001b[0m new_model \u001b[39m=\u001b[39m SGLDTrainer(train_data, network \u001b[39m=\u001b[39m FullyConnectedNN(), \n\u001b[1;32m----> 2\u001b[0m     prior\u001b[39m=\u001b[39mDiagonalGaussian(mu\u001b[39m=\u001b[39;49mtorch\u001b[39m.\u001b[39;49mtensor(means), var\u001b[39m=\u001b[39;49mtorch\u001b[39m.\u001b[39;49mtensor(cov), Temperature\u001b[39m=\u001b[39;49m\u001b[39m1.0\u001b[39;49m))\n\u001b[0;32m      4\u001b[0m new_model\u001b[39m.\u001b[39mtrain()\n",
      "Cell \u001b[1;32mIn[63], line 13\u001b[0m, in \u001b[0;36mDiagonalGaussian.__init__\u001b[1;34m(self, mu, var, Temperature)\u001b[0m\n\u001b[0;32m     11\u001b[0m \u001b[39mself\u001b[39m\u001b[39m.\u001b[39mmu \u001b[39m=\u001b[39m mu\n\u001b[0;32m     12\u001b[0m \u001b[39mself\u001b[39m\u001b[39m.\u001b[39mvar \u001b[39m=\u001b[39m var\n\u001b[1;32m---> 13\u001b[0m \u001b[39mself\u001b[39m\u001b[39m.\u001b[39mcovar \u001b[39m=\u001b[39m torch\u001b[39m.\u001b[39;49mdiag(var)\n\u001b[0;32m     14\u001b[0m \u001b[39mself\u001b[39m\u001b[39m.\u001b[39mTemperature \u001b[39m=\u001b[39m Temperature\n",
      "\u001b[1;31mRuntimeError\u001b[0m: [enforce fail at ..\\c10\\core\\CPUAllocator.cpp:79] data. DefaultCPUAllocator: not enough memory: you tried to allocate 39768336400 bytes."
     ]
    }
   ],
   "source": [
    "new_model = SGLDTrainer(train_data, network = FullyConnectedNN(), \n",
    "    prior=(mu=torch.tensor(means), var=torch.tensor(cov), Temperature=1.0))\n",
    "\n",
    "new_model.train()"
   ]
  }
 ],
 "metadata": {
  "kernelspec": {
   "display_name": "Python 3",
   "language": "python",
   "name": "python3"
  },
  "language_info": {
   "codemirror_mode": {
    "name": "ipython",
    "version": 3
   },
   "file_extension": ".py",
   "mimetype": "text/x-python",
   "name": "python",
   "nbconvert_exporter": "python",
   "pygments_lexer": "ipython3",
   "version": "3.8.10"
  },
  "orig_nbformat": 4,
  "vscode": {
   "interpreter": {
    "hash": "27f3840d2a8e92b9098d5d1f2625c1fbd9e0739b6ace23f817bf68ad3a8d77b4"
   }
  }
 },
 "nbformat": 4,
 "nbformat_minor": 2
}
