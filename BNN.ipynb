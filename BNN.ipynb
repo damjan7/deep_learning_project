{
 "cells": [
  {
   "cell_type": "code",
   "execution_count": 1,
   "metadata": {},
   "outputs": [],
   "source": [
    "import numpy as np\n",
    "import torch\n",
    "import torch.nn as nn\n",
    "import torchvision\n",
    "from torchvision import datasets, transforms\n",
    "from torch.utils.data import DataLoader\n",
    "from torch.distributions import Normal\n",
    "from torch.utils.data import Subset\n",
    "import torch.nn.functional as F\n",
    "import matplotlib.pyplot as plt\n",
    "import random\n",
    "from torch.distributions import Categorical, Normal, StudentT\n",
    "import torch.distributions as dist\n",
    "from torch.optim import SGD\n",
    "from collections import deque\n",
    "from tqdm import trange\n",
    "import tqdm\n",
    "import copy\n",
    "\n"
   ]
  },
  {
   "cell_type": "code",
   "execution_count": 2,
   "metadata": {},
   "outputs": [
    {
     "name": "stderr",
     "output_type": "stream",
     "text": [
      "C:\\Users\\jorge\\AppData\\Local\\Packages\\PythonSoftwareFoundation.Python.3.8_qbz5n2kfra8p0\\LocalCache\\local-packages\\Python38\\site-packages\\torchvision\\datasets\\mnist.py:498: UserWarning: The given NumPy array is not writeable, and PyTorch does not support non-writeable tensors. This means you can write to the underlying (supposedly non-writeable) NumPy array using the tensor. You may want to copy the array to protect its data or make it writeable before converting it to a tensor. This type of warning will be suppressed for the rest of this program. (Triggered internally at  ..\\torch\\csrc\\utils\\tensor_numpy.cpp:180.)\n",
      "  return torch.from_numpy(parsed.astype(m[2], copy=False)).view(*s)\n"
     ]
    }
   ],
   "source": [
    "# MNIST dataset\n",
    "transform = transforms.Compose([torchvision.transforms.ToTensor()])\n",
    "train_set = datasets.MNIST(root='./data', train=True, download=True, transform=transform)\n",
    "test_set = datasets.MNIST(root='./data', train=False, download=True, transform=transform)"
   ]
  },
  {
   "cell_type": "code",
   "execution_count": 3,
   "metadata": {},
   "outputs": [],
   "source": [
    "# subsample from trainset\n",
    "n_subsamples_train = 5000 # size of subset\n",
    "sub_train_idx = random.sample(range(60000),n_subsamples_train) # 60'000 is train size in MNSIT\n",
    "sub_train_set = Subset(train_set, sub_train_idx)\n",
    "\n",
    "# subsample from testset\n",
    "n_subsamples_test = 1000  # size of subset\n",
    "sub_test_idx = random.sample(range(10000), n_subsamples_test) # 10'000 is test size in MNIST\n",
    "sub_test_set = Subset(test_set, sub_test_idx)\n",
    "\n",
    "# load\n",
    "#sub_train_dataloader = DataLoader(sub_train_set, batch_size=64, shuffle=True)\n",
    "sub_test_dataloader = DataLoader(sub_test_set, batch_size=64, shuffle=False)\n"
   ]
  },
  {
   "cell_type": "code",
   "execution_count": 4,
   "metadata": {},
   "outputs": [
    {
     "name": "stdout",
     "output_type": "stream",
     "text": [
      "6\n"
     ]
    },
    {
     "data": {
      "image/png": "[encoded data removed]",
      "text/plain": [
       "<Figure size 640x480 with 1 Axes>"
      ]
     },
     "metadata": {},
     "output_type": "display_data"
    },
    {
     "name": "stdout",
     "output_type": "stream",
     "text": [
      "8\n"
     ]
    },
    {
     "data": {
      "image/png": "[encoded data removed]",
      "text/plain": [
       "<Figure size 640x480 with 1 Axes>"
      ]
     },
     "metadata": {},
     "output_type": "display_data"
    }
   ],
   "source": [
    "# Quick Check \n",
    "feature_test = sub_test_set[999][0]\n",
    "label_test = sub_test_set[999][1]\n",
    "print(label_test)\n",
    "plt.imshow(feature_test.squeeze(), cmap='hot')\n",
    "plt.show()\n",
    "\n",
    "\n",
    "feature_train = sub_train_set[1999][0]\n",
    "label_train = sub_train_set[1999][1]\n",
    "print(label_train)\n",
    "plt.imshow(feature_train.squeeze(), cmap='hot')\n",
    "plt.show()\n"
   ]
  },
  {
   "attachments": {},
   "cell_type": "markdown",
   "metadata": {},
   "source": [
    "    Model Part Krause"
   ]
  },
  {
   "cell_type": "code",
   "execution_count": 5,
   "metadata": {},
   "outputs": [],
   "source": [
    "# Create Class for Priors\n",
    "\n",
    "class Prior:\n",
    "    def __init__(self):\n",
    "        pass\n",
    "    def sample(self,n):\n",
    "        pass\n",
    "    def log_likelihood(self,values):\n",
    "        pass"
   ]
  },
  {
   "cell_type": "code",
   "execution_count": 6,
   "metadata": {},
   "outputs": [],
   "source": [
    "# Create Gaussian Prior\n",
    "# Change: to a subclass of Prior\n",
    "\n",
    "class IsotropicGaussian(Prior):\n",
    "    def __init__(self, mean=0, std=1):\n",
    "        super(IsotropicGaussian,self).__init__()\n",
    "        self.mean = mean\n",
    "        self.std = std\n",
    "\n",
    "    def sample(self, n):\n",
    "        return np.random.normal(self.mean, self.std, size=n)\n",
    "\n",
    "    def log_likelihood(self, weights):\n",
    "        return Normal(self.mean, self.std).log_prob(torch.tensor(weights)).sum()\n"
   ]
  },
  {
   "cell_type": "code",
   "execution_count": 7,
   "metadata": {},
   "outputs": [],
   "source": [
    "# Fully Connected Neural Network \n",
    "\n",
    "class FullyConnectedNN(nn.Module):\n",
    "    def __init__(self, in_features = 28*28, out_features = 10, hidden_units = 100, hidden_layers = 3):\n",
    "        super().__init__()\n",
    "        self.hidden_layers = nn.ModuleList()\n",
    "        self.hidden_layers.append(nn.Linear(in_features, hidden_units))\n",
    "        for i in range(hidden_layers - 1):\n",
    "            self.hidden_layers.append(nn.Linear(hidden_units, hidden_units))\n",
    "        self.output_layer = nn.Linear(hidden_units, out_features)\n",
    "\n",
    "    def forward(self, x):\n",
    "        x = x.reshape(-1,28*28)\n",
    "        for layer in self.hidden_layers:\n",
    "            x = F.relu(layer(x))\n",
    "        class_probs = self.output_layer(x)\n",
    "        return class_probs\n",
    "        "
   ]
  },
  {
   "cell_type": "code",
   "execution_count": 8,
   "metadata": {},
   "outputs": [],
   "source": [
    "# Convolutional Neural Network \n",
    "\n",
    "class ConvolutionalNN(nn.Module):\n",
    "    def __init__(self, in_features = 28*28, out_features = 10):\n",
    "\n",
    "    # define two convolutional layers with 64 channels\n",
    "        self.conv1 = nn.Conv2d(in_channels=2000, out_channels=64, kernel_size=3, stride=1, padding=1)\n",
    "        self.conv2 = nn.Conv2d(in_channels=64, out_channels=64, kernel_size=3, stride=1, padding=1)\n",
    "        \n",
    "        # define two max-pooling layers\n",
    "        self.maxpool1 = nn.MaxPool2d(kernel_size=2)\n",
    "        self.maxpool2 = nn.MaxPool2d(kernel_size=2)\n",
    "        \n",
    "        # define a fully-connected layer\n",
    "        self.fc = nn.Linear(in_features=3*3*64, out_features=out_features)\n",
    "        \n",
    "        # define the ReLU nonlinearity\n",
    "        self.activ = nn.ReLU()\n",
    "\n",
    "    def forward(self, x):\n",
    "        x = self.activ(self.maxpool1(self.activ(self.conv1(x))))\n",
    "        x = self.activ(self.maxpool2(self.activ(self.conv2(x))))\n",
    "        x = x.view(x.size(0), -1)\n",
    "        class_probs = self.fc(x)\n",
    "        return class_probs\n",
    "\n",
    "# DEBUG THIS \n",
    "        "
   ]
  },
  {
   "cell_type": "code",
   "execution_count": 9,
   "metadata": {},
   "outputs": [],
   "source": [
    "# Framework\n",
    "\n",
    "class Framework(object):\n",
    "    def __init__(self, training_set, *args, **kwargs):\n",
    "        \"\"\"\n",
    "        Basic Framework for your bayesian neural network.\n",
    "        SGLD will be based on this.\n",
    "        \"\"\"\n",
    "        self.train_set = training_set\n",
    "        self.print_interval = 64 # number of batches until updated metrics are displayed during training\n",
    "\n",
    "    def train(self):\n",
    "        raise NotImplementedError()\n",
    "\n",
    "    def predict(self, data_loader: torch.utils.data.DataLoader) -> np.ndarray:\n",
    "        \"\"\"\n",
    "        Predict the class probabilities using your trained model.\n",
    "        This method should return an (num_samples, 10) NumPy float array\n",
    "        such that the second dimension sums up to 1 for each row.\n",
    "\n",
    "        :param data_loader: Data loader yielding the samples to predict on\n",
    "        :return: (num_samples, 10) NumPy float array where the second dimension sums up to 1 for each row\n",
    "        \"\"\"\n",
    "        probability_batches = []\n",
    "        \n",
    "        for batch_x, _ in tqdm.tqdm(data_loader):\n",
    "            current_probabilities = self.predict_probabilities(batch_x).detach().numpy()\n",
    "            probability_batches.append(current_probabilities)\n",
    "\n",
    "        output = np.concatenate(probability_batches, axis=0)\n",
    "        assert isinstance(output, np.ndarray)\n",
    "        assert output.ndim == 2 and output.shape[1] == 10\n",
    "        assert np.allclose(np.sum(output, axis=1), 1.0)\n",
    "        return output\n",
    "\n",
    "    def predict_probabilities(self, x: torch.Tensor) -> torch.Tensor:\n",
    "        raise NotImplementedError()"
   ]
  },
  {
   "cell_type": "code",
   "execution_count": null,
   "metadata": {},
   "outputs": [],
   "source": [
    "import torch\n",
    "import math\n",
    "import numpy as np\n",
    "from collections import OrderedDict\n",
    "from typing import Sequence, Optional, Callable, Tuple, Dict, Union\n",
    "import typing\n",
    "\n",
    "\n",
    "def dot(a, b):\n",
    "    \"return (a*b).sum().item()\"\n",
    "    return (a.view(-1) @ b.view(-1)).item()\n",
    "\n",
    "## Fortuin SGLD code\n",
    "\n",
    "\n",
    "class SGLD(torch.optim.Optimizer):\n",
    "    \"\"\"SGLD with momentum, preconditioning and diagnostics from Wenzel et al. 2020.\n",
    "    Args:\n",
    "        params (iterable): iterable of parameters to optimize or dicts defining\n",
    "            parameter groups\n",
    "        lr (float): learning rate\n",
    "        num_data (int): the number of data points in this learning task\n",
    "        momentum (float): momentum factor (default: 0)\n",
    "        temperature (float): Temperature for tempering the posterior.\n",
    "                             temperature=0 corresponds to SGD with momentum.\n",
    "        rmsprop_alpha: decay for the moving average of the squared gradients\n",
    "        rmsprop_eps: the regularizer parameter for the RMSProp update\n",
    "        raise_on_no_grad (bool): whether to complain if a parameter does not\n",
    "                                 have a gradient\n",
    "        raise_on_nan: whether to complain if a gradient is not all finite.\n",
    "    \"\"\"\n",
    "    def __init__(self, params: Sequence[Union[torch.nn.Parameter, Dict]], lr: float,\n",
    "                 num_data: int, momentum: float=0, temperature: float=1.,\n",
    "                 rmsprop_alpha: float=0.99, rmsprop_eps: float=1e-8,  # Wenzel et al. use 1e-7\n",
    "                 raise_on_no_grad: bool=True, raise_on_nan: bool=False):\n",
    "        assert lr >= 0 and num_data >= 0 and momentum >= 0 and temperature >= 0\n",
    "        defaults = dict(lr=lr, num_data=num_data, momentum=momentum,\n",
    "                        rmsprop_alpha=rmsprop_alpha, rmsprop_eps=rmsprop_eps,\n",
    "                        temperature=temperature)\n",
    "        super(SGLD, self).__init__(params, defaults)\n",
    "        self.raise_on_no_grad = raise_on_no_grad\n",
    "        self.raise_on_nan = raise_on_nan\n",
    "        # OK to call this one, but not `sample_momentum`, because\n",
    "        # `update_preconditioner` uses no random numbers.\n",
    "        self.update_preconditioner()\n",
    "        self._step_count = 0  # keep the `torch.optim.scheduler` happy\n",
    "\n",
    "    def _preconditioner_default(self, state, p) -> float:\n",
    "        try:\n",
    "            return state['preconditioner']\n",
    "        except KeyError:\n",
    "            v = state['preconditioner'] = 1.\n",
    "            return v\n",
    "\n",
    "    def delta_energy(self, a, b) -> float:\n",
    "        return math.inf\n",
    "\n",
    "    @torch.no_grad()\n",
    "    def sample_momentum(self, keep=0.0):\n",
    "        \"Sample the momenta for all the parameters\"\n",
    "        assert 0 <= keep and keep <= 1.\n",
    "        if keep == 1.:\n",
    "            return\n",
    "        for group in self.param_groups:\n",
    "            std = math.sqrt(group['temperature']*(1-keep))\n",
    "            for p in group['params']:\n",
    "                if keep == 0.0:\n",
    "                    self.state[p]['momentum_buffer'] = torch.randn_like(p).mul_(std)\n",
    "                else:\n",
    "                    self.state[p]['momentum_buffer'].mul_(math.sqrt(keep)).add_(torch.randn_like(p), alpha=std)\n",
    "\n",
    "    @torch.no_grad()\n",
    "    def step(self, closure: Optional[Callable[..., torch.Tensor]]=None,\n",
    "             calc_metrics=True, save_state=False):\n",
    "        assert save_state is False\n",
    "        return self._step_internal(self._update_group_fn, self._step_fn,\n",
    "                                   closure, calc_metrics=calc_metrics)\n",
    "    initial_step = step\n",
    "\n",
    "    @torch.no_grad()\n",
    "    def final_step(self, closure: Optional[Callable[..., torch.Tensor]]=None,\n",
    "                   calc_metrics=True, save_state=False):\n",
    "        assert save_state is False\n",
    "        return self._step_internal(self._update_group_fn, self._step_fn,\n",
    "                                   closure, calc_metrics=calc_metrics,\n",
    "                                   is_final=True)\n",
    "\n",
    "\n",
    "    def _step_internal(self, update_group_fn, step_fn, closure, **step_fn_kwargs):\n",
    "        loss = None\n",
    "        if closure is not None:\n",
    "            with torch.enable_grad():\n",
    "                loss = closure()\n",
    "        try:\n",
    "            for group in self.param_groups:\n",
    "                update_group_fn(group)\n",
    "                for p in group['params']:\n",
    "                    if p.grad is None:\n",
    "                        if self.raise_on_no_grad:\n",
    "                            raise RuntimeError(\n",
    "                                f\"No gradient for parameter with shape {p.shape}\")\n",
    "                        continue\n",
    "                    if self.raise_on_nan and not torch.isfinite(p.grad).all():\n",
    "                        raise ValueError(\n",
    "                            f\"Gradient of shape {p.shape} is not finite: {p.grad}\")\n",
    "                    step_fn(group, p, self.state[p], **step_fn_kwargs)\n",
    "\n",
    "        except KeyError as e:\n",
    "            if e.args[0] == \"momentum_buffer\":\n",
    "                raise RuntimeError(\"No 'momentum_buffer' stored in state. \"\n",
    "                                   \"Perhaps you forgot to call `sample_momentum`?\")\n",
    "            raise e\n",
    "        return loss\n",
    "\n",
    "    def _update_group_fn(self, g):\n",
    "        g['hn'] = math.sqrt(g['lr'] * g['num_data'])\n",
    "        g['h'] = math.sqrt(g['lr'] / g['num_data'])\n",
    "        g['noise_std'] = math.sqrt(2*(1 - g['momentum']) * g['temperature'])\n",
    "\n",
    "    def _step_fn(self, group, p, state, calc_metrics=True, is_final=False):\n",
    "        \"\"\"if is_final, do not change parameters or momentum\"\"\"\n",
    "        M_rsqrt = self._preconditioner_default(state, p)\n",
    "        d = p.numel()\n",
    "\n",
    "        # Update the momentum with the gradient\n",
    "        if group['momentum'] > 0:\n",
    "            momentum = state['momentum_buffer']\n",
    "            if calc_metrics:\n",
    "                # NOTE: the momentum is from the previous time step\n",
    "                state['est_temperature'] = dot(momentum, momentum) / d\n",
    "            if not is_final:\n",
    "                momentum.mul_(group['momentum']).add_(p.grad, alpha=-group['hn']*M_rsqrt)\n",
    "        else:\n",
    "            if not is_final:\n",
    "                momentum = p.grad.detach().mul(-group['hn']*M_rsqrt)\n",
    "            if calc_metrics:\n",
    "                # TODO: make the momentum be from the previous time step\n",
    "                state['est_temperature'] = dot(momentum, momentum) / d\n",
    "\n",
    "        if not is_final:\n",
    "            # Add noise to momentum\n",
    "            if group['temperature'] > 0:\n",
    "                momentum.add_(torch.randn_like(momentum), alpha=group['noise_std'])\n",
    "\n",
    "        if calc_metrics:\n",
    "            # NOTE: p and p.grad are from the same time step\n",
    "            state['est_config_temp'] = dot(p, p.grad) * (group['num_data']/d)\n",
    "\n",
    "        if not is_final:\n",
    "            # Take the gradient step\n",
    "            p.add_(momentum, alpha=group['h']*M_rsqrt)\n",
    "\n",
    "            # RMSProp moving average\n",
    "            alpha = group['rmsprop_alpha']\n",
    "            state['square_avg'].mul_(alpha).addcmul_(p.grad, p.grad, value=1 - alpha)\n",
    "\n",
    "    @torch.no_grad()\n",
    "    def update_preconditioner(self):\n",
    "        \"\"\"Updates the preconditioner for each parameter `state['preconditioner']` using\n",
    "        the estimated `state['square_avg']`.\n",
    "        \"\"\"\n",
    "        precond = OrderedDict()\n",
    "        min_s = math.inf\n",
    "\n",
    "        for group in self.param_groups:\n",
    "            eps = group['rmsprop_eps']\n",
    "            for p in group['params']:\n",
    "                state = self.state[p]\n",
    "                try:\n",
    "                    square_avg = state['square_avg']\n",
    "                except KeyError:\n",
    "                    square_avg = state['square_avg'] = torch.ones_like(p)\n",
    "\n",
    "                precond[p] = square_avg.mean().item() + eps\n",
    "                min_s = min(min_s, precond[p])\n",
    "\n",
    "        for p, new_M in precond.items():\n",
    "            # ^(1/2) to form the preconditioner,\n",
    "            # ^(-1/2) because we want the preconditioner's inverse square root.\n",
    "            self.state[p]['preconditioner'] = (new_M / min_s)**(-1/4)"
   ]
  },
  {
   "cell_type": "code",
   "execution_count": 10,
   "metadata": {},
   "outputs": [],
   "source": [
    "class SGLDTrainer(Framework):\n",
    "    def __init__(self, dataset_train, network, prior, *args, **kwargs):\n",
    "        super().__init__(dataset_train, *args, **kwargs)\n",
    "\n",
    "        # Hyperparameters and general parameters\n",
    "        self.batch_size = 128\n",
    "        self.learning_rate = 1e-3\n",
    "        self.num_epochs = 100\n",
    "        self.burn_in = 50\n",
    "        self.sample_interval = 2\n",
    "        self.max_size = 100\n",
    "        \n",
    "        self.sample_size = dataset_train.__len__()\n",
    "        self.data_loader = DataLoader(dataset_train, batch_size=64, shuffle=True)\n",
    "\n",
    "        # Set Prior\n",
    "        self.prior = prior\n",
    "\n",
    "        # Initialize the SGLD network\n",
    "        self.network = network\n",
    "\n",
    "        # SGLD optimizer is provided\n",
    "        self.optimizer = SGLD(self.network.parameters(), lr=self.learning_rate, num_data=self.sample_size)\n",
    "\n",
    "        # Learning rate scheduler\n",
    "        self.scheduler = torch.optim.lr_scheduler.StepLR(self.optimizer, step_size=1, gamma=0.9)\n",
    "\n",
    "        # Deque to store model samples\n",
    "        self.SGLDSequence = deque()\n",
    "\n",
    "    def train(self):\n",
    "        num_iter = 0\n",
    "        print('Training model')\n",
    "\n",
    "        self.network.train()\n",
    "        progress_bar = trange(self.num_epochs)\n",
    "\n",
    "        for _ in progress_bar:\n",
    "            num_iter += 1\n",
    "\n",
    "            N = self.sample_size\n",
    "\n",
    "            for batch_idx, (batch_x, batch_y) in enumerate(self.data_loader):\n",
    "                self.network.zero_grad()\n",
    "                n = len(batch_x)\n",
    "\n",
    "                # Perform forward pass\n",
    "                current_logits = self.network(batch_x)\n",
    "\n",
    "                # Calculate log_likelihood of weights for a given prior\n",
    "\n",
    "                parameters = self.network.state_dict()     # extract weights from network\n",
    "                param_values = list(parameters.values())    # list weights\n",
    "                param_flat = np.concatenate([v.flatten() for v in param_values])    # flattern\n",
    "                log_likelihood = self.prior.log_likelihood(param_flat)              # calculate log_lik\n",
    "\n",
    "                # Calculate the loss\n",
    "                loss = F.nll_loss(F.log_softmax(current_logits, dim=1), batch_y, reduction = \"sum\") - log_likelihood*n/N\n",
    "\n",
    "                # Backpropagate to get the gradients\n",
    "                loss.backward()\n",
    "\n",
    "                self.optimizer.step()\n",
    "\n",
    "                if batch_idx % self.print_interval == 0:\n",
    "                    current_logits = self.network(batch_x)\n",
    "                    current_accuracy = (current_logits.argmax(axis=1) == batch_y).float().mean()\n",
    "                    progress_bar.set_postfix(loss=loss.item(), acc=current_accuracy.item(),\n",
    "                    nll_loss= F.nll_loss(F.log_softmax(current_logits, dim=1), batch_y, reduction = \"sum\").item(),\n",
    "                    log_lik_prior = - log_likelihood.item()*n/N)\n",
    "\n",
    "            # Update the learning rate\n",
    "            self.scheduler.step()\n",
    "            \n",
    "            # Save the model samples if past the burn-in epochs and reached a regular sampling interval\n",
    "            if num_iter > self.burn_in and num_iter % self.sample_interval == 0:\n",
    "                self.SGLDSequence.append(copy.deepcopy(self.network))\n",
    "                # self.network.state_dict()\n",
    "\n",
    "            # If the deque exceeds the maximum size, delete the oldest model\n",
    "            if len(self.SGLDSequence) > self.max_size:\n",
    "                self.SGLDSequence.popleft()\n",
    "\n",
    "    def predict_probabilities(self, x: torch.Tensor) -> torch.Tensor:\n",
    "        #assert x.shape[1] == 28 ** 2\n",
    "        self.network.eval()\n",
    "\n",
    "        # Obtain the prediction from each network in SGLDSequence and combine the predictions\n",
    "        estimated_probability = torch.zeros((len(x), 10))\n",
    "        for model in self.SGLDSequence:\n",
    "\n",
    "\n",
    "            self.network.load_state_dict(model.state_dict())\n",
    "            logits = self.network(x).detach()\n",
    "            estimated_probability += F.softmax(logits, dim=1)\n",
    "        \n",
    "        # Normalize the combined predictions\n",
    "        estimated_probability /= len(self.SGLDSequence)\n",
    "\n",
    "        assert estimated_probability.shape == (x.shape[0], 10)  \n",
    "        return estimated_probability\n",
    "\n"
   ]
  },
  {
   "attachments": {},
   "cell_type": "markdown",
   "metadata": {},
   "source": [
    "# Normal prior"
   ]
  },
  {
   "cell_type": "code",
   "execution_count": 12,
   "metadata": {},
   "outputs": [
    {
     "name": "stdout",
     "output_type": "stream",
     "text": [
      "Training model\n"
     ]
    },
    {
     "name": "stderr",
     "output_type": "stream",
     "text": [
      "100%|██████████| 100/100 [24:16<00:00, 14.56s/it, acc=1, log_lik_prior=588, loss=588, nll_loss=0.679]   \n"
     ]
    }
   ],
   "source": [
    "lol = SGLDTrainer(train_set,network= FullyConnectedNN(),prior= IsotropicGaussian(mean = 0, std = 100))\n",
    "lol.train()"
   ]
  },
  {
   "cell_type": "code",
   "execution_count": 13,
   "metadata": {},
   "outputs": [
    {
     "name": "stdout",
     "output_type": "stream",
     "text": [
      "Test Accuracy: 0.9710\n"
     ]
    }
   ],
   "source": [
    "# test set\n",
    "x_test = sub_test_set.dataset.data.float()\n",
    "y_test = sub_test_set.dataset.targets\n",
    "\n",
    "# predicted probabilities\n",
    "class_probs = lol.predict_probabilities(x_test)\n",
    "\n",
    "# accuracy\n",
    "accuracy = (class_probs.argmax(axis=1) == y_test).float().mean()\n",
    "print(f'Test Accuracy: {accuracy.item():.4f}')"
   ]
  },
  {
   "cell_type": "code",
   "execution_count": 14,
   "metadata": {},
   "outputs": [
    {
     "name": "stdout",
     "output_type": "stream",
     "text": [
      "Calibration Error: 0.0287\n"
     ]
    }
   ],
   "source": [
    "# Calibration\n",
    "import torchmetrics\n",
    "from torchmetrics.functional import calibration_error\n",
    "\n",
    "calib_err = calibration_error(class_probs, y_test, n_bins = 30, task = \"multiclass\", norm=\"l1\", num_classes=10)\n",
    "print(f'Calibration Error: {calib_err.item():.4f}')"
   ]
  },
  {
   "attachments": {},
   "cell_type": "markdown",
   "metadata": {},
   "source": [
    "# Student-t prior"
   ]
  },
  {
   "cell_type": "code",
   "execution_count": 15,
   "metadata": {},
   "outputs": [],
   "source": [
    "class StudentTPrior(Prior):\n",
    "    \"\"\"\n",
    "    Student-T Prior\n",
    "    \"\"\"\n",
    "    def __init__(self, df=10, loc=0, scale=1, Temperature: float= 1.0):\n",
    "        super().__init__()\n",
    "        self.df = df\n",
    "        self.loc = loc\n",
    "        self.scale = scale\n",
    "        self.Temperature = Temperature\n",
    "\n",
    "    def log_likelihood(self, values) -> torch.Tensor:\n",
    "        return StudentT(self.df, self.loc, self.scale).log_prob(torch.tensor(values)).sum() / self.Temperature\n",
    "\n",
    "    def sample(self,n):\n",
    "        return StudentT(self.df, self.loc, self.scale).sample((n,))  # sample from student-T"
   ]
  },
  {
   "cell_type": "code",
   "execution_count": 16,
   "metadata": {},
   "outputs": [
    {
     "name": "stdout",
     "output_type": "stream",
     "text": [
      "Training model\n"
     ]
    },
    {
     "name": "stderr",
     "output_type": "stream",
     "text": [
      "100%|██████████| 100/100 [22:41<00:00, 13.62s/it, acc=0.984, log_lik_prior=101, loss=104, nll_loss=3.85]\n"
     ]
    }
   ],
   "source": [
    "student_lol = SGLDTrainer(train_set,network = FullyConnectedNN(), prior=StudentTPrior())\n",
    "student_lol.train()"
   ]
  },
  {
   "cell_type": "code",
   "execution_count": 21,
   "metadata": {},
   "outputs": [
    {
     "name": "stdout",
     "output_type": "stream",
     "text": [
      "Test Accuracy: 0.9703\n"
     ]
    }
   ],
   "source": [
    "# predicted probabilities\n",
    "class_probs_t = student_lol.predict_probabilities(x_test)\n",
    "\n",
    "# accuracy\n",
    "accuracy = (class_probs_t.argmax(axis=1) == y_test).float().mean()\n",
    "print(f'Test Accuracy: {accuracy.item():.4f}')"
   ]
  },
  {
   "cell_type": "code",
   "execution_count": 23,
   "metadata": {},
   "outputs": [
    {
     "name": "stdout",
     "output_type": "stream",
     "text": [
      "Calibration Error: 0.0295\n"
     ]
    }
   ],
   "source": [
    "calib_err = calibration_error(class_probs_t, y_test, n_bins = 30, task = \"multiclass\", norm=\"l1\", num_classes=10)\n",
    "print(f'Calibration Error: {calib_err.item():.4f}')"
   ]
  },
  {
   "attachments": {},
   "cell_type": "markdown",
   "metadata": {},
   "source": [
    "# Laplace prior"
   ]
  },
  {
   "cell_type": "code",
   "execution_count": 24,
   "metadata": {},
   "outputs": [],
   "source": [
    "class LaplacePrior(Prior):\n",
    "    \"\"\"\n",
    "    Laplace Prior\n",
    "    \"\"\"\n",
    "    def __init__(self, mu: torch.Tensor, rho: torch.Tensor, Temperature: float=1.0):\n",
    "        super().__init__()\n",
    "        self.mu = mu\n",
    "        self.rho = rho\n",
    "        self.sig = torch.log(1 + torch.exp(rho))   # transform rho\n",
    "        self.Temperature = Temperature\n",
    "\n",
    "    def log_likelihood(self, values: torch.Tensor) -> torch.Tensor:\n",
    "        return dist.Laplace(self.mu, self.sig).log_prob(torch.tensor(values)).sum() / self.Temperature\n",
    "\n",
    "    def sample(self) -> torch.Tensor:\n",
    "        return dist.Laplace(self.mu, self.sig).sample(torch.Tensor(1).shape).view(self.mu.shape)  # sample from laplace"
   ]
  },
  {
   "cell_type": "code",
   "execution_count": 25,
   "metadata": {},
   "outputs": [
    {
     "name": "stdout",
     "output_type": "stream",
     "text": [
      "Training model\n"
     ]
    },
    {
     "name": "stderr",
     "output_type": "stream",
     "text": [
      "100%|██████████| 100/100 [23:57<00:00, 14.38s/it, acc=1, log_lik_prior=106, loss=107, nll_loss=1.1]     \n"
     ]
    }
   ],
   "source": [
    "Laplace_lol = SGLDTrainer(train_set,network = FullyConnectedNN(), prior=LaplacePrior(mu=torch.tensor(0.), rho=torch.tensor(1.)))\n",
    "Laplace_lol.train()"
   ]
  },
  {
   "cell_type": "code",
   "execution_count": 26,
   "metadata": {},
   "outputs": [
    {
     "name": "stdout",
     "output_type": "stream",
     "text": [
      "Test Accuracy: 0.9687\n",
      "Calibration Error: 0.0309\n"
     ]
    }
   ],
   "source": [
    "# predicted probabilities\n",
    "class_probs_t = Laplace_lol.predict_probabilities(x_test)\n",
    "\n",
    "# accuracy\n",
    "accuracy = (class_probs_t.argmax(axis=1) == y_test).float().mean()\n",
    "print(f'Test Accuracy: {accuracy.item():.4f}')\n",
    "\n",
    "calib_err = calibration_error(class_probs_t, y_test, n_bins = 30, task = \"multiclass\", norm=\"l1\", num_classes=10)\n",
    "print(f'Calibration Error: {calib_err.item():.4f}')"
   ]
  },
  {
   "attachments": {},
   "cell_type": "markdown",
   "metadata": {},
   "source": [
    "# Inverse Gamma prior"
   ]
  },
  {
   "cell_type": "code",
   "execution_count": null,
   "metadata": {},
   "outputs": [],
   "source": [
    "from scipy.special import gamma\n",
    "\n",
    "class InverseGamma(Prior):\n",
    "    \"\"\" Inverse Gamma distribution \"\"\"\n",
    "    def __init__(self, shape: torch.Tensor, rate: torch.Tensor, Temperature: float = 1.0):\n",
    "        \"\"\"\n",
    "        shape: shape parameters of the distribution\n",
    "        rate: rate parameters of the distribution\n",
    "        \"\"\"\n",
    "        self.shape = shape\n",
    "        self.rate = rate\n",
    "        self.Temperature = Temperature\n",
    "\n",
    "    def log_likelihood(self, values: torch.Tensor) -> torch.Tensor:\n",
    "        \"\"\"\n",
    "        Computes the value of the predictive log likelihood at the target value\n",
    "        Args:\n",
    "            target: Torch tensor of floats, point(s) to evaluate the logprob\n",
    "        Returns:\n",
    "            loglike: float, the log likelihood\n",
    "        \"\"\"\n",
    "        x = (self.rate**self.shape) / gamma(self.shape)\n",
    "        y = torch.tensor(values)**(-self.shape - 1)\n",
    "        z = torch.exp(-self.rate / values)\n",
    "        return torch.log(x * y * z)\n",
    "\n",
    "    def sample(self) -> torch.Tensor:\n",
    "        # sample from gamma and return 1/x\n",
    "        x = dist.Gamma(self.shape, self.rate).sample()\n",
    "        return 1/x"
   ]
  },
  {
   "cell_type": "code",
   "execution_count": null,
   "metadata": {},
   "outputs": [],
   "source": [
    "IG_lol = SGLDTrainer(sub_train_set,network = FullyConnectedNN(), prior=InverseGamma(shape=torch.tensor(0.5), rate=torch.tensor(0.5)))\n",
    "IG_lol.train()"
   ]
  },
  {
   "cell_type": "code",
   "execution_count": null,
   "metadata": {},
   "outputs": [],
   "source": [
    "# predicted probabilities\n",
    "class_probs_t = IG_lol.predict_probabilities(x_test)\n",
    "\n",
    "# accuracy\n",
    "accuracy = (class_probs_t.argmax(axis=1) == y_test).float().mean()\n",
    "print(f'Test Accuracy: {accuracy.item():.4f}')\n",
    "\n",
    "calib_err = calibration_error(class_probs_t, y_test, n_bins = 30, task = \"multiclass\", norm=\"l1\", num_classes=10)\n",
    "print(f'Calibration Error: {calib_err.item():.4f}')"
   ]
  },
  {
   "attachments": {},
   "cell_type": "markdown",
   "metadata": {},
   "source": [
    "# GMM prior"
   ]
  },
  {
   "cell_type": "code",
   "execution_count": 27,
   "metadata": {},
   "outputs": [],
   "source": [
    "class GaussianMixture(Prior):\n",
    "    \"\"\"\n",
    "    Mixture of 2 gaussians with same mean but different variances\n",
    "    \"\"\"\n",
    "    def __init__(self,  mu: torch.Tensor, rho1: torch.Tensor, rho2: torch.Tensor, mixing_coef: float=0.7 ,Temperature: float = 1.0):\n",
    "        super().__init__()\n",
    "        self.mu = mu\n",
    "        self.rho1 = rho1\n",
    "        self.rho2 = rho2\n",
    "        self.sig1 = torch.log(1 + torch.exp(rho1))  # transform rho\n",
    "        self.sig2 = torch.log(1 + torch.exp(rho2))  # transform rho\n",
    "        self.mixing_coef = mixing_coef\n",
    "        self.Temperature = Temperature\n",
    "\n",
    "    def log_likelihood(self, values: torch.Tensor) -> torch.Tensor:\n",
    "        p1 = dist.Normal(self.mu, self.sig1).log_prob(values)\n",
    "        p2 = dist.Normal(self.mu, self.sig2).log_prob(values)\n",
    "        log_lik = (p1 * self.mixing_coef + p2 * (1-self.mixing_coef)).sum() / self.Temperature\n",
    "        return log_lik\n",
    "\n",
    "    def sample(self) -> torch.Tensor:\n",
    "        eps = torch.randn_like(self.mu)\n",
    "        sample1 = self.mu + self.sig1 * eps\n",
    "        eps = torch.randn_like(self.mu)\n",
    "        sample2 = self.mu + self.sig2 * eps\n",
    "        return sample1 * self.mixing_coef + sample2 * (1-self.mixing_coef)"
   ]
  },
  {
   "cell_type": "code",
   "execution_count": 30,
   "metadata": {},
   "outputs": [
    {
     "name": "stdout",
     "output_type": "stream",
     "text": [
      "Training model\n"
     ]
    },
    {
     "name": "stderr",
     "output_type": "stream",
     "text": [
      "100%|██████████| 100/100 [24:13<00:00, 14.54s/it, acc=1, log_lik_prior=106, loss=106, nll_loss=0.348]   \n"
     ]
    }
   ],
   "source": [
    "GMM_lol = SGLDTrainer(train_set,network = FullyConnectedNN(), prior=LaplacePrior(mu=torch.tensor(0.), rho=torch.tensor(1.)))\n",
    "GMM_lol.train()"
   ]
  },
  {
   "cell_type": "code",
   "execution_count": 31,
   "metadata": {},
   "outputs": [
    {
     "name": "stdout",
     "output_type": "stream",
     "text": [
      "Test Accuracy: 0.9665\n",
      "Calibration Error: 0.0332\n"
     ]
    }
   ],
   "source": [
    "# predicted probabilities\n",
    "class_probs_t = GMM_lol.predict_probabilities(x_test)\n",
    "\n",
    "# accuracy\n",
    "accuracy = (class_probs_t.argmax(axis=1) == y_test).float().mean()\n",
    "print(f'Test Accuracy: {accuracy.item():.4f}')\n",
    "\n",
    "calib_err = calibration_error(class_probs_t, y_test, n_bins = 30, task = \"multiclass\", norm=\"l1\", num_classes=10)\n",
    "print(f'Calibration Error: {calib_err.item():.4f}')"
   ]
  },
  {
   "cell_type": "code",
   "execution_count": null,
   "metadata": {},
   "outputs": [],
   "source": []
  },
  {
   "attachments": {},
   "cell_type": "markdown",
   "metadata": {},
   "source": [
    "# Fortuin SGLD\n"
   ]
  },
  {
   "cell_type": "code",
   "execution_count": 11,
   "metadata": {},
   "outputs": [],
   "source": []
  },
  {
   "cell_type": "code",
   "execution_count": null,
   "metadata": {},
   "outputs": [],
   "source": []
  },
  {
   "cell_type": "code",
   "execution_count": null,
   "metadata": {},
   "outputs": [],
   "source": []
  },
  {
   "cell_type": "code",
   "execution_count": null,
   "metadata": {},
   "outputs": [],
   "source": []
  }
 ],
 "metadata": {
  "kernelspec": {
   "display_name": "Python 3",
   "language": "python",
   "name": "python3"
  },
  "language_info": {
   "codemirror_mode": {
    "name": "ipython",
    "version": 3
   },
   "file_extension": ".py",
   "mimetype": "text/x-python",
   "name": "python",
   "nbconvert_exporter": "python",
   "pygments_lexer": "ipython3",
   "version": "3.8.10 (tags/v3.8.10:3d8993a, May  3 2021, 11:48:03) [MSC v.1928 64 bit (AMD64)]"
  },
  "orig_nbformat": 4,
  "vscode": {
   "interpreter": {
    "hash": "27f3840d2a8e92b9098d5d1f2625c1fbd9e0739b6ace23f817bf68ad3a8d77b4"
   }
  }
 },
 "nbformat": 4,
 "nbformat_minor": 2
}
