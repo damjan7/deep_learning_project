{
 "cells": [
  {
   "cell_type": "code",
   "execution_count": 3,
   "metadata": {},
   "outputs": [],
   "source": [
    "import os\n",
    "import numpy as np\n",
    "import torch\n",
    "import torch.nn as nn\n",
    "import torch.nn.functional as F\n",
    "import torch.optim\n",
    "import torch.utils.data\n",
    "import torchvision\n",
    "import tqdm\n",
    "import matplotlib.pyplot as plt\n",
    "import torch.distributions as dist\n",
    "import abc\n",
    "\n",
    "from torch.utils.data import DataLoader\n",
    "from torch.distributions.distribution import Distribution\n",
    "\n",
    "from priors import *\n",
    "from models import *\n",
    "\n"
   ]
  },
  {
   "cell_type": "code",
   "execution_count": 4,
   "metadata": {},
   "outputs": [
    {
     "name": "stderr",
     "output_type": "stream",
     "text": [
      "Failed to detect the name of this notebook, you can set it manually with the WANDB_NOTEBOOK_NAME environment variable to enable code saving.\n",
      "wandb: Currently logged in as: jorgefernando17. Use `wandb login --relogin` to force relogin\n"
     ]
    },
    {
     "data": {
      "text/html": [
       "Tracking run with wandb version 0.13.7"
      ],
      "text/plain": [
       "<IPython.core.display.HTML object>"
      ]
     },
     "metadata": {},
     "output_type": "display_data"
    },
    {
     "data": {
      "text/html": [
       "Run data is saved locally in <code>c:\\Users\\jorge\\OneDrive\\Dokumente\\Universität\\Master\\HS22\\Deep Learning\\Project\\Coding\\wandb\\run-20221230_192229-1o94rwjh</code>"
      ],
      "text/plain": [
       "<IPython.core.display.HTML object>"
      ]
     },
     "metadata": {},
     "output_type": "display_data"
    },
    {
     "data": {
      "text/html": [
       "Syncing run <strong><a href=\"https://wandb.ai/jorgefernando17/BNN_VI/runs/1o94rwjh\" target=\"_blank\">drawn-fog-53</a></strong> to <a href=\"https://wandb.ai/jorgefernando17/BNN_VI\" target=\"_blank\">Weights & Biases</a> (<a href=\"https://wandb.me/run\" target=\"_blank\">docs</a>)<br/>"
      ],
      "text/plain": [
       "<IPython.core.display.HTML object>"
      ]
     },
     "metadata": {},
     "output_type": "display_data"
    },
    {
     "data": {
      "text/html": [
       "<button onClick=\"this.nextSibling.style.display='block';this.style.display='none';\">Display W&B run</button><iframe src=\"https://wandb.ai/jorgefernando17/BNN_VI/runs/1o94rwjh?jupyter=true\" style=\"border:none;width:100%;height:420px;display:none;\"></iframe>"
      ],
      "text/plain": [
       "<wandb.sdk.wandb_run.Run at 0x164c2b60040>"
      ]
     },
     "execution_count": 4,
     "metadata": {},
     "output_type": "execute_result"
    }
   ],
   "source": [
    "# only run this cell if you use weights and biases for logging\n",
    "import wandb\n",
    "\n",
    "wandb.init(project = \"BNN_VI\", \n",
    "            config = {\"learning_rate\": 0.001,\n",
    "                      \"batch_size\": 128,\n",
    "                      \"epochs\": 10,\n",
    "                      \"hidden_size\": 100,\n",
    "                      \"Temperature\": 0.1,})\n"
   ]
  },
  {
   "cell_type": "code",
   "execution_count": 5,
   "metadata": {},
   "outputs": [],
   "source": [
    "# Load MNIST dataset\n",
    "transform = torchvision.transforms.Compose([torchvision.transforms.ToTensor()])\n",
    "\n",
    "trainset = torchvision.datasets.MNIST(root='./data', train=True, download=False, transform=transform)\n",
    "x_train = torch.from_numpy(trainset.data.numpy().reshape(-1, 28*28))/255.\n",
    "y_train = torch.from_numpy(trainset.targets.numpy())\n",
    "train_data = torch.utils.data.TensorDataset(x_train, y_train)\n",
    "\n",
    "testset = torchvision.datasets.MNIST(root='./data', train=False, download=False, transform=transform)\n",
    "x_test = torch.from_numpy(testset.data.numpy().reshape(-1, 28*28))/255.\n",
    "y_test = torch.from_numpy(testset.targets.numpy())\n",
    "test_data = torch.utils.data.TensorDataset(x_test, y_test)\n",
    "\n",
    "\n",
    "train_loader = DataLoader(train_data, batch_size=64, shuffle=True)\n",
    "test_loader = DataLoader(test_data, batch_size=64, shuffle=False)\n"
   ]
  },
  {
   "cell_type": "code",
   "execution_count": 6,
   "metadata": {},
   "outputs": [
    {
     "name": "stdout",
     "output_type": "stream",
     "text": [
      "5\n"
     ]
    },
    {
     "data": {
      "image/png": "[encoded data removed]",
      "text/plain": [
       "<Figure size 432x288 with 1 Axes>"
      ]
     },
     "metadata": {
      "needs_background": "light"
     },
     "output_type": "display_data"
    }
   ],
   "source": [
    "feature = trainset[0][0]\n",
    "label = trainset[0][1]\n",
    "print(label)\n",
    "plt.imshow(feature.squeeze(), cmap='gray')\n",
    "plt.show()\n"
   ]
  },
  {
   "cell_type": "code",
   "execution_count": 7,
   "metadata": {},
   "outputs": [
    {
     "name": "stderr",
     "output_type": "stream",
     "text": [
      "  0%|          | 0/10 [00:00<?, ?it/s]"
     ]
    },
    {
     "name": "stdout",
     "output_type": "stream",
     "text": [
      "Bayesian_Neural_Network(\n",
      "  (layers): ModuleList(\n",
      "    (0): Linear_Layer(\n",
      "      (weight_prior): MultivariateDiagonalGaussian()\n",
      "      (bias_prior): MultivariateDiagonalGaussian()\n",
      "      (weight_posterior): MultivariateDiagonalGaussian()\n",
      "      (bias_posterior): MultivariateDiagonalGaussian()\n",
      "    )\n",
      "    (1): Linear_Layer(\n",
      "      (weight_prior): MultivariateDiagonalGaussian()\n",
      "      (bias_prior): MultivariateDiagonalGaussian()\n",
      "      (weight_posterior): MultivariateDiagonalGaussian()\n",
      "      (bias_posterior): MultivariateDiagonalGaussian()\n",
      "    )\n",
      "  )\n",
      "  (activation): ReLU(inplace=True)\n",
      ")\n",
      "Epoch: 0 | Batch: 0 | Loss: -25.382606506347656, accuracy: 0.140625\n"
     ]
    },
    {
     "name": "stderr",
     "output_type": "stream",
     "text": [
      "c:\\Users\\jorge\\anaconda3\\lib\\site-packages\\torch\\optim\\lr_scheduler.py:371: UserWarning: To get the last learning rate computed by the scheduler, please use `get_last_lr()`.\n",
      "  warnings.warn(\"To get the last learning rate computed by the scheduler, \"\n"
     ]
    },
    {
     "name": "stdout",
     "output_type": "stream",
     "text": [
      "Epoch: 0 | Batch: 100 | Loss: -21.55978775024414, accuracy: 0.0625\n",
      "Epoch: 0 | Batch: 200 | Loss: -21.210094451904297, accuracy: 0.09375\n",
      "Epoch: 0 | Batch: 300 | Loss: -21.245655059814453, accuracy: 0.015625\n",
      "Epoch: 0 | Batch: 400 | Loss: -22.652477264404297, accuracy: 0.109375\n",
      "Epoch: 0 | Batch: 500 | Loss: -22.17298126220703, accuracy: 0.0625\n",
      "Epoch: 0 | Batch: 600 | Loss: -24.517311096191406, accuracy: 0.1875\n",
      "Epoch: 0 | Batch: 700 | Loss: -26.467578887939453, accuracy: 0.125\n",
      "Epoch: 0 | Batch: 800 | Loss: -26.19237518310547, accuracy: 0.15625\n",
      "Epoch: 0 | Batch: 900 | Loss: -23.932968139648438, accuracy: 0.078125\n"
     ]
    },
    {
     "name": "stderr",
     "output_type": "stream",
     "text": [
      " 10%|█         | 1/10 [00:41<06:14, 41.64s/it]"
     ]
    },
    {
     "name": "stdout",
     "output_type": "stream",
     "text": [
      "Epoch: 1 | Batch: 0 | Loss: -24.243560791015625, accuracy: 0.1875\n",
      "Epoch: 1 | Batch: 100 | Loss: -21.299623489379883, accuracy: 0.140625\n",
      "Epoch: 1 | Batch: 200 | Loss: -29.035717010498047, accuracy: 0.171875\n",
      "Epoch: 1 | Batch: 300 | Loss: -29.197616577148438, accuracy: 0.21875\n",
      "Epoch: 1 | Batch: 400 | Loss: -29.193588256835938, accuracy: 0.140625\n",
      "Epoch: 1 | Batch: 500 | Loss: -32.4738883972168, accuracy: 0.125\n",
      "Epoch: 1 | Batch: 600 | Loss: -31.402193069458008, accuracy: 0.171875\n",
      "Epoch: 1 | Batch: 700 | Loss: -37.98482894897461, accuracy: 0.359375\n",
      "Epoch: 1 | Batch: 800 | Loss: -37.002681732177734, accuracy: 0.3125\n",
      "Epoch: 1 | Batch: 900 | Loss: -38.53569793701172, accuracy: 0.4375\n"
     ]
    },
    {
     "name": "stderr",
     "output_type": "stream",
     "text": [
      " 20%|██        | 2/10 [01:20<05:26, 40.85s/it]"
     ]
    },
    {
     "name": "stdout",
     "output_type": "stream",
     "text": [
      "Epoch: 2 | Batch: 0 | Loss: -37.6713981628418, accuracy: 0.359375\n",
      "Epoch: 2 | Batch: 100 | Loss: -43.17170715332031, accuracy: 0.46875\n",
      "Epoch: 2 | Batch: 200 | Loss: -43.524288177490234, accuracy: 0.53125\n",
      "Epoch: 2 | Batch: 300 | Loss: -40.8895263671875, accuracy: 0.375\n",
      "Epoch: 2 | Batch: 400 | Loss: -39.900753021240234, accuracy: 0.46875\n",
      "Epoch: 2 | Batch: 500 | Loss: -46.13690185546875, accuracy: 0.5\n",
      "Epoch: 2 | Batch: 600 | Loss: -49.978206634521484, accuracy: 0.578125\n",
      "Epoch: 2 | Batch: 700 | Loss: -40.635986328125, accuracy: 0.40625\n",
      "Epoch: 2 | Batch: 800 | Loss: -48.31614685058594, accuracy: 0.53125\n",
      "Epoch: 2 | Batch: 900 | Loss: -42.888587951660156, accuracy: 0.46875\n"
     ]
    },
    {
     "name": "stderr",
     "output_type": "stream",
     "text": [
      " 30%|███       | 3/10 [02:00<04:44, 40.67s/it]"
     ]
    },
    {
     "name": "stdout",
     "output_type": "stream",
     "text": [
      "Epoch: 3 | Batch: 0 | Loss: -48.995201110839844, accuracy: 0.484375\n",
      "Epoch: 3 | Batch: 100 | Loss: -53.36888885498047, accuracy: 0.625\n",
      "Epoch: 3 | Batch: 200 | Loss: -56.194541931152344, accuracy: 0.640625\n",
      "Epoch: 3 | Batch: 300 | Loss: -51.26356887817383, accuracy: 0.59375\n",
      "Epoch: 3 | Batch: 400 | Loss: -46.07379150390625, accuracy: 0.484375\n",
      "Epoch: 3 | Batch: 500 | Loss: -44.501434326171875, accuracy: 0.453125\n",
      "Epoch: 3 | Batch: 600 | Loss: -45.62287139892578, accuracy: 0.5\n",
      "Epoch: 3 | Batch: 700 | Loss: -58.85750198364258, accuracy: 0.671875\n",
      "Epoch: 3 | Batch: 800 | Loss: -54.37439727783203, accuracy: 0.609375\n",
      "Epoch: 3 | Batch: 900 | Loss: -52.68785858154297, accuracy: 0.609375\n"
     ]
    },
    {
     "name": "stderr",
     "output_type": "stream",
     "text": [
      " 40%|████      | 4/10 [02:38<03:58, 39.78s/it]"
     ]
    },
    {
     "name": "stdout",
     "output_type": "stream",
     "text": [
      "Epoch: 4 | Batch: 0 | Loss: -58.72350311279297, accuracy: 0.671875\n",
      "Epoch: 4 | Batch: 100 | Loss: -52.705413818359375, accuracy: 0.5625\n",
      "Epoch: 4 | Batch: 200 | Loss: -52.418357849121094, accuracy: 0.609375\n",
      "Epoch: 4 | Batch: 300 | Loss: -53.747581481933594, accuracy: 0.59375\n",
      "Epoch: 4 | Batch: 400 | Loss: -48.403072357177734, accuracy: 0.5625\n",
      "Epoch: 4 | Batch: 500 | Loss: -54.819129943847656, accuracy: 0.640625\n",
      "Epoch: 4 | Batch: 600 | Loss: -53.06112289428711, accuracy: 0.609375\n",
      "Epoch: 4 | Batch: 700 | Loss: -55.926429748535156, accuracy: 0.609375\n",
      "Epoch: 4 | Batch: 800 | Loss: -54.02983093261719, accuracy: 0.65625\n",
      "Epoch: 4 | Batch: 900 | Loss: -51.80818176269531, accuracy: 0.546875\n"
     ]
    },
    {
     "name": "stderr",
     "output_type": "stream",
     "text": [
      " 50%|█████     | 5/10 [03:18<03:18, 39.69s/it]"
     ]
    },
    {
     "name": "stdout",
     "output_type": "stream",
     "text": [
      "Epoch: 5 | Batch: 0 | Loss: -50.37287902832031, accuracy: 0.578125\n",
      "Epoch: 5 | Batch: 100 | Loss: -58.88292694091797, accuracy: 0.625\n",
      "Epoch: 5 | Batch: 200 | Loss: -56.5912971496582, accuracy: 0.65625\n",
      "Epoch: 5 | Batch: 300 | Loss: -50.92012405395508, accuracy: 0.609375\n",
      "Epoch: 5 | Batch: 400 | Loss: -51.806861877441406, accuracy: 0.5625\n",
      "Epoch: 5 | Batch: 500 | Loss: -54.850521087646484, accuracy: 0.65625\n",
      "Epoch: 5 | Batch: 600 | Loss: -61.243804931640625, accuracy: 0.6875\n",
      "Epoch: 5 | Batch: 700 | Loss: -52.564476013183594, accuracy: 0.53125\n",
      "Epoch: 5 | Batch: 800 | Loss: -55.667236328125, accuracy: 0.65625\n",
      "Epoch: 5 | Batch: 900 | Loss: -60.8765869140625, accuracy: 0.640625\n"
     ]
    },
    {
     "name": "stderr",
     "output_type": "stream",
     "text": [
      " 60%|██████    | 6/10 [04:01<02:42, 40.67s/it]"
     ]
    },
    {
     "name": "stdout",
     "output_type": "stream",
     "text": [
      "Epoch: 6 | Batch: 0 | Loss: -59.18873596191406, accuracy: 0.671875\n",
      "Epoch: 6 | Batch: 100 | Loss: -59.77996063232422, accuracy: 0.6875\n",
      "Epoch: 6 | Batch: 200 | Loss: -59.14929962158203, accuracy: 0.65625\n",
      "Epoch: 6 | Batch: 300 | Loss: -62.266510009765625, accuracy: 0.796875\n",
      "Epoch: 6 | Batch: 400 | Loss: -56.89664840698242, accuracy: 0.703125\n",
      "Epoch: 6 | Batch: 500 | Loss: -57.36995315551758, accuracy: 0.65625\n",
      "Epoch: 6 | Batch: 600 | Loss: -60.80188751220703, accuracy: 0.71875\n",
      "Epoch: 6 | Batch: 700 | Loss: -58.33777618408203, accuracy: 0.609375\n",
      "Epoch: 6 | Batch: 800 | Loss: -63.98553466796875, accuracy: 0.75\n",
      "Epoch: 6 | Batch: 900 | Loss: -63.7171745300293, accuracy: 0.78125\n"
     ]
    },
    {
     "name": "stderr",
     "output_type": "stream",
     "text": [
      " 70%|███████   | 7/10 [04:44<02:04, 41.47s/it]"
     ]
    },
    {
     "name": "stdout",
     "output_type": "stream",
     "text": [
      "Epoch: 7 | Batch: 0 | Loss: -59.75841522216797, accuracy: 0.703125\n",
      "Epoch: 7 | Batch: 100 | Loss: -59.42042541503906, accuracy: 0.65625\n",
      "Epoch: 7 | Batch: 200 | Loss: -57.62932205200195, accuracy: 0.640625\n",
      "Epoch: 7 | Batch: 300 | Loss: -64.47404479980469, accuracy: 0.6875\n",
      "Epoch: 7 | Batch: 400 | Loss: -57.81060028076172, accuracy: 0.546875\n",
      "Epoch: 7 | Batch: 500 | Loss: -57.986228942871094, accuracy: 0.59375\n",
      "Epoch: 7 | Batch: 600 | Loss: -57.34613800048828, accuracy: 0.640625\n",
      "Epoch: 7 | Batch: 700 | Loss: -69.29993438720703, accuracy: 0.84375\n",
      "Epoch: 7 | Batch: 800 | Loss: -58.797203063964844, accuracy: 0.703125\n",
      "Epoch: 7 | Batch: 900 | Loss: -64.32237243652344, accuracy: 0.8125\n"
     ]
    },
    {
     "name": "stderr",
     "output_type": "stream",
     "text": [
      " 80%|████████  | 8/10 [05:26<01:23, 41.71s/it]"
     ]
    },
    {
     "name": "stdout",
     "output_type": "stream",
     "text": [
      "Epoch: 8 | Batch: 0 | Loss: -60.922264099121094, accuracy: 0.703125\n",
      "Epoch: 8 | Batch: 100 | Loss: -60.906368255615234, accuracy: 0.734375\n",
      "Epoch: 8 | Batch: 200 | Loss: -65.03965759277344, accuracy: 0.8125\n",
      "Epoch: 8 | Batch: 300 | Loss: -63.88807678222656, accuracy: 0.78125\n",
      "Epoch: 8 | Batch: 400 | Loss: -59.067100524902344, accuracy: 0.703125\n",
      "Epoch: 8 | Batch: 500 | Loss: -65.09175872802734, accuracy: 0.765625\n",
      "Epoch: 8 | Batch: 600 | Loss: -67.79367065429688, accuracy: 0.828125\n",
      "Epoch: 8 | Batch: 700 | Loss: -66.2960205078125, accuracy: 0.78125\n",
      "Epoch: 8 | Batch: 800 | Loss: -65.63008880615234, accuracy: 0.75\n",
      "Epoch: 8 | Batch: 900 | Loss: -63.79781723022461, accuracy: 0.78125\n"
     ]
    },
    {
     "name": "stderr",
     "output_type": "stream",
     "text": [
      " 90%|█████████ | 9/10 [06:04<00:40, 40.55s/it]"
     ]
    },
    {
     "name": "stdout",
     "output_type": "stream",
     "text": [
      "Epoch: 9 | Batch: 0 | Loss: -65.17582702636719, accuracy: 0.75\n",
      "Epoch: 9 | Batch: 100 | Loss: -66.12711334228516, accuracy: 0.75\n",
      "Epoch: 9 | Batch: 200 | Loss: -65.3927230834961, accuracy: 0.8125\n",
      "Epoch: 9 | Batch: 300 | Loss: -60.99403381347656, accuracy: 0.71875\n",
      "Epoch: 9 | Batch: 400 | Loss: -64.03375244140625, accuracy: 0.765625\n",
      "Epoch: 9 | Batch: 500 | Loss: -67.22047424316406, accuracy: 0.84375\n",
      "Epoch: 9 | Batch: 600 | Loss: -62.90800857543945, accuracy: 0.765625\n",
      "Epoch: 9 | Batch: 700 | Loss: -62.14739990234375, accuracy: 0.75\n",
      "Epoch: 9 | Batch: 800 | Loss: -62.72443771362305, accuracy: 0.734375\n",
      "Epoch: 9 | Batch: 900 | Loss: -67.0567398071289, accuracy: 0.828125\n"
     ]
    },
    {
     "name": "stderr",
     "output_type": "stream",
     "text": [
      "100%|██████████| 10/10 [06:44<00:00, 40.41s/it]\n"
     ]
    }
   ],
   "source": [
    "# set the Temperature\n",
    "Temperature_posterior = 0.1\n",
    "\n",
    "# create the Bayesian Neural Network\n",
    "model = Bayesian_Neural_Network(input_dim = 28*28, output_dim = 10, hidden_dims = [100], Temperature = Temperature_posterior)\n",
    "print(model)\n",
    "\n",
    "# define the optimizer\n",
    "optimizer = torch.optim.Adam(model.parameters(), lr = 0.005)\n",
    "scheduler = torch.optim.lr_scheduler.StepLR(optimizer, step_size = 1, gamma = 0.99)\n",
    "\n",
    "# train the model\n",
    "epochs = 10\n",
    "num_samples = 5\n",
    "\n",
    "for epoch in tqdm.tqdm(range(epochs)):\n",
    "    num_batches = len(train_loader)\n",
    "    for i, (x, y) in enumerate(train_loader):\n",
    "        # zero the gradients\n",
    "        optimizer.zero_grad()\n",
    "\n",
    "        # reshape the data\n",
    "        x = x.view(-1, 28*28)\n",
    "\n",
    "        # reset loss\n",
    "        loss = torch.tensor(0.0)\n",
    "\n",
    "        # forward pass\n",
    "        for e in range(num_samples):\n",
    "            output, kl_divergence = model(x)\n",
    "            loss += (F.nll_loss(F.softmax(output, dim = 1), y, reduction = \"sum\") + kl_divergence/num_batches)/num_samples\n",
    "\n",
    "        # backward pass\n",
    "        loss.backward(retain_graph=True)\n",
    "        optimizer.step()\n",
    "        \n",
    "        # accuracy\n",
    "        acc = torch.mean((torch.argmax(F.softmax(output, dim = 1), dim = 1) == y).float())\n",
    "\n",
    "        # print the loss\n",
    "        if i % 100 == 0:\n",
    "            print(f\"Epoch: {epoch} | Batch: {i} | Loss: {loss.item()}, accuracy: {acc.item()}\")\n",
    "            scheduler.step()\n",
    "            wandb.log({\"loss\": loss.item(), \"accuracy\": acc.item(), \"epoch\": epoch, \"batch\": i})\n",
    "            wandb.log({\"learning_rate\": scheduler.get_lr()[0]})\n",
    "           \n",
    "        "
   ]
  },
  {
   "cell_type": "code",
   "execution_count": 8,
   "metadata": {},
   "outputs": [
    {
     "name": "stdout",
     "output_type": "stream",
     "text": [
      "Accuracy: 0.8289999961853027\n",
      "tensor([[7, 7],\n",
      "        [2, 2],\n",
      "        [1, 1],\n",
      "        ...,\n",
      "        [4, 4],\n",
      "        [8, 5],\n",
      "        [6, 6]])\n"
     ]
    },
    {
     "name": "stderr",
     "output_type": "stream",
     "text": [
      "<ipython-input-8-b9e61f8612f3>:8: UserWarning: To copy construct from a tensor, it is recommended to use sourceTensor.clone().detach() or sourceTensor.clone().detach().requires_grad_(True), rather than torch.tensor(sourceTensor).\n",
      "  print(torch.hstack((torch.tensor(predicted_class).unsqueeze(1), torch.tensor(y_test).unsqueeze(1))))\n"
     ]
    }
   ],
   "source": [
    "# predict class probabilities for the test data\n",
    "predicted_probs = model.predict_probs(x_test, 100)\n",
    "predicted_class = torch.argmax(predicted_probs, axis = 1)\n",
    "\n",
    "accuracy = torch.sum(predicted_class == y_test) / len(y_test)\n",
    "print(f\"Accuracy: {accuracy}\")\n",
    "\n",
    "print(torch.hstack((torch.tensor(predicted_class).unsqueeze(1), torch.tensor(y_test).unsqueeze(1))))"
   ]
  },
  {
   "cell_type": "code",
   "execution_count": 9,
   "metadata": {},
   "outputs": [],
   "source": [
    "def ece(predicted_probabilities: np.ndarray, labels: np.ndarray, n_bins: int = 30) -> float:\n",
    "    \"\"\"\n",
    "    Computes the Expected Calibration Error (ECE).\n",
    "    Many options are possible; in this implementation, we provide a simple version.\n",
    "    Using a uniform binning scheme on the full range of probabilities, zero\n",
    "    to one, we bin the probabilities of the predicted label only (ignoring\n",
    "    all other probabilities). For the ith bin, we compute the avg predicted\n",
    "    probability, p_i, and the bin's total accuracy, a_i.\n",
    "    We then compute the ith calibration error of the bin, |p_i - a_i|.\n",
    "    The final returned value is the weighted average of calibration errors of each bin.\n",
    "    :param predicted_probabilities: Predicted probabilities, float array of shape (num_samples, num_classes)\n",
    "    :param labels: True labels, int tensor of shape (num_samples,) with each entry in {0, ..., num_classes - 1}\n",
    "    :param n_bins: Number of bins for histogram binning\n",
    "    :return: ECE score as a float\n",
    "    \"\"\"\n",
    "    num_samples, num_classes = predicted_probabilities.shape\n",
    "\n",
    "    # Predictions are the classes with highest probability\n",
    "    predictions = np.argmax(predicted_probabilities, axis=1)\n",
    "    prediction_confidences = predicted_probabilities[range(num_samples), predictions]\n",
    "\n",
    "    # Use uniform bins on the range of probabilities, i.e. closed interval [0.,1.]\n",
    "    bin_upper_edges = np.histogram_bin_edges([], bins=n_bins, range=(0., 1.))\n",
    "    bin_upper_edges = bin_upper_edges[1:]  # bin_upper_edges[0] = 0.\n",
    "\n",
    "    probs_as_bin_num = np.digitize(prediction_confidences, bin_upper_edges)\n",
    "    sums_per_bin = np.bincount(probs_as_bin_num, minlength=n_bins, weights=prediction_confidences)\n",
    "    sums_per_bin = sums_per_bin.astype(np.float32)\n",
    "\n",
    "    total_per_bin = np.bincount(probs_as_bin_num, minlength=n_bins) \\\n",
    "        + np.finfo(sums_per_bin.dtype).eps  # division by zero\n",
    "    avg_prob_per_bin = sums_per_bin / total_per_bin\n",
    "\n",
    "    onehot_labels = np.eye(num_classes)[labels]\n",
    "    accuracies = onehot_labels[range(num_samples), predictions]  # accuracies[i] is 0 or 1\n",
    "    accuracies_per_bin = np.bincount(probs_as_bin_num, weights=accuracies, minlength=n_bins) / total_per_bin\n",
    "\n",
    "    prob_of_being_in_a_bin = total_per_bin / float(num_samples)\n",
    "\n",
    "    ece_ret = np.abs(accuracies_per_bin - avg_prob_per_bin) * prob_of_being_in_a_bin\n",
    "    ece_ret = np.sum(ece_ret)\n",
    "    return float(ece_ret)"
   ]
  },
  {
   "cell_type": "code",
   "execution_count": 10,
   "metadata": {},
   "outputs": [
    {
     "data": {
      "text/html": [
       "Waiting for W&B process to finish... <strong style=\"color:green\">(success).</strong>"
      ],
      "text/plain": [
       "<IPython.core.display.HTML object>"
      ]
     },
     "metadata": {},
     "output_type": "display_data"
    },
    {
     "data": {
      "text/html": [
       "<style>\n",
       "    table.wandb td:nth-child(1) { padding: 0 10px; text-align: left ; width: auto;} td:nth-child(2) {text-align: left ; width: 100%}\n",
       "    .wandb-row { display: flex; flex-direction: row; flex-wrap: wrap; justify-content: flex-start; width: 100% }\n",
       "    .wandb-col { display: flex; flex-direction: column; flex-basis: 100%; flex: 1; padding: 10px; }\n",
       "    </style>\n",
       "<div class=\"wandb-row\"><div class=\"wandb-col\"><h3>Run history:</h3><br/><table class=\"wandb\"><tr><td>accuracy</td><td>▂▁▁▂▂▂▂▄▄▅▅▄▅▆▅▆▇▆▆▆▆▆▆▆▇█▇▇▆▇▆▇▇██▇▇▇▇█</td></tr><tr><td>batch</td><td>▁▃▅▆▁▃▅▆▁▃▅▆▁▃▅▇▁▃▅▇▁▃▅▇▁▃▆▇▂▃▆▇▂▃▆▇▂▃▆█</td></tr><tr><td>epoch</td><td>▁▁▁▁▂▂▂▂▃▃▃▃▃▃▃▃▄▄▄▄▅▅▅▅▆▆▆▆▆▆▆▆▇▇▇▇████</td></tr><tr><td>learning_rate</td><td>██▇▇▇▇▆▆▆▆▆▅▅▅▅▄▄▄▄▄▄▃▃▃▃▃▃▃▂▂▂▂▂▂▂▁▁▁▁▁</td></tr><tr><td>loss</td><td>▇██▇█▇▆▅▆▅▄▅▄▃▅▃▂▃▃▃▄▄▃▃▂▂▂▂▂▁▃▂▂▂▁▁▁▂▂▁</td></tr></table><br/></div><div class=\"wandb-col\"><h3>Run summary:</h3><br/><table class=\"wandb\"><tr><td>accuracy</td><td>0.82812</td></tr><tr><td>batch</td><td>900</td></tr><tr><td>epoch</td><td>9</td></tr><tr><td>learning_rate</td><td>0.00181</td></tr><tr><td>loss</td><td>-67.05674</td></tr></table><br/></div></div>"
      ],
      "text/plain": [
       "<IPython.core.display.HTML object>"
      ]
     },
     "metadata": {},
     "output_type": "display_data"
    },
    {
     "data": {
      "text/html": [
       "Synced <strong style=\"color:#cdcd00\">drawn-fog-53</strong>: <a href=\"https://wandb.ai/jorgefernando17/BNN_VI/runs/1o94rwjh\" target=\"_blank\">https://wandb.ai/jorgefernando17/BNN_VI/runs/1o94rwjh</a><br/>Synced 6 W&B file(s), 0 media file(s), 0 artifact file(s) and 0 other file(s)"
      ],
      "text/plain": [
       "<IPython.core.display.HTML object>"
      ]
     },
     "metadata": {},
     "output_type": "display_data"
    },
    {
     "data": {
      "text/html": [
       "Find logs at: <code>.\\wandb\\run-20221230_192229-1o94rwjh\\logs</code>"
      ],
      "text/plain": [
       "<IPython.core.display.HTML object>"
      ]
     },
     "metadata": {},
     "output_type": "display_data"
    }
   ],
   "source": [
    "wandb.finish()"
   ]
  }
 ],
 "metadata": {
  "kernelspec": {
   "display_name": "base",
   "language": "python",
   "name": "python3"
  },
  "language_info": {
   "codemirror_mode": {
    "name": "ipython",
    "version": 3
   },
   "file_extension": ".py",
   "mimetype": "text/x-python",
   "name": "python",
   "nbconvert_exporter": "python",
   "pygments_lexer": "ipython3",
   "version": "3.8.3"
  },
  "vscode": {
   "interpreter": {
    "hash": "9412b45e6a57aa9914730508726d49801d3b2c579f461e1fb13c705887a7b1f6"
   }
  }
 },
 "nbformat": 4,
 "nbformat_minor": 4
}
