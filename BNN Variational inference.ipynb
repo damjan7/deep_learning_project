{
 "cells": [
  {
   "cell_type": "code",
   "execution_count": 2,
   "metadata": {},
   "outputs": [],
   "source": [
    "import os\n",
    "import numpy as np\n",
    "import torch\n",
    "import torch.nn as nn\n",
    "import torch.nn.functional as F\n",
    "import torch.optim\n",
    "import torch.utils.data\n",
    "import torchvision\n",
    "import tqdm\n",
    "import matplotlib.pyplot as plt\n",
    "import torch.distributions as dist\n",
    "import abc\n",
    "\n",
    "from torch.utils.data import DataLoader\n",
    "from torch.distributions.distribution import Distribution\n",
    "\n",
    "from priors import *\n",
    "from models import *\n",
    "\n"
   ]
  },
  {
   "cell_type": "code",
   "execution_count": 4,
   "metadata": {},
   "outputs": [
    {
     "name": "stderr",
     "output_type": "stream",
     "text": [
      "Failed to detect the name of this notebook, you can set it manually with the WANDB_NOTEBOOK_NAME environment variable to enable code saving.\n",
      "wandb: Currently logged in as: jorgefernando17. Use `wandb login --relogin` to force relogin\n"
     ]
    },
    {
     "data": {
      "text/html": [
       "Tracking run with wandb version 0.13.7"
      ],
      "text/plain": [
       "<IPython.core.display.HTML object>"
      ]
     },
     "metadata": {},
     "output_type": "display_data"
    },
    {
     "data": {
      "text/html": [
       "Run data is saved locally in <code>c:\\Users\\jorge\\OneDrive\\Dokumente\\Universität\\Master\\HS22\\Deep Learning\\Project\\Coding\\wandb\\run-20221230_192229-1o94rwjh</code>"
      ],
      "text/plain": [
       "<IPython.core.display.HTML object>"
      ]
     },
     "metadata": {},
     "output_type": "display_data"
    },
    {
     "data": {
      "text/html": [
       "Syncing run <strong><a href=\"https://wandb.ai/jorgefernando17/BNN_VI/runs/1o94rwjh\" target=\"_blank\">drawn-fog-53</a></strong> to <a href=\"https://wandb.ai/jorgefernando17/BNN_VI\" target=\"_blank\">Weights & Biases</a> (<a href=\"https://wandb.me/run\" target=\"_blank\">docs</a>)<br/>"
      ],
      "text/plain": [
       "<IPython.core.display.HTML object>"
      ]
     },
     "metadata": {},
     "output_type": "display_data"
    },
    {
     "data": {
      "text/html": [
       "<button onClick=\"this.nextSibling.style.display='block';this.style.display='none';\">Display W&B run</button><iframe src=\"https://wandb.ai/jorgefernando17/BNN_VI/runs/1o94rwjh?jupyter=true\" style=\"border:none;width:100%;height:420px;display:none;\"></iframe>"
      ],
      "text/plain": [
       "<wandb.sdk.wandb_run.Run at 0x164c2b60040>"
      ]
     },
     "execution_count": 4,
     "metadata": {},
     "output_type": "execute_result"
    }
   ],
   "source": [
    "# only run this cell if you use weights and biases for logging\n",
    "import wandb\n",
    "\n",
    "wandb.init(project = \"BNN_VI\", \n",
    "            config = {\"learning_rate\": 0.001,\n",
    "                      \"batch_size\": 128,\n",
    "                      \"epochs\": 10,\n",
    "                      \"hidden_size\": 100,\n",
    "                      \"Temperature\": 0.1,})\n"
   ]
  },
  {
   "cell_type": "code",
   "execution_count": 3,
   "metadata": {},
   "outputs": [],
   "source": [
    "# Load MNIST dataset\n",
    "transform = torchvision.transforms.Compose([torchvision.transforms.ToTensor()])\n",
    "\n",
    "trainset = torchvision.datasets.MNIST(root='./data', train=True, download=False, transform=transform)\n",
    "x_train = torch.from_numpy(trainset.data.numpy().reshape(-1, 28*28))/255.\n",
    "y_train = torch.from_numpy(trainset.targets.numpy())\n",
    "train_data = torch.utils.data.TensorDataset(x_train, y_train)\n",
    "\n",
    "testset = torchvision.datasets.MNIST(root='./data', train=False, download=False, transform=transform)\n",
    "x_test = torch.from_numpy(testset.data.numpy().reshape(-1, 28*28))/255.\n",
    "y_test = torch.from_numpy(testset.targets.numpy())\n",
    "test_data = torch.utils.data.TensorDataset(x_test, y_test)\n",
    "\n",
    "\n",
    "train_loader = DataLoader(train_data, batch_size=64, shuffle=True)\n",
    "test_loader = DataLoader(test_data, batch_size=64, shuffle=False)\n"
   ]
  },
  {
   "cell_type": "code",
   "execution_count": 4,
   "metadata": {},
   "outputs": [
    {
     "name": "stdout",
     "output_type": "stream",
     "text": [
      "5\n"
     ]
    },
    {
     "data": {
      "image/png": "[encoded data removed]",
      "text/plain": [
       "<Figure size 640x480 with 1 Axes>"
      ]
     },
     "metadata": {},
     "output_type": "display_data"
    }
   ],
   "source": [
    "feature = trainset[0][0]\n",
    "label = trainset[0][1]\n",
    "print(label)\n",
    "plt.imshow(feature.squeeze(), cmap='gray')\n",
    "plt.show()\n"
   ]
  },
  {
   "cell_type": "code",
   "execution_count": 6,
   "metadata": {},
   "outputs": [
    {
     "ename": "TypeError",
     "evalue": "cannot assign 'torch.FloatTensor' as parameter 'rho' (torch.nn.Parameter or None expected)",
     "output_type": "error",
     "traceback": [
      "\u001b[1;31m---------------------------------------------------------------------------\u001b[0m",
      "\u001b[1;31mTypeError\u001b[0m                                 Traceback (most recent call last)",
      "Input \u001b[1;32mIn [6]\u001b[0m, in \u001b[0;36m<cell line: 5>\u001b[1;34m()\u001b[0m\n\u001b[0;32m      2\u001b[0m Temperature_posterior \u001b[38;5;241m=\u001b[39m \u001b[38;5;241m0.1\u001b[39m\n\u001b[0;32m      4\u001b[0m \u001b[38;5;66;03m# create the Bayesian Neural Network\u001b[39;00m\n\u001b[1;32m----> 5\u001b[0m model \u001b[38;5;241m=\u001b[39m \u001b[43mBayesian_Neural_Network\u001b[49m\u001b[43m(\u001b[49m\u001b[43minput_dim\u001b[49m\u001b[43m \u001b[49m\u001b[38;5;241;43m=\u001b[39;49m\u001b[43m \u001b[49m\u001b[38;5;241;43m28\u001b[39;49m\u001b[38;5;241;43m*\u001b[39;49m\u001b[38;5;241;43m28\u001b[39;49m\u001b[43m,\u001b[49m\u001b[43m \u001b[49m\u001b[43moutput_dim\u001b[49m\u001b[43m \u001b[49m\u001b[38;5;241;43m=\u001b[39;49m\u001b[43m \u001b[49m\u001b[38;5;241;43m10\u001b[39;49m\u001b[43m,\u001b[49m\u001b[43m \u001b[49m\u001b[43mhidden_dims\u001b[49m\u001b[43m \u001b[49m\u001b[38;5;241;43m=\u001b[39;49m\u001b[43m \u001b[49m\u001b[43m[\u001b[49m\u001b[38;5;241;43m100\u001b[39;49m\u001b[43m]\u001b[49m\u001b[43m,\u001b[49m\u001b[43m \u001b[49m\u001b[43mTemperature\u001b[49m\u001b[43m \u001b[49m\u001b[38;5;241;43m=\u001b[39;49m\u001b[43m \u001b[49m\u001b[43mTemperature_posterior\u001b[49m\u001b[43m)\u001b[49m\n\u001b[0;32m      6\u001b[0m \u001b[38;5;28mprint\u001b[39m(model)\n\u001b[0;32m      8\u001b[0m \u001b[38;5;66;03m# define the optimizer\u001b[39;00m\n",
      "File \u001b[1;32m~\\OneDrive\\Damjan\\HS22\\Deep Learning\\project\\dev\\models.py:109\u001b[0m, in \u001b[0;36mBayesian_Neural_Network.__init__\u001b[1;34m(self, input_dim, output_dim, hidden_dims, Temperature)\u001b[0m\n\u001b[0;32m    106\u001b[0m \u001b[38;5;28mself\u001b[39m\u001b[38;5;241m.\u001b[39mlayers \u001b[38;5;241m=\u001b[39m nn\u001b[38;5;241m.\u001b[39mModuleList()\n\u001b[0;32m    108\u001b[0m \u001b[38;5;66;03m# create the input layer\u001b[39;00m\n\u001b[1;32m--> 109\u001b[0m \u001b[38;5;28mself\u001b[39m\u001b[38;5;241m.\u001b[39mlayers\u001b[38;5;241m.\u001b[39mappend(\u001b[43mLinear_Layer\u001b[49m\u001b[43m(\u001b[49m\u001b[38;5;28;43mself\u001b[39;49m\u001b[38;5;241;43m.\u001b[39;49m\u001b[43minput_dim\u001b[49m\u001b[43m,\u001b[49m\u001b[43m \u001b[49m\u001b[38;5;28;43mself\u001b[39;49m\u001b[38;5;241;43m.\u001b[39;49m\u001b[43mhidden_dims\u001b[49m\u001b[43m[\u001b[49m\u001b[38;5;241;43m0\u001b[39;49m\u001b[43m]\u001b[49m\u001b[43m,\u001b[49m\u001b[43m \u001b[49m\u001b[43mTemperature\u001b[49m\u001b[43m \u001b[49m\u001b[38;5;241;43m=\u001b[39;49m\u001b[43m \u001b[49m\u001b[38;5;28;43mself\u001b[39;49m\u001b[38;5;241;43m.\u001b[39;49m\u001b[43mTemperature\u001b[49m\u001b[43m)\u001b[49m)\n\u001b[0;32m    110\u001b[0m \u001b[38;5;66;03m#self.layers.append(nn.ReLU(inplace=True))\u001b[39;00m\n\u001b[0;32m    111\u001b[0m \n\u001b[0;32m    112\u001b[0m \u001b[38;5;66;03m# create the hidden layers\u001b[39;00m\n\u001b[0;32m    113\u001b[0m \u001b[38;5;28;01mfor\u001b[39;00m i \u001b[38;5;129;01min\u001b[39;00m \u001b[38;5;28mrange\u001b[39m(\u001b[38;5;28mlen\u001b[39m(\u001b[38;5;28mself\u001b[39m\u001b[38;5;241m.\u001b[39mhidden_dims) \u001b[38;5;241m-\u001b[39m \u001b[38;5;241m1\u001b[39m):\n",
      "File \u001b[1;32m~\\OneDrive\\Damjan\\HS22\\Deep Learning\\project\\dev\\models.py:51\u001b[0m, in \u001b[0;36mLinear_Layer.__init__\u001b[1;34m(self, in_features, out_features, bias, Temperature)\u001b[0m\n\u001b[0;32m     48\u001b[0m \u001b[38;5;28mself\u001b[39m\u001b[38;5;241m.\u001b[39mmu_weight \u001b[38;5;241m=\u001b[39m torch\u001b[38;5;241m.\u001b[39mnn\u001b[38;5;241m.\u001b[39mParameter(torch\u001b[38;5;241m.\u001b[39mzeros(out_features, in_features))\n\u001b[0;32m     49\u001b[0m \u001b[38;5;28mself\u001b[39m\u001b[38;5;241m.\u001b[39mrho_weight \u001b[38;5;241m=\u001b[39m torch\u001b[38;5;241m.\u001b[39mnn\u001b[38;5;241m.\u001b[39mParameter(torch\u001b[38;5;241m.\u001b[39mones(out_features, in_features))\n\u001b[1;32m---> 51\u001b[0m \u001b[38;5;28mself\u001b[39m\u001b[38;5;241m.\u001b[39mweight_posterior \u001b[38;5;241m=\u001b[39m \u001b[43mLaplacePrior\u001b[49m\u001b[43m(\u001b[49m\u001b[38;5;28;43mself\u001b[39;49m\u001b[38;5;241;43m.\u001b[39;49m\u001b[43mmu_weight\u001b[49m\u001b[43m,\u001b[49m\u001b[43m \u001b[49m\u001b[38;5;28;43mself\u001b[39;49m\u001b[38;5;241;43m.\u001b[39;49m\u001b[43mrho_weight\u001b[49m\u001b[43m,\u001b[49m\u001b[43m \u001b[49m\u001b[43mTemperature\u001b[49m\u001b[43m \u001b[49m\u001b[38;5;241;43m=\u001b[39;49m\u001b[43m \u001b[49m\u001b[38;5;28;43mself\u001b[39;49m\u001b[38;5;241;43m.\u001b[39;49m\u001b[43mTemperature\u001b[49m\u001b[43m)\u001b[49m\n\u001b[0;32m     53\u001b[0m \u001b[38;5;28;01mif\u001b[39;00m \u001b[38;5;28mself\u001b[39m\u001b[38;5;241m.\u001b[39mwith_bias:\n\u001b[0;32m     54\u001b[0m     \u001b[38;5;28mself\u001b[39m\u001b[38;5;241m.\u001b[39mmu_bias \u001b[38;5;241m=\u001b[39m torch\u001b[38;5;241m.\u001b[39mnn\u001b[38;5;241m.\u001b[39mParameter(torch\u001b[38;5;241m.\u001b[39mzeros(out_features))\n",
      "File \u001b[1;32m~\\OneDrive\\Damjan\\HS22\\Deep Learning\\project\\dev\\priors.py:105\u001b[0m, in \u001b[0;36mLaplacePrior.__init__\u001b[1;34m(self, mu, rho, Temperature)\u001b[0m\n\u001b[0;32m    103\u001b[0m \u001b[38;5;28mself\u001b[39m\u001b[38;5;241m.\u001b[39mmu \u001b[38;5;241m=\u001b[39m mu\n\u001b[0;32m    104\u001b[0m \u001b[38;5;28mself\u001b[39m\u001b[38;5;241m.\u001b[39mrho \u001b[38;5;241m=\u001b[39m rho\n\u001b[1;32m--> 105\u001b[0m \u001b[38;5;28mself\u001b[39m\u001b[38;5;241m.\u001b[39mrho \u001b[38;5;241m=\u001b[39m torch\u001b[38;5;241m.\u001b[39mlog(\u001b[38;5;241m1\u001b[39m \u001b[38;5;241m+\u001b[39m torch\u001b[38;5;241m.\u001b[39mexp(rho))  \u001b[38;5;66;03m# transform rho\u001b[39;00m\n\u001b[0;32m    106\u001b[0m \u001b[38;5;28mself\u001b[39m\u001b[38;5;241m.\u001b[39mTemperature \u001b[38;5;241m=\u001b[39m Temperature\n",
      "File \u001b[1;32m~\\anaconda3\\lib\\site-packages\\torch\\nn\\modules\\module.py:1198\u001b[0m, in \u001b[0;36mModule.__setattr__\u001b[1;34m(self, name, value)\u001b[0m\n\u001b[0;32m   1196\u001b[0m \u001b[38;5;28;01melif\u001b[39;00m params \u001b[38;5;129;01mis\u001b[39;00m \u001b[38;5;129;01mnot\u001b[39;00m \u001b[38;5;28;01mNone\u001b[39;00m \u001b[38;5;129;01mand\u001b[39;00m name \u001b[38;5;129;01min\u001b[39;00m params:\n\u001b[0;32m   1197\u001b[0m     \u001b[38;5;28;01mif\u001b[39;00m value \u001b[38;5;129;01mis\u001b[39;00m \u001b[38;5;129;01mnot\u001b[39;00m \u001b[38;5;28;01mNone\u001b[39;00m:\n\u001b[1;32m-> 1198\u001b[0m         \u001b[38;5;28;01mraise\u001b[39;00m \u001b[38;5;167;01mTypeError\u001b[39;00m(\u001b[38;5;124m\"\u001b[39m\u001b[38;5;124mcannot assign \u001b[39m\u001b[38;5;124m'\u001b[39m\u001b[38;5;132;01m{}\u001b[39;00m\u001b[38;5;124m'\u001b[39m\u001b[38;5;124m as parameter \u001b[39m\u001b[38;5;124m'\u001b[39m\u001b[38;5;132;01m{}\u001b[39;00m\u001b[38;5;124m'\u001b[39m\u001b[38;5;124m \u001b[39m\u001b[38;5;124m\"\u001b[39m\n\u001b[0;32m   1199\u001b[0m                         \u001b[38;5;124m\"\u001b[39m\u001b[38;5;124m(torch.nn.Parameter or None expected)\u001b[39m\u001b[38;5;124m\"\u001b[39m\n\u001b[0;32m   1200\u001b[0m                         \u001b[38;5;241m.\u001b[39mformat(torch\u001b[38;5;241m.\u001b[39mtypename(value), name))\n\u001b[0;32m   1201\u001b[0m     \u001b[38;5;28mself\u001b[39m\u001b[38;5;241m.\u001b[39mregister_parameter(name, value)\n\u001b[0;32m   1202\u001b[0m \u001b[38;5;28;01melse\u001b[39;00m:\n",
      "\u001b[1;31mTypeError\u001b[0m: cannot assign 'torch.FloatTensor' as parameter 'rho' (torch.nn.Parameter or None expected)"
     ]
    }
   ],
   "source": [
    "# set the Temperature\n",
    "Temperature_posterior = 0.1\n",
    "\n",
    "# create the Bayesian Neural Network\n",
    "model = Bayesian_Neural_Network(input_dim = 28*28, output_dim = 10, hidden_dims = [100], Temperature = Temperature_posterior)\n",
    "print(model)\n",
    "\n",
    "# define the optimizer\n",
    "optimizer = torch.optim.Adam(model.parameters(), lr = 0.005)\n",
    "scheduler = torch.optim.lr_scheduler.StepLR(optimizer, step_size = 1, gamma = 0.99)\n",
    "\n",
    "# train the model\n",
    "epochs = 10\n",
    "num_samples = 5\n",
    "\n",
    "for epoch in tqdm.tqdm(range(epochs)):\n",
    "    num_batches = len(train_loader)\n",
    "    for i, (x, y) in enumerate(train_loader):\n",
    "        # zero the gradients\n",
    "        optimizer.zero_grad()\n",
    "\n",
    "        # reshape the data\n",
    "        x = x.view(-1, 28*28)\n",
    "\n",
    "        # reset loss\n",
    "        loss = torch.tensor(0.0)\n",
    "\n",
    "        # forward pass\n",
    "        for e in range(num_samples):\n",
    "            output, kl_divergence = model(x)\n",
    "            loss += (F.nll_loss(F.softmax(output, dim = 1), y, reduction = \"sum\") + kl_divergence/num_batches)/num_samples\n",
    "\n",
    "        # backward pass\n",
    "        loss.backward(retain_graph=True)\n",
    "        optimizer.step()\n",
    "        \n",
    "        # accuracy\n",
    "        acc = torch.mean((torch.argmax(F.softmax(output, dim = 1), dim = 1) == y).float())\n",
    "\n",
    "        # print the loss\n",
    "        if i % 100 == 0:\n",
    "            print(f\"Epoch: {epoch} | Batch: {i} | Loss: {loss.item()}, accuracy: {acc.item()}\")\n",
    "            scheduler.step()\n",
    "            #wandb.log({\"loss\": loss.item(), \"accuracy\": acc.item(), \"epoch\": epoch, \"batch\": i})\n",
    "            #wandb.log({\"learning_rate\": scheduler.get_lr()[0]})\n",
    "           \n",
    "        "
   ]
  },
  {
   "cell_type": "code",
   "execution_count": 6,
   "metadata": {},
   "outputs": [
    {
     "name": "stdout",
     "output_type": "stream",
     "text": [
      "Accuracy: 0.8425999879837036\n",
      "tensor([[7, 7],\n",
      "        [2, 2],\n",
      "        [1, 1],\n",
      "        ...,\n",
      "        [4, 4],\n",
      "        [8, 5],\n",
      "        [6, 6]])\n"
     ]
    },
    {
     "name": "stderr",
     "output_type": "stream",
     "text": [
      "C:\\Users\\Damja\\AppData\\Local\\Temp\\ipykernel_11112\\4106516433.py:8: UserWarning: To copy construct from a tensor, it is recommended to use sourceTensor.clone().detach() or sourceTensor.clone().detach().requires_grad_(True), rather than torch.tensor(sourceTensor).\n",
      "  print(torch.hstack((torch.tensor(predicted_class).unsqueeze(1), torch.tensor(y_test).unsqueeze(1))))\n"
     ]
    }
   ],
   "source": [
    "# predict class probabilities for the test data\n",
    "predicted_probs = model.predict_probs(x_test, 100)\n",
    "predicted_class = torch.argmax(predicted_probs, axis = 1)\n",
    "\n",
    "accuracy = torch.sum(predicted_class == y_test) / len(y_test)\n",
    "print(f\"Accuracy: {accuracy}\")\n",
    "\n",
    "print(torch.hstack((torch.tensor(predicted_class).unsqueeze(1), torch.tensor(y_test).unsqueeze(1))))"
   ]
  },
  {
   "cell_type": "code",
   "execution_count": 1,
   "metadata": {},
   "outputs": [
    {
     "ename": "NameError",
     "evalue": "name 'np' is not defined",
     "output_type": "error",
     "traceback": [
      "\u001b[1;31m---------------------------------------------------------------------------\u001b[0m",
      "\u001b[1;31mNameError\u001b[0m                                 Traceback (most recent call last)",
      "Input \u001b[1;32mIn [1]\u001b[0m, in \u001b[0;36m<cell line: 1>\u001b[1;34m()\u001b[0m\n\u001b[1;32m----> 1\u001b[0m \u001b[38;5;28;01mdef\u001b[39;00m \u001b[38;5;21mece\u001b[39m(predicted_probabilities: \u001b[43mnp\u001b[49m\u001b[38;5;241m.\u001b[39mndarray, labels: np\u001b[38;5;241m.\u001b[39mndarray, n_bins: \u001b[38;5;28mint\u001b[39m \u001b[38;5;241m=\u001b[39m \u001b[38;5;241m30\u001b[39m) \u001b[38;5;241m-\u001b[39m\u001b[38;5;241m>\u001b[39m \u001b[38;5;28mfloat\u001b[39m:\n\u001b[0;32m      2\u001b[0m     \u001b[38;5;124;03m\"\"\"\u001b[39;00m\n\u001b[0;32m      3\u001b[0m \u001b[38;5;124;03m    Computes the Expected Calibration Error (ECE).\u001b[39;00m\n\u001b[0;32m      4\u001b[0m \u001b[38;5;124;03m    Many options are possible; in this implementation, we provide a simple version.\u001b[39;00m\n\u001b[1;32m   (...)\u001b[0m\n\u001b[0;32m     14\u001b[0m \u001b[38;5;124;03m    :return: ECE score as a float\u001b[39;00m\n\u001b[0;32m     15\u001b[0m \u001b[38;5;124;03m    \"\"\"\u001b[39;00m\n\u001b[0;32m     16\u001b[0m     num_samples, num_classes \u001b[38;5;241m=\u001b[39m predicted_probabilities\u001b[38;5;241m.\u001b[39mshape\n",
      "\u001b[1;31mNameError\u001b[0m: name 'np' is not defined"
     ]
    }
   ],
   "source": [
    "def ece(predicted_probabilities: np.ndarray, labels: np.ndarray, n_bins: int = 30) -> float:\n",
    "    \"\"\"\n",
    "    Computes the Expected Calibration Error (ECE).\n",
    "    Many options are possible; in this implementation, we provide a simple version.\n",
    "    Using a uniform binning scheme on the full range of probabilities, zero\n",
    "    to one, we bin the probabilities of the predicted label only (ignoring\n",
    "    all other probabilities). For the ith bin, we compute the avg predicted\n",
    "    probability, p_i, and the bin's total accuracy, a_i.\n",
    "    We then compute the ith calibration error of the bin, |p_i - a_i|.\n",
    "    The final returned value is the weighted average of calibration errors of each bin.\n",
    "    :param predicted_probabilities: Predicted probabilities, float array of shape (num_samples, num_classes)\n",
    "    :param labels: True labels, int tensor of shape (num_samples,) with each entry in {0, ..., num_classes - 1}\n",
    "    :param n_bins: Number of bins for histogram binning\n",
    "    :return: ECE score as a float\n",
    "    \"\"\"\n",
    "    num_samples, num_classes = predicted_probabilities.shape\n",
    "\n",
    "    # Predictions are the classes with highest probability\n",
    "    predictions = np.argmax(predicted_probabilities, axis=1)\n",
    "    prediction_confidences = predicted_probabilities[range(num_samples), predictions]\n",
    "\n",
    "    # Use uniform bins on the range of probabilities, i.e. closed interval [0.,1.]\n",
    "    bin_upper_edges = np.histogram_bin_edges([], bins=n_bins, range=(0., 1.))\n",
    "    bin_upper_edges = bin_upper_edges[1:]  # bin_upper_edges[0] = 0.\n",
    "\n",
    "    probs_as_bin_num = np.digitize(prediction_confidences, bin_upper_edges)\n",
    "    sums_per_bin = np.bincount(probs_as_bin_num, minlength=n_bins, weights=prediction_confidences)\n",
    "    sums_per_bin = sums_per_bin.astype(np.float32)\n",
    "\n",
    "    total_per_bin = np.bincount(probs_as_bin_num, minlength=n_bins) \\\n",
    "        + np.finfo(sums_per_bin.dtype).eps  # division by zero\n",
    "    avg_prob_per_bin = sums_per_bin / total_per_bin\n",
    "\n",
    "    onehot_labels = np.eye(num_classes)[labels]\n",
    "    accuracies = onehot_labels[range(num_samples), predictions]  # accuracies[i] is 0 or 1\n",
    "    accuracies_per_bin = np.bincount(probs_as_bin_num, weights=accuracies, minlength=n_bins) / total_per_bin\n",
    "\n",
    "    prob_of_being_in_a_bin = total_per_bin / float(num_samples)\n",
    "\n",
    "    ece_ret = np.abs(accuracies_per_bin - avg_prob_per_bin) * prob_of_being_in_a_bin\n",
    "    ece_ret = np.sum(ece_ret)\n",
    "    return float(ece_ret)"
   ]
  },
  {
   "cell_type": "code",
   "execution_count": 10,
   "metadata": {},
   "outputs": [
    {
     "data": {
      "text/html": [
       "Waiting for W&B process to finish... <strong style=\"color:green\">(success).</strong>"
      ],
      "text/plain": [
       "<IPython.core.display.HTML object>"
      ]
     },
     "metadata": {},
     "output_type": "display_data"
    },
    {
     "data": {
      "text/html": [
       "<style>\n",
       "    table.wandb td:nth-child(1) { padding: 0 10px; text-align: left ; width: auto;} td:nth-child(2) {text-align: left ; width: 100%}\n",
       "    .wandb-row { display: flex; flex-direction: row; flex-wrap: wrap; justify-content: flex-start; width: 100% }\n",
       "    .wandb-col { display: flex; flex-direction: column; flex-basis: 100%; flex: 1; padding: 10px; }\n",
       "    </style>\n",
       "<div class=\"wandb-row\"><div class=\"wandb-col\"><h3>Run history:</h3><br/><table class=\"wandb\"><tr><td>accuracy</td><td>▂▁▁▂▂▂▂▄▄▅▅▄▅▆▅▆▇▆▆▆▆▆▆▆▇█▇▇▆▇▆▇▇██▇▇▇▇█</td></tr><tr><td>batch</td><td>▁▃▅▆▁▃▅▆▁▃▅▆▁▃▅▇▁▃▅▇▁▃▅▇▁▃▆▇▂▃▆▇▂▃▆▇▂▃▆█</td></tr><tr><td>epoch</td><td>▁▁▁▁▂▂▂▂▃▃▃▃▃▃▃▃▄▄▄▄▅▅▅▅▆▆▆▆▆▆▆▆▇▇▇▇████</td></tr><tr><td>learning_rate</td><td>██▇▇▇▇▆▆▆▆▆▅▅▅▅▄▄▄▄▄▄▃▃▃▃▃▃▃▂▂▂▂▂▂▂▁▁▁▁▁</td></tr><tr><td>loss</td><td>▇██▇█▇▆▅▆▅▄▅▄▃▅▃▂▃▃▃▄▄▃▃▂▂▂▂▂▁▃▂▂▂▁▁▁▂▂▁</td></tr></table><br/></div><div class=\"wandb-col\"><h3>Run summary:</h3><br/><table class=\"wandb\"><tr><td>accuracy</td><td>0.82812</td></tr><tr><td>batch</td><td>900</td></tr><tr><td>epoch</td><td>9</td></tr><tr><td>learning_rate</td><td>0.00181</td></tr><tr><td>loss</td><td>-67.05674</td></tr></table><br/></div></div>"
      ],
      "text/plain": [
       "<IPython.core.display.HTML object>"
      ]
     },
     "metadata": {},
     "output_type": "display_data"
    },
    {
     "data": {
      "text/html": [
       "Synced <strong style=\"color:#cdcd00\">drawn-fog-53</strong>: <a href=\"https://wandb.ai/jorgefernando17/BNN_VI/runs/1o94rwjh\" target=\"_blank\">https://wandb.ai/jorgefernando17/BNN_VI/runs/1o94rwjh</a><br/>Synced 6 W&B file(s), 0 media file(s), 0 artifact file(s) and 0 other file(s)"
      ],
      "text/plain": [
       "<IPython.core.display.HTML object>"
      ]
     },
     "metadata": {},
     "output_type": "display_data"
    },
    {
     "data": {
      "text/html": [
       "Find logs at: <code>.\\wandb\\run-20221230_192229-1o94rwjh\\logs</code>"
      ],
      "text/plain": [
       "<IPython.core.display.HTML object>"
      ]
     },
     "metadata": {},
     "output_type": "display_data"
    }
   ],
   "source": [
    "wandb.finish()"
   ]
  }
 ],
 "metadata": {
  "kernelspec": {
   "display_name": "Python 3 (ipykernel)",
   "language": "python",
   "name": "python3"
  },
  "language_info": {
   "codemirror_mode": {
    "name": "ipython",
    "version": 3
   },
   "file_extension": ".py",
   "mimetype": "text/x-python",
   "name": "python",
   "nbconvert_exporter": "python",
   "pygments_lexer": "ipython3",
   "version": "3.8.5"
  },
  "vscode": {
   "interpreter": {
    "hash": "9412b45e6a57aa9914730508726d49801d3b2c579f461e1fb13c705887a7b1f6"
   }
  }
 },
 "nbformat": 4,
 "nbformat_minor": 4
}
