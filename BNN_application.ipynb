{
 "cells": [
  {
   "cell_type": "code",
   "execution_count": 1,
   "metadata": {},
   "outputs": [],
   "source": [
    "import numpy as np\n",
    "import torch\n",
    "import torch.nn as nn\n",
    "import torch.nn.functional as F\n",
    "from torch.utils.data import DataLoader\n",
    "from torch.distributions import Normal\n",
    "from torch.utils.data import Subset\n",
    "from torch.distributions import Categorical, Normal, StudentT\n",
    "from torch.optim import SGD\n",
    "from torch.optim.lr_scheduler import PolynomialLR\n",
    "import torchvision\n",
    "from torchvision import datasets, transforms\n",
    "import torchvision.transforms as tr\n",
    "import torchmetrics\n",
    "from torchmetrics.functional import calibration_error\n",
    "import math\n",
    "import matplotlib.pyplot as plt\n",
    "import random\n",
    "from collections import deque, OrderedDict\n",
    "from tqdm import trange\n",
    "import tqdm\n",
    "import copy\n",
    "import typing\n",
    "from typing import Sequence, Optional, Callable, Tuple, Dict, Union\n",
    "\n",
    "from data import Data\n",
    "from Priors import *\n",
    "from Networks import *\n",
    "from BayesianNN import BNN_MCMC\n",
    "from SGLD import SGLD"
   ]
  },
  {
   "cell_type": "code",
   "execution_count": 2,
   "metadata": {},
   "outputs": [
    {
     "name": "stderr",
     "output_type": "stream",
     "text": [
      "C:\\Users\\jorge\\AppData\\Local\\Packages\\PythonSoftwareFoundation.Python.3.8_qbz5n2kfra8p0\\LocalCache\\local-packages\\Python38\\site-packages\\torchvision\\datasets\\mnist.py:498: UserWarning: The given NumPy array is not writable, and PyTorch does not support non-writable tensors. This means writing to this tensor will result in undefined behavior. You may want to copy the array to protect its data or make it writable before converting it to a tensor. This type of warning will be suppressed for the rest of this program. (Triggered internally at C:\\actions-runner\\_work\\pytorch\\pytorch\\builder\\windows\\pytorch\\torch\\csrc\\utils\\tensor_numpy.cpp:205.)\n",
      "  return torch.from_numpy(parsed.astype(m[2], copy=False)).view(*s)\n"
     ]
    },
    {
     "name": "stdout",
     "output_type": "stream",
     "text": [
      "Train data size:  60000\n",
      "Test data size:  10000\n"
     ]
    }
   ],
   "source": [
    "# Load MNIST dataset with specified transforms\n",
    "# always use ToTensor() as first transform\n",
    "# possible transforms: RandomRotation, RandomCrop, GaussianBlur\n",
    "# avoid Normalize (already done), RandomHorizontalFlip (for MNIST), RandomVerticalFlip (for MNIST)\n",
    "augmentations = tr.Compose([tr.RandomRotation(15)])\n",
    "\n",
    "dataset = Data(\"MNIST\", augmentations = None)\n",
    "train_data, test_data = dataset.get_data()\n",
    "\n",
    "# Print some information about the dataset\n",
    "print(\"Train data size: \", len(train_data))\n",
    "print(\"Test data size: \", len(test_data))\n"
   ]
  },
  {
   "cell_type": "code",
   "execution_count": 7,
   "metadata": {},
   "outputs": [
    {
     "name": "stdout",
     "output_type": "stream",
     "text": [
      "Training Model\n"
     ]
    },
    {
     "name": "stderr",
     "output_type": "stream",
     "text": [
      "100%|██████████| 10/10 [00:35<00:00,  3.55s/it, acc=1, log_prior_normalized=1.39, loss=1.24e+5, lr=0.000316, nll_loss=6.13]   \n"
     ]
    }
   ],
   "source": [
    "prior = MixedLaplaceUniform()\n",
    "lol = BNN_MCMC(train_data, network = FullyConnectedNN(), prior=prior, num_epochs = 10, max_size = 10, burn_in = 2, lr = 1e-3, sample_interval = 1)\n",
    "lol.train()"
   ]
  },
  {
   "cell_type": "code",
   "execution_count": 8,
   "metadata": {},
   "outputs": [
    {
     "name": "stdout",
     "output_type": "stream",
     "text": [
      "Test accuracy:  tensor(0.9726)\n",
      "Test ECE:  tensor(0.0118)\n"
     ]
    }
   ],
   "source": [
    "acc = lol.test_accuracy(test_data)\n",
    "ece = lol.test_calibration(test_data)\n",
    "print(\"Test accuracy: \", acc)\n",
    "print(\"Test ECE: \", ece)"
   ]
  },
  {
   "cell_type": "markdown",
   "metadata": {},
   "source": []
  }
 ],
 "metadata": {
  "kernelspec": {
   "display_name": "Python 3",
   "language": "python",
   "name": "python3"
  },
  "language_info": {
   "codemirror_mode": {
    "name": "ipython",
    "version": 3
   },
   "file_extension": ".py",
   "mimetype": "text/x-python",
   "name": "python",
   "nbconvert_exporter": "python",
   "pygments_lexer": "ipython3",
   "version": "3.8.10"
  },
  "orig_nbformat": 4,
  "vscode": {
   "interpreter": {
    "hash": "27f3840d2a8e92b9098d5d1f2625c1fbd9e0739b6ace23f817bf68ad3a8d77b4"
   }
  }
 },
 "nbformat": 4,
 "nbformat_minor": 2
}
