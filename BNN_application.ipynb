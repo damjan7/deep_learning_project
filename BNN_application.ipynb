{
 "cells": [
  {
   "cell_type": "code",
   "execution_count": 10,
   "metadata": {},
   "outputs": [],
   "source": [
    "import numpy as np\n",
    "import torch\n",
    "import torch.nn as nn\n",
    "import torch.nn.functional as F\n",
    "from torch.utils.data import DataLoader\n",
    "from torch.distributions import Normal\n",
    "from torch.utils.data import Subset\n",
    "from torch.distributions import Categorical, Normal, StudentT\n",
    "from torch.optim import SGD\n",
    "from torch.optim.lr_scheduler import PolynomialLR\n",
    "import torchvision\n",
    "from torchvision import datasets, transforms\n",
    "import torchvision.transforms as tr\n",
    "import torchmetrics\n",
    "from torchmetrics.functional import calibration_error\n",
    "import math\n",
    "import matplotlib.pyplot as plt\n",
    "import random\n",
    "from collections import deque, OrderedDict\n",
    "from tqdm import trange\n",
    "import tqdm\n",
    "import copy\n",
    "import typing\n",
    "from typing import Sequence, Optional, Callable, Tuple, Dict, Union\n",
    "import pandas as pd\n",
    "\n",
    "from data import Data\n",
    "from Priors import *\n",
    "from Networks import *\n",
    "from BayesianNN import BNN_MCMC\n",
    "from SGLD import SGLD"
   ]
  },
  {
   "cell_type": "code",
   "execution_count": 2,
   "metadata": {},
   "outputs": [
    {
     "name": "stderr",
     "output_type": "stream",
     "text": [
      "C:\\Users\\jorge\\AppData\\Local\\Packages\\PythonSoftwareFoundation.Python.3.8_qbz5n2kfra8p0\\LocalCache\\local-packages\\Python38\\site-packages\\torchvision\\datasets\\mnist.py:498: UserWarning: The given NumPy array is not writable, and PyTorch does not support non-writable tensors. This means writing to this tensor will result in undefined behavior. You may want to copy the array to protect its data or make it writable before converting it to a tensor. This type of warning will be suppressed for the rest of this program. (Triggered internally at C:\\actions-runner\\_work\\pytorch\\pytorch\\builder\\windows\\pytorch\\torch\\csrc\\utils\\tensor_numpy.cpp:205.)\n",
      "  return torch.from_numpy(parsed.astype(m[2], copy=False)).view(*s)\n"
     ]
    },
    {
     "name": "stdout",
     "output_type": "stream",
     "text": [
      "Train data size:  60000\n",
      "Test data size:  10000\n"
     ]
    }
   ],
   "source": [
    "# Load MNIST dataset with specified transforms\n",
    "# possible transforms: RandomRotation, RandomCrop, GaussianBlur\n",
    "# avoid Normalize and ToTensor (already done), RandomHorizontalFlip (for MNIST), RandomVerticalFlip (for MNIST)\n",
    "augmentations = tr.Compose([tr.RandomRotation(15)])\n",
    "\n",
    "train_data, test_data = Data(\"MNIST\", augmentations = None).get_data(num_train_samples=60000)\n",
    "\n",
    "# Print some information about the dataset\n",
    "print(\"Train data size: \", len(train_data))\n",
    "print(\"Test data size: \", len(test_data))\n"
   ]
  },
  {
   "cell_type": "code",
   "execution_count": 3,
   "metadata": {},
   "outputs": [
    {
     "name": "stdout",
     "output_type": "stream",
     "text": [
      "Training Model\n"
     ]
    },
    {
     "name": "stderr",
     "output_type": "stream",
     "text": [
      "100%|██████████| 10/10 [00:24<00:00,  2.42s/it, acc=1, log_prior_normalized=2.33e+5, loss=2.09e+10, lr=0.000316, nll_loss=4.44]   \n"
     ]
    }
   ],
   "source": [
    "prior =Isotropic_Gaussian(0, 0.0001)\n",
    "lol = BNN_MCMC(train_data, network = FullyConnectedNN(), prior=prior, num_epochs = 10, max_size = 10, burn_in = 2, lr = 1e-3, sample_interval = 1)\n",
    "lol.train()"
   ]
  },
  {
   "cell_type": "code",
   "execution_count": 4,
   "metadata": {},
   "outputs": [
    {
     "name": "stdout",
     "output_type": "stream",
     "text": [
      "Test accuracy:  tensor(0.9793)\n",
      "Test ECE:  tensor(0.0049)\n"
     ]
    }
   ],
   "source": [
    "acc = lol.test_accuracy(test_data)\n",
    "ece = lol.test_calibration(test_data)\n",
    "print(\"Test accuracy: \", acc)\n",
    "print(\"Test ECE: \", ece)"
   ]
  },
  {
   "cell_type": "code",
   "execution_count": 5,
   "metadata": {},
   "outputs": [
    {
     "data": {
      "image/png": "[encoded data removed]",
      "text/plain": [
       "<Figure size 640x480 with 1 Axes>"
      ]
     },
     "metadata": {},
     "output_type": "display_data"
    }
   ],
   "source": [
    "# get weights from all models\n",
    "param_flat_all = []\n",
    "for model in lol.model_sequence:\n",
    "    parameters = model.state_dict()\n",
    "    param_values = list(parameters.values())\n",
    "    param_flat = torch.cat([v.flatten() for v in param_values])\n",
    "    param_flat_all.append(param_flat.flatten())\n",
    "\n",
    "# put all weights in one array\n",
    "params = np.concatenate(param_flat_all)\n",
    "\n",
    "# plot weights\n",
    "plt.hist(params, bins=100)\n",
    "plt.title(\"Weights of all models, Laplace prior\")\n",
    "plt.show()"
   ]
  },
  {
   "attachments": {},
   "cell_type": "markdown",
   "metadata": {},
   "source": [
    "# Evaluation loop"
   ]
  },
  {
   "cell_type": "code",
   "execution_count": 32,
   "metadata": {},
   "outputs": [],
   "source": [
    "prior_list = [Isotropic_Gaussian(0, 1),\n",
    "              StudentT_prior(),\n",
    "              Laplace_prior(),\n",
    "              Gaussian_Mixture(), \n",
    "              GaussianSpikeNSlab(),\n",
    "              MixedLaplaceUniform()]\n",
    "\n",
    "sample_sizes = [3750, 7500, 15000, 30000, 60000, 120000]\n",
    "\n",
    "Temperatures = [0.001, 0.01, 0.1, 1, 10]"
   ]
  },
  {
   "cell_type": "code",
   "execution_count": 33,
   "metadata": {},
   "outputs": [
    {
     "data": {
      "text/html": [
       "<div>\n",
       "<style scoped>\n",
       "    .dataframe tbody tr th:only-of-type {\n",
       "        vertical-align: middle;\n",
       "    }\n",
       "\n",
       "    .dataframe tbody tr th {\n",
       "        vertical-align: top;\n",
       "    }\n",
       "\n",
       "    .dataframe thead th {\n",
       "        text-align: right;\n",
       "    }\n",
       "</style>\n",
       "<table border=\"1\" class=\"dataframe\">\n",
       "  <thead>\n",
       "    <tr style=\"text-align: right;\">\n",
       "      <th></th>\n",
       "      <th>Prior</th>\n",
       "      <th>Sample Size</th>\n",
       "      <th>Test Accuracy</th>\n",
       "      <th>Test ECE</th>\n",
       "    </tr>\n",
       "  </thead>\n",
       "  <tbody>\n",
       "    <tr>\n",
       "      <th>0</th>\n",
       "      <td>NaN</td>\n",
       "      <td>NaN</td>\n",
       "      <td>NaN</td>\n",
       "      <td>NaN</td>\n",
       "    </tr>\n",
       "    <tr>\n",
       "      <th>1</th>\n",
       "      <td>NaN</td>\n",
       "      <td>NaN</td>\n",
       "      <td>NaN</td>\n",
       "      <td>NaN</td>\n",
       "    </tr>\n",
       "    <tr>\n",
       "      <th>2</th>\n",
       "      <td>NaN</td>\n",
       "      <td>NaN</td>\n",
       "      <td>NaN</td>\n",
       "      <td>NaN</td>\n",
       "    </tr>\n",
       "    <tr>\n",
       "      <th>3</th>\n",
       "      <td>NaN</td>\n",
       "      <td>NaN</td>\n",
       "      <td>NaN</td>\n",
       "      <td>NaN</td>\n",
       "    </tr>\n",
       "    <tr>\n",
       "      <th>4</th>\n",
       "      <td>NaN</td>\n",
       "      <td>NaN</td>\n",
       "      <td>NaN</td>\n",
       "      <td>NaN</td>\n",
       "    </tr>\n",
       "    <tr>\n",
       "      <th>5</th>\n",
       "      <td>NaN</td>\n",
       "      <td>NaN</td>\n",
       "      <td>NaN</td>\n",
       "      <td>NaN</td>\n",
       "    </tr>\n",
       "    <tr>\n",
       "      <th>6</th>\n",
       "      <td>NaN</td>\n",
       "      <td>NaN</td>\n",
       "      <td>NaN</td>\n",
       "      <td>NaN</td>\n",
       "    </tr>\n",
       "    <tr>\n",
       "      <th>7</th>\n",
       "      <td>NaN</td>\n",
       "      <td>NaN</td>\n",
       "      <td>NaN</td>\n",
       "      <td>NaN</td>\n",
       "    </tr>\n",
       "    <tr>\n",
       "      <th>8</th>\n",
       "      <td>NaN</td>\n",
       "      <td>NaN</td>\n",
       "      <td>NaN</td>\n",
       "      <td>NaN</td>\n",
       "    </tr>\n",
       "    <tr>\n",
       "      <th>9</th>\n",
       "      <td>NaN</td>\n",
       "      <td>NaN</td>\n",
       "      <td>NaN</td>\n",
       "      <td>NaN</td>\n",
       "    </tr>\n",
       "    <tr>\n",
       "      <th>10</th>\n",
       "      <td>NaN</td>\n",
       "      <td>NaN</td>\n",
       "      <td>NaN</td>\n",
       "      <td>NaN</td>\n",
       "    </tr>\n",
       "    <tr>\n",
       "      <th>11</th>\n",
       "      <td>NaN</td>\n",
       "      <td>NaN</td>\n",
       "      <td>NaN</td>\n",
       "      <td>NaN</td>\n",
       "    </tr>\n",
       "    <tr>\n",
       "      <th>12</th>\n",
       "      <td>NaN</td>\n",
       "      <td>NaN</td>\n",
       "      <td>NaN</td>\n",
       "      <td>NaN</td>\n",
       "    </tr>\n",
       "    <tr>\n",
       "      <th>13</th>\n",
       "      <td>NaN</td>\n",
       "      <td>NaN</td>\n",
       "      <td>NaN</td>\n",
       "      <td>NaN</td>\n",
       "    </tr>\n",
       "    <tr>\n",
       "      <th>14</th>\n",
       "      <td>NaN</td>\n",
       "      <td>NaN</td>\n",
       "      <td>NaN</td>\n",
       "      <td>NaN</td>\n",
       "    </tr>\n",
       "    <tr>\n",
       "      <th>15</th>\n",
       "      <td>NaN</td>\n",
       "      <td>NaN</td>\n",
       "      <td>NaN</td>\n",
       "      <td>NaN</td>\n",
       "    </tr>\n",
       "    <tr>\n",
       "      <th>16</th>\n",
       "      <td>NaN</td>\n",
       "      <td>NaN</td>\n",
       "      <td>NaN</td>\n",
       "      <td>NaN</td>\n",
       "    </tr>\n",
       "    <tr>\n",
       "      <th>17</th>\n",
       "      <td>NaN</td>\n",
       "      <td>NaN</td>\n",
       "      <td>NaN</td>\n",
       "      <td>NaN</td>\n",
       "    </tr>\n",
       "    <tr>\n",
       "      <th>18</th>\n",
       "      <td>NaN</td>\n",
       "      <td>NaN</td>\n",
       "      <td>NaN</td>\n",
       "      <td>NaN</td>\n",
       "    </tr>\n",
       "    <tr>\n",
       "      <th>19</th>\n",
       "      <td>NaN</td>\n",
       "      <td>NaN</td>\n",
       "      <td>NaN</td>\n",
       "      <td>NaN</td>\n",
       "    </tr>\n",
       "    <tr>\n",
       "      <th>20</th>\n",
       "      <td>NaN</td>\n",
       "      <td>NaN</td>\n",
       "      <td>NaN</td>\n",
       "      <td>NaN</td>\n",
       "    </tr>\n",
       "    <tr>\n",
       "      <th>21</th>\n",
       "      <td>NaN</td>\n",
       "      <td>NaN</td>\n",
       "      <td>NaN</td>\n",
       "      <td>NaN</td>\n",
       "    </tr>\n",
       "    <tr>\n",
       "      <th>22</th>\n",
       "      <td>NaN</td>\n",
       "      <td>NaN</td>\n",
       "      <td>NaN</td>\n",
       "      <td>NaN</td>\n",
       "    </tr>\n",
       "    <tr>\n",
       "      <th>23</th>\n",
       "      <td>NaN</td>\n",
       "      <td>NaN</td>\n",
       "      <td>NaN</td>\n",
       "      <td>NaN</td>\n",
       "    </tr>\n",
       "    <tr>\n",
       "      <th>24</th>\n",
       "      <td>NaN</td>\n",
       "      <td>NaN</td>\n",
       "      <td>NaN</td>\n",
       "      <td>NaN</td>\n",
       "    </tr>\n",
       "    <tr>\n",
       "      <th>25</th>\n",
       "      <td>NaN</td>\n",
       "      <td>NaN</td>\n",
       "      <td>NaN</td>\n",
       "      <td>NaN</td>\n",
       "    </tr>\n",
       "    <tr>\n",
       "      <th>26</th>\n",
       "      <td>NaN</td>\n",
       "      <td>NaN</td>\n",
       "      <td>NaN</td>\n",
       "      <td>NaN</td>\n",
       "    </tr>\n",
       "    <tr>\n",
       "      <th>27</th>\n",
       "      <td>NaN</td>\n",
       "      <td>NaN</td>\n",
       "      <td>NaN</td>\n",
       "      <td>NaN</td>\n",
       "    </tr>\n",
       "    <tr>\n",
       "      <th>28</th>\n",
       "      <td>NaN</td>\n",
       "      <td>NaN</td>\n",
       "      <td>NaN</td>\n",
       "      <td>NaN</td>\n",
       "    </tr>\n",
       "    <tr>\n",
       "      <th>29</th>\n",
       "      <td>NaN</td>\n",
       "      <td>NaN</td>\n",
       "      <td>NaN</td>\n",
       "      <td>NaN</td>\n",
       "    </tr>\n",
       "    <tr>\n",
       "      <th>30</th>\n",
       "      <td>NaN</td>\n",
       "      <td>NaN</td>\n",
       "      <td>NaN</td>\n",
       "      <td>NaN</td>\n",
       "    </tr>\n",
       "    <tr>\n",
       "      <th>31</th>\n",
       "      <td>NaN</td>\n",
       "      <td>NaN</td>\n",
       "      <td>NaN</td>\n",
       "      <td>NaN</td>\n",
       "    </tr>\n",
       "    <tr>\n",
       "      <th>32</th>\n",
       "      <td>NaN</td>\n",
       "      <td>NaN</td>\n",
       "      <td>NaN</td>\n",
       "      <td>NaN</td>\n",
       "    </tr>\n",
       "    <tr>\n",
       "      <th>33</th>\n",
       "      <td>NaN</td>\n",
       "      <td>NaN</td>\n",
       "      <td>NaN</td>\n",
       "      <td>NaN</td>\n",
       "    </tr>\n",
       "    <tr>\n",
       "      <th>34</th>\n",
       "      <td>NaN</td>\n",
       "      <td>NaN</td>\n",
       "      <td>NaN</td>\n",
       "      <td>NaN</td>\n",
       "    </tr>\n",
       "    <tr>\n",
       "      <th>35</th>\n",
       "      <td>NaN</td>\n",
       "      <td>NaN</td>\n",
       "      <td>NaN</td>\n",
       "      <td>NaN</td>\n",
       "    </tr>\n",
       "  </tbody>\n",
       "</table>\n",
       "</div>"
      ],
      "text/plain": [
       "   Prior Sample Size Test Accuracy Test ECE\n",
       "0    NaN         NaN           NaN      NaN\n",
       "1    NaN         NaN           NaN      NaN\n",
       "2    NaN         NaN           NaN      NaN\n",
       "3    NaN         NaN           NaN      NaN\n",
       "4    NaN         NaN           NaN      NaN\n",
       "5    NaN         NaN           NaN      NaN\n",
       "6    NaN         NaN           NaN      NaN\n",
       "7    NaN         NaN           NaN      NaN\n",
       "8    NaN         NaN           NaN      NaN\n",
       "9    NaN         NaN           NaN      NaN\n",
       "10   NaN         NaN           NaN      NaN\n",
       "11   NaN         NaN           NaN      NaN\n",
       "12   NaN         NaN           NaN      NaN\n",
       "13   NaN         NaN           NaN      NaN\n",
       "14   NaN         NaN           NaN      NaN\n",
       "15   NaN         NaN           NaN      NaN\n",
       "16   NaN         NaN           NaN      NaN\n",
       "17   NaN         NaN           NaN      NaN\n",
       "18   NaN         NaN           NaN      NaN\n",
       "19   NaN         NaN           NaN      NaN\n",
       "20   NaN         NaN           NaN      NaN\n",
       "21   NaN         NaN           NaN      NaN\n",
       "22   NaN         NaN           NaN      NaN\n",
       "23   NaN         NaN           NaN      NaN\n",
       "24   NaN         NaN           NaN      NaN\n",
       "25   NaN         NaN           NaN      NaN\n",
       "26   NaN         NaN           NaN      NaN\n",
       "27   NaN         NaN           NaN      NaN\n",
       "28   NaN         NaN           NaN      NaN\n",
       "29   NaN         NaN           NaN      NaN\n",
       "30   NaN         NaN           NaN      NaN\n",
       "31   NaN         NaN           NaN      NaN\n",
       "32   NaN         NaN           NaN      NaN\n",
       "33   NaN         NaN           NaN      NaN\n",
       "34   NaN         NaN           NaN      NaN\n",
       "35   NaN         NaN           NaN      NaN"
      ]
     },
     "execution_count": 33,
     "metadata": {},
     "output_type": "execute_result"
    }
   ],
   "source": [
    "# preallocate pandas dataframe for results\n",
    "results = pd.DataFrame(columns = [\"Prior\", \"Sample Size\", \"Test Accuracy\", \"Test ECE\"], index = range(len(prior_list)*len(sample_sizes)))\n",
    "\n",
    "results"
   ]
  },
  {
   "cell_type": "code",
   "execution_count": 36,
   "metadata": {},
   "outputs": [
    {
     "name": "stdout",
     "output_type": "stream",
     "text": [
      "--------------------------------------------------\n",
      "Isotropic Gaussian\n",
      "Training Model\n"
     ]
    },
    {
     "name": "stderr",
     "output_type": "stream",
     "text": [
      "100%|██████████| 10/10 [00:01<00:00,  6.92it/s, acc=0.766, log_prior_normalized=0.919, loss=8.24e+4, lr=0.000316, nll_loss=39.1]\n"
     ]
    },
    {
     "name": "stdout",
     "output_type": "stream",
     "text": [
      "Test accuracy:  tensor(0.6555)\n",
      "Test ECE:  tensor(0.4417)\n",
      "--------------------------------------------------\n",
      "Student-T\n",
      "Training Model\n"
     ]
    },
    {
     "name": "stderr",
     "output_type": "stream",
     "text": [
      "100%|██████████| 10/10 [00:01<00:00,  6.61it/s, acc=0.734, log_prior_normalized=0.944, loss=8.47e+4, lr=0.000316, nll_loss=38.1]\n"
     ]
    },
    {
     "name": "stdout",
     "output_type": "stream",
     "text": [
      "Test accuracy:  tensor(0.6476)\n",
      "Test ECE:  tensor(0.4268)\n",
      "--------------------------------------------------\n",
      "Laplace\n",
      "Training Model\n"
     ]
    },
    {
     "name": "stderr",
     "output_type": "stream",
     "text": [
      "100%|██████████| 10/10 [00:01<00:00,  6.36it/s, acc=0.719, log_prior_normalized=0.716, loss=6.42e+4, lr=0.000316, nll_loss=36.5]\n"
     ]
    },
    {
     "name": "stdout",
     "output_type": "stream",
     "text": [
      "Test accuracy:  tensor(0.7161)\n",
      "Test ECE:  tensor(0.4838)\n",
      "--------------------------------------------------\n",
      "Gaussian Mixture\n",
      "Training Model\n"
     ]
    },
    {
     "name": "stderr",
     "output_type": "stream",
     "text": [
      "100%|██████████| 10/10 [00:01<00:00,  5.88it/s, acc=0.641, log_prior_normalized=1.69, loss=1.51e+5, lr=0.000316, nll_loss=41.5]\n"
     ]
    },
    {
     "name": "stdout",
     "output_type": "stream",
     "text": [
      "Test accuracy:  tensor(0.6243)\n",
      "Test ECE:  tensor(0.4100)\n",
      "--------------------------------------------------\n",
      "Gaussian Spike and Slab\n",
      "Training Model\n"
     ]
    },
    {
     "name": "stderr",
     "output_type": "stream",
     "text": [
      "100%|██████████| 10/10 [00:03<00:00,  3.12it/s, acc=0.773, log_prior_normalized=1.14, loss=1.02e+5, lr=0.000316, nll_loss=40.6]\n"
     ]
    },
    {
     "name": "stdout",
     "output_type": "stream",
     "text": [
      "Test accuracy:  tensor(0.7284)\n",
      "Test ECE:  tensor(0.5171)\n",
      "--------------------------------------------------\n",
      "Mixed Laplace and Uniform\n",
      "Training Model\n"
     ]
    },
    {
     "name": "stderr",
     "output_type": "stream",
     "text": [
      "100%|██████████| 10/10 [00:01<00:00,  6.56it/s, acc=0.75, log_prior_normalized=1.39, loss=1.24e+5, lr=0.000316, nll_loss=39]  \n"
     ]
    },
    {
     "name": "stdout",
     "output_type": "stream",
     "text": [
      "Test accuracy:  tensor(0.6256)\n",
      "Test ECE:  tensor(0.4020)\n",
      "--------------------------------------------------\n",
      "Isotropic Gaussian\n",
      "Training Model\n"
     ]
    },
    {
     "name": "stderr",
     "output_type": "stream",
     "text": [
      "100%|██████████| 10/10 [00:02<00:00,  3.81it/s, acc=0.938, log_prior_normalized=0.92, loss=8.24e+4, lr=0.000316, nll_loss=14]  \n"
     ]
    },
    {
     "name": "stdout",
     "output_type": "stream",
     "text": [
      "Test accuracy:  tensor(0.8832)\n",
      "Test ECE:  tensor(0.1277)\n",
      "--------------------------------------------------\n",
      "Student-T\n",
      "Training Model\n"
     ]
    },
    {
     "name": "stderr",
     "output_type": "stream",
     "text": [
      "100%|██████████| 10/10 [00:02<00:00,  3.52it/s, acc=0.914, log_prior_normalized=0.945, loss=8.47e+4, lr=0.000316, nll_loss=23.6]\n"
     ]
    },
    {
     "name": "stdout",
     "output_type": "stream",
     "text": [
      "Test accuracy:  tensor(0.8820)\n",
      "Test ECE:  tensor(0.1086)\n",
      "--------------------------------------------------\n",
      "Laplace\n",
      "Training Model\n"
     ]
    },
    {
     "name": "stderr",
     "output_type": "stream",
     "text": [
      "100%|██████████| 10/10 [00:02<00:00,  3.76it/s, acc=0.93, log_prior_normalized=0.718, loss=6.44e+4, lr=0.000316, nll_loss=13.8]\n"
     ]
    },
    {
     "name": "stdout",
     "output_type": "stream",
     "text": [
      "Test accuracy:  tensor(0.8862)\n",
      "Test ECE:  tensor(0.1202)\n",
      "--------------------------------------------------\n",
      "Gaussian Mixture\n",
      "Training Model\n"
     ]
    },
    {
     "name": "stderr",
     "output_type": "stream",
     "text": [
      "100%|██████████| 10/10 [00:03<00:00,  3.17it/s, acc=0.938, log_prior_normalized=1.69, loss=1.51e+5, lr=0.000316, nll_loss=14.2]\n"
     ]
    },
    {
     "name": "stdout",
     "output_type": "stream",
     "text": [
      "Test accuracy:  tensor(0.8768)\n",
      "Test ECE:  tensor(0.1193)\n",
      "--------------------------------------------------\n",
      "Gaussian Spike and Slab\n",
      "Training Model\n"
     ]
    },
    {
     "name": "stderr",
     "output_type": "stream",
     "text": [
      "100%|██████████| 10/10 [00:06<00:00,  1.52it/s, acc=0.906, log_prior_normalized=1.14, loss=1.02e+5, lr=0.000316, nll_loss=18.5]\n"
     ]
    },
    {
     "name": "stdout",
     "output_type": "stream",
     "text": [
      "Test accuracy:  tensor(0.8870)\n",
      "Test ECE:  tensor(0.1313)\n",
      "--------------------------------------------------\n",
      "Mixed Laplace and Uniform\n",
      "Training Model\n"
     ]
    },
    {
     "name": "stderr",
     "output_type": "stream",
     "text": [
      "100%|██████████| 10/10 [00:03<00:00,  3.18it/s, acc=0.953, log_prior_normalized=1.39, loss=1.24e+5, lr=0.000316, nll_loss=15.2]\n"
     ]
    },
    {
     "name": "stdout",
     "output_type": "stream",
     "text": [
      "Test accuracy:  tensor(0.8804)\n",
      "Test ECE:  tensor(0.1168)\n",
      "--------------------------------------------------\n",
      "Isotropic Gaussian\n",
      "Training Model\n"
     ]
    },
    {
     "name": "stderr",
     "output_type": "stream",
     "text": [
      "100%|██████████| 10/10 [00:06<00:00,  1.65it/s, acc=0.93, log_prior_normalized=0.92, loss=8.24e+4, lr=0.000316, nll_loss=22.5]\n"
     ]
    },
    {
     "name": "stdout",
     "output_type": "stream",
     "text": [
      "Test accuracy:  tensor(0.9163)\n",
      "Test ECE:  tensor(0.2108)\n",
      "--------------------------------------------------\n",
      "Student-T\n",
      "Training Model\n"
     ]
    },
    {
     "name": "stderr",
     "output_type": "stream",
     "text": [
      "100%|██████████| 10/10 [00:06<00:00,  1.56it/s, acc=0.984, log_prior_normalized=0.945, loss=8.47e+4, lr=0.000316, nll_loss=6.44]\n"
     ]
    },
    {
     "name": "stdout",
     "output_type": "stream",
     "text": [
      "Test accuracy:  tensor(0.9120)\n",
      "Test ECE:  tensor(0.2407)\n",
      "--------------------------------------------------\n",
      "Laplace\n",
      "Training Model\n"
     ]
    },
    {
     "name": "stderr",
     "output_type": "stream",
     "text": [
      "100%|██████████| 10/10 [00:06<00:00,  1.67it/s, acc=0.945, log_prior_normalized=0.722, loss=6.47e+4, lr=0.000316, nll_loss=20.6]\n"
     ]
    },
    {
     "name": "stdout",
     "output_type": "stream",
     "text": [
      "Test accuracy:  tensor(0.9168)\n",
      "Test ECE:  tensor(0.1683)\n",
      "--------------------------------------------------\n",
      "Gaussian Mixture\n",
      "Training Model\n"
     ]
    },
    {
     "name": "stderr",
     "output_type": "stream",
     "text": [
      "100%|██████████| 10/10 [00:06<00:00,  1.46it/s, acc=0.992, log_prior_normalized=1.69, loss=1.51e+5, lr=0.000316, nll_loss=8.26]\n"
     ]
    },
    {
     "name": "stdout",
     "output_type": "stream",
     "text": [
      "Test accuracy:  tensor(0.9260)\n",
      "Test ECE:  tensor(0.2067)\n",
      "--------------------------------------------------\n",
      "Gaussian Spike and Slab\n",
      "Training Model\n"
     ]
    },
    {
     "name": "stderr",
     "output_type": "stream",
     "text": [
      "100%|██████████| 10/10 [00:12<00:00,  1.28s/it, acc=0.977, log_prior_normalized=1.14, loss=1.02e+5, lr=0.000316, nll_loss=11] \n"
     ]
    },
    {
     "name": "stdout",
     "output_type": "stream",
     "text": [
      "Test accuracy:  tensor(0.9006)\n",
      "Test ECE:  tensor(0.1824)\n",
      "--------------------------------------------------\n",
      "Mixed Laplace and Uniform\n",
      "Training Model\n"
     ]
    },
    {
     "name": "stderr",
     "output_type": "stream",
     "text": [
      "100%|██████████| 10/10 [00:05<00:00,  1.68it/s, acc=0.953, log_prior_normalized=1.39, loss=1.24e+5, lr=0.000316, nll_loss=18.3]\n"
     ]
    },
    {
     "name": "stdout",
     "output_type": "stream",
     "text": [
      "Test accuracy:  tensor(0.9226)\n",
      "Test ECE:  tensor(0.1783)\n",
      "--------------------------------------------------\n",
      "Isotropic Gaussian\n",
      "Training Model\n"
     ]
    },
    {
     "name": "stderr",
     "output_type": "stream",
     "text": [
      "100%|██████████| 10/10 [00:11<00:00,  1.20s/it, acc=0.984, log_prior_normalized=0.92, loss=8.25e+4, lr=0.000316, nll_loss=8.19]\n"
     ]
    },
    {
     "name": "stdout",
     "output_type": "stream",
     "text": [
      "Test accuracy:  tensor(0.9643)\n",
      "Test ECE:  tensor(0.0624)\n",
      "--------------------------------------------------\n",
      "Student-T\n",
      "Training Model\n"
     ]
    },
    {
     "name": "stderr",
     "output_type": "stream",
     "text": [
      "100%|██████████| 10/10 [00:12<00:00,  1.26s/it, acc=0.984, log_prior_normalized=0.945, loss=8.47e+4, lr=0.000316, nll_loss=18.3]\n"
     ]
    },
    {
     "name": "stdout",
     "output_type": "stream",
     "text": [
      "Test accuracy:  tensor(0.9667)\n",
      "Test ECE:  tensor(0.1006)\n",
      "--------------------------------------------------\n",
      "Laplace\n",
      "Training Model\n"
     ]
    },
    {
     "name": "stderr",
     "output_type": "stream",
     "text": [
      "100%|██████████| 10/10 [00:11<00:00,  1.18s/it, acc=0.984, log_prior_normalized=0.727, loss=6.51e+4, lr=0.000316, nll_loss=7.48]\n"
     ]
    },
    {
     "name": "stdout",
     "output_type": "stream",
     "text": [
      "Test accuracy:  tensor(0.9677)\n",
      "Test ECE:  tensor(0.0482)\n",
      "--------------------------------------------------\n",
      "Gaussian Mixture\n",
      "Training Model\n"
     ]
    },
    {
     "name": "stderr",
     "output_type": "stream",
     "text": [
      "100%|██████████| 10/10 [00:13<00:00,  1.36s/it, acc=0.992, log_prior_normalized=1.69, loss=1.51e+5, lr=0.000316, nll_loss=8.4]\n"
     ]
    },
    {
     "name": "stdout",
     "output_type": "stream",
     "text": [
      "Test accuracy:  tensor(0.9656)\n",
      "Test ECE:  tensor(0.0443)\n",
      "--------------------------------------------------\n",
      "Gaussian Spike and Slab\n",
      "Training Model\n"
     ]
    },
    {
     "name": "stderr",
     "output_type": "stream",
     "text": [
      "100%|██████████| 10/10 [00:25<00:00,  2.55s/it, acc=0.977, log_prior_normalized=1.14, loss=1.02e+5, lr=0.000316, nll_loss=9.77]\n"
     ]
    },
    {
     "name": "stdout",
     "output_type": "stream",
     "text": [
      "Test accuracy:  tensor(0.9629)\n",
      "Test ECE:  tensor(0.0430)\n",
      "--------------------------------------------------\n",
      "Mixed Laplace and Uniform\n",
      "Training Model\n"
     ]
    },
    {
     "name": "stderr",
     "output_type": "stream",
     "text": [
      "100%|██████████| 10/10 [00:11<00:00,  1.18s/it, acc=0.992, log_prior_normalized=1.39, loss=1.24e+5, lr=0.000316, nll_loss=10.8]\n"
     ]
    },
    {
     "name": "stdout",
     "output_type": "stream",
     "text": [
      "Test accuracy:  tensor(0.9646)\n",
      "Test ECE:  tensor(0.0570)\n",
      "--------------------------------------------------\n",
      "Isotropic Gaussian\n",
      "Training Model\n"
     ]
    },
    {
     "name": "stderr",
     "output_type": "stream",
     "text": [
      "100%|██████████| 10/10 [00:23<00:00,  2.36s/it, acc=1, log_prior_normalized=0.921, loss=8.26e+4, lr=0.000316, nll_loss=5.14]   \n"
     ]
    },
    {
     "name": "stdout",
     "output_type": "stream",
     "text": [
      "Test accuracy:  tensor(0.9793)\n",
      "Test ECE:  tensor(0.0090)\n",
      "--------------------------------------------------\n",
      "Student-T\n",
      "Training Model\n"
     ]
    },
    {
     "name": "stderr",
     "output_type": "stream",
     "text": [
      "100%|██████████| 10/10 [00:25<00:00,  2.52s/it, acc=1, log_prior_normalized=0.946, loss=8.48e+4, lr=0.000316, nll_loss=1.28]   \n"
     ]
    },
    {
     "name": "stdout",
     "output_type": "stream",
     "text": [
      "Test accuracy:  tensor(0.9795)\n",
      "Test ECE:  tensor(0.0055)\n",
      "--------------------------------------------------\n",
      "Laplace\n",
      "Training Model\n"
     ]
    },
    {
     "name": "stderr",
     "output_type": "stream",
     "text": [
      "100%|██████████| 10/10 [00:24<00:00,  2.44s/it, acc=1, log_prior_normalized=0.737, loss=6.6e+4, lr=0.000316, nll_loss=2.47]    \n"
     ]
    },
    {
     "name": "stdout",
     "output_type": "stream",
     "text": [
      "Test accuracy:  tensor(0.9795)\n",
      "Test ECE:  tensor(0.0056)\n",
      "--------------------------------------------------\n",
      "Gaussian Mixture\n",
      "Training Model\n"
     ]
    },
    {
     "name": "stderr",
     "output_type": "stream",
     "text": [
      "100%|██████████| 10/10 [00:27<00:00,  2.70s/it, acc=1, log_prior_normalized=1.69, loss=1.51e+5, lr=0.000316, nll_loss=3.94]   \n"
     ]
    },
    {
     "name": "stdout",
     "output_type": "stream",
     "text": [
      "Test accuracy:  tensor(0.9803)\n",
      "Test ECE:  tensor(0.0060)\n",
      "--------------------------------------------------\n",
      "Gaussian Spike and Slab\n",
      "Training Model\n"
     ]
    },
    {
     "name": "stderr",
     "output_type": "stream",
     "text": [
      "100%|██████████| 10/10 [00:51<00:00,  5.12s/it, acc=1, log_prior_normalized=1.14, loss=1.03e+5, lr=0.000316, nll_loss=3.01]   \n"
     ]
    },
    {
     "name": "stdout",
     "output_type": "stream",
     "text": [
      "Test accuracy:  tensor(0.9803)\n",
      "Test ECE:  tensor(0.0073)\n",
      "--------------------------------------------------\n",
      "Mixed Laplace and Uniform\n",
      "Training Model\n"
     ]
    },
    {
     "name": "stderr",
     "output_type": "stream",
     "text": [
      "100%|██████████| 10/10 [00:23<00:00,  2.37s/it, acc=1, log_prior_normalized=1.39, loss=1.24e+5, lr=0.000316, nll_loss=1.68]   \n"
     ]
    },
    {
     "name": "stdout",
     "output_type": "stream",
     "text": [
      "Test accuracy:  tensor(0.9800)\n",
      "Test ECE:  tensor(0.0063)\n",
      "--------------------------------------------------\n",
      "Isotropic Gaussian\n",
      "Training Model\n"
     ]
    },
    {
     "name": "stderr",
     "output_type": "stream",
     "text": [
      "100%|██████████| 10/10 [00:53<00:00,  5.39s/it, acc=1, log_prior_normalized=0.925, loss=8.29e+4, lr=0.000316, nll_loss=3.7]    \n"
     ]
    },
    {
     "name": "stdout",
     "output_type": "stream",
     "text": [
      "Test accuracy:  tensor(0.9734)\n",
      "Test ECE:  tensor(0.0092)\n",
      "--------------------------------------------------\n",
      "Student-T\n",
      "Training Model\n"
     ]
    },
    {
     "name": "stderr",
     "output_type": "stream",
     "text": [
      "100%|██████████| 10/10 [00:48<00:00,  4.87s/it, acc=1, log_prior_normalized=0.95, loss=8.52e+4, lr=0.000316, nll_loss=1.06]    \n"
     ]
    },
    {
     "name": "stdout",
     "output_type": "stream",
     "text": [
      "Test accuracy:  tensor(0.9759)\n",
      "Test ECE:  tensor(0.0125)\n",
      "--------------------------------------------------\n",
      "Laplace\n",
      "Training Model\n"
     ]
    },
    {
     "name": "stderr",
     "output_type": "stream",
     "text": [
      "100%|██████████| 10/10 [00:46<00:00,  4.64s/it, acc=1, log_prior_normalized=0.755, loss=6.76e+4, lr=0.000316, nll_loss=0.355]  \n"
     ]
    },
    {
     "name": "stdout",
     "output_type": "stream",
     "text": [
      "Test accuracy:  tensor(0.9810)\n",
      "Test ECE:  tensor(0.0058)\n",
      "--------------------------------------------------\n",
      "Gaussian Mixture\n",
      "Training Model\n"
     ]
    },
    {
     "name": "stderr",
     "output_type": "stream",
     "text": [
      "100%|██████████| 10/10 [00:52<00:00,  5.23s/it, acc=1, log_prior_normalized=1.69, loss=1.51e+5, lr=0.000316, nll_loss=1.35]   \n"
     ]
    },
    {
     "name": "stdout",
     "output_type": "stream",
     "text": [
      "Test accuracy:  tensor(0.9751)\n",
      "Test ECE:  tensor(0.0123)\n",
      "--------------------------------------------------\n",
      "Gaussian Spike and Slab\n",
      "Training Model\n"
     ]
    },
    {
     "name": "stderr",
     "output_type": "stream",
     "text": [
      "100%|██████████| 10/10 [01:41<00:00, 10.14s/it, acc=1, log_prior_normalized=1.15, loss=1.03e+5, lr=0.000316, nll_loss=0.328]  \n"
     ]
    },
    {
     "name": "stdout",
     "output_type": "stream",
     "text": [
      "Test accuracy:  tensor(0.9788)\n",
      "Test ECE:  tensor(0.0163)\n",
      "--------------------------------------------------\n",
      "Mixed Laplace and Uniform\n",
      "Training Model\n"
     ]
    },
    {
     "name": "stderr",
     "output_type": "stream",
     "text": [
      "100%|██████████| 10/10 [00:45<00:00,  4.55s/it, acc=1, log_prior_normalized=1.39, loss=1.24e+5, lr=0.000316, nll_loss=1.38]   \n"
     ]
    },
    {
     "name": "stdout",
     "output_type": "stream",
     "text": [
      "Test accuracy:  tensor(0.9708)\n",
      "Test ECE:  tensor(0.0267)\n"
     ]
    }
   ],
   "source": [
    "# run the experiment for all priors\n",
    "\n",
    "for n in range(len(sample_sizes)):\n",
    "    # get data\n",
    "    if sample_sizes[n] == 120000:\n",
    "        # if sample size is 120000, use data augmentation\n",
    "        augmentations = tr.Compose([tr.RandomRotation(15)])\n",
    "        train_data, test_data = Data(\"MNIST\", augmentations = augmentations).get_data()\n",
    "    else:\n",
    "        # subsample original train data if sample size is smaller than 120000\n",
    "        train_data, test_data = Data(\"MNIST\", augmentations = None).get_data(num_train_samples=sample_sizes[n])\n",
    "    \n",
    "    for i in range(len(prior_list)):\n",
    "        # get prior\n",
    "        prior = prior_list[i]\n",
    "        print(50*\"-\")\n",
    "        print(prior.name)\n",
    "\n",
    "        # run BNN\n",
    "        lol = BNN_MCMC(train_data, network = FullyConnectedNN(), prior=prior, num_epochs = 10, max_size = 10, burn_in = 2, lr = 1e-3, sample_interval = 1)\n",
    "        lol.train()\n",
    "\n",
    "        # get test accuracy and ECE\n",
    "        acc = lol.test_accuracy(test_data)\n",
    "        ece = lol.test_calibration(test_data)\n",
    "        print(\"Test accuracy: \", acc)\n",
    "        print(\"Test ECE: \", ece)\n",
    "\n",
    "        # save results\n",
    "        results.iloc[i+n*len(prior_list), :] = prior.name, sample_sizes[n], acc.numpy(), ece.numpy()\n",
    "    "
   ]
  },
  {
   "cell_type": "code",
   "execution_count": 37,
   "metadata": {},
   "outputs": [
    {
     "data": {
      "text/html": [
       "<div>\n",
       "<style scoped>\n",
       "    .dataframe tbody tr th:only-of-type {\n",
       "        vertical-align: middle;\n",
       "    }\n",
       "\n",
       "    .dataframe tbody tr th {\n",
       "        vertical-align: top;\n",
       "    }\n",
       "\n",
       "    .dataframe thead th {\n",
       "        text-align: right;\n",
       "    }\n",
       "</style>\n",
       "<table border=\"1\" class=\"dataframe\">\n",
       "  <thead>\n",
       "    <tr style=\"text-align: right;\">\n",
       "      <th></th>\n",
       "      <th>Prior</th>\n",
       "      <th>Sample Size</th>\n",
       "      <th>Test Accuracy</th>\n",
       "      <th>Test ECE</th>\n",
       "    </tr>\n",
       "  </thead>\n",
       "  <tbody>\n",
       "    <tr>\n",
       "      <th>0</th>\n",
       "      <td>Isotropic Gaussian</td>\n",
       "      <td>3750</td>\n",
       "      <td>0.6555</td>\n",
       "      <td>0.441687</td>\n",
       "    </tr>\n",
       "    <tr>\n",
       "      <th>1</th>\n",
       "      <td>Student-T</td>\n",
       "      <td>3750</td>\n",
       "      <td>0.6476</td>\n",
       "      <td>0.42682523</td>\n",
       "    </tr>\n",
       "    <tr>\n",
       "      <th>2</th>\n",
       "      <td>Laplace</td>\n",
       "      <td>3750</td>\n",
       "      <td>0.7161</td>\n",
       "      <td>0.48377773</td>\n",
       "    </tr>\n",
       "    <tr>\n",
       "      <th>3</th>\n",
       "      <td>Gaussian Mixture</td>\n",
       "      <td>3750</td>\n",
       "      <td>0.6243</td>\n",
       "      <td>0.41004023</td>\n",
       "    </tr>\n",
       "    <tr>\n",
       "      <th>4</th>\n",
       "      <td>Gaussian Spike and Slab</td>\n",
       "      <td>3750</td>\n",
       "      <td>0.7284</td>\n",
       "      <td>0.51713884</td>\n",
       "    </tr>\n",
       "    <tr>\n",
       "      <th>5</th>\n",
       "      <td>Mixed Laplace and Uniform</td>\n",
       "      <td>3750</td>\n",
       "      <td>0.6256</td>\n",
       "      <td>0.40196592</td>\n",
       "    </tr>\n",
       "    <tr>\n",
       "      <th>6</th>\n",
       "      <td>Isotropic Gaussian</td>\n",
       "      <td>7500</td>\n",
       "      <td>0.8832</td>\n",
       "      <td>0.12774295</td>\n",
       "    </tr>\n",
       "    <tr>\n",
       "      <th>7</th>\n",
       "      <td>Student-T</td>\n",
       "      <td>7500</td>\n",
       "      <td>0.882</td>\n",
       "      <td>0.10857326</td>\n",
       "    </tr>\n",
       "    <tr>\n",
       "      <th>8</th>\n",
       "      <td>Laplace</td>\n",
       "      <td>7500</td>\n",
       "      <td>0.8862</td>\n",
       "      <td>0.120164536</td>\n",
       "    </tr>\n",
       "    <tr>\n",
       "      <th>9</th>\n",
       "      <td>Gaussian Mixture</td>\n",
       "      <td>7500</td>\n",
       "      <td>0.8768</td>\n",
       "      <td>0.11931829</td>\n",
       "    </tr>\n",
       "    <tr>\n",
       "      <th>10</th>\n",
       "      <td>Gaussian Spike and Slab</td>\n",
       "      <td>7500</td>\n",
       "      <td>0.887</td>\n",
       "      <td>0.13134347</td>\n",
       "    </tr>\n",
       "    <tr>\n",
       "      <th>11</th>\n",
       "      <td>Mixed Laplace and Uniform</td>\n",
       "      <td>7500</td>\n",
       "      <td>0.8804</td>\n",
       "      <td>0.11681558</td>\n",
       "    </tr>\n",
       "    <tr>\n",
       "      <th>12</th>\n",
       "      <td>Isotropic Gaussian</td>\n",
       "      <td>15000</td>\n",
       "      <td>0.9163</td>\n",
       "      <td>0.21079512</td>\n",
       "    </tr>\n",
       "    <tr>\n",
       "      <th>13</th>\n",
       "      <td>Student-T</td>\n",
       "      <td>15000</td>\n",
       "      <td>0.912</td>\n",
       "      <td>0.24066783</td>\n",
       "    </tr>\n",
       "    <tr>\n",
       "      <th>14</th>\n",
       "      <td>Laplace</td>\n",
       "      <td>15000</td>\n",
       "      <td>0.9168</td>\n",
       "      <td>0.16832547</td>\n",
       "    </tr>\n",
       "    <tr>\n",
       "      <th>15</th>\n",
       "      <td>Gaussian Mixture</td>\n",
       "      <td>15000</td>\n",
       "      <td>0.926</td>\n",
       "      <td>0.2067336</td>\n",
       "    </tr>\n",
       "    <tr>\n",
       "      <th>16</th>\n",
       "      <td>Gaussian Spike and Slab</td>\n",
       "      <td>15000</td>\n",
       "      <td>0.9006</td>\n",
       "      <td>0.18240817</td>\n",
       "    </tr>\n",
       "    <tr>\n",
       "      <th>17</th>\n",
       "      <td>Mixed Laplace and Uniform</td>\n",
       "      <td>15000</td>\n",
       "      <td>0.9226</td>\n",
       "      <td>0.17828444</td>\n",
       "    </tr>\n",
       "    <tr>\n",
       "      <th>18</th>\n",
       "      <td>Isotropic Gaussian</td>\n",
       "      <td>30000</td>\n",
       "      <td>0.9643</td>\n",
       "      <td>0.06239855</td>\n",
       "    </tr>\n",
       "    <tr>\n",
       "      <th>19</th>\n",
       "      <td>Student-T</td>\n",
       "      <td>30000</td>\n",
       "      <td>0.9667</td>\n",
       "      <td>0.10064511</td>\n",
       "    </tr>\n",
       "    <tr>\n",
       "      <th>20</th>\n",
       "      <td>Laplace</td>\n",
       "      <td>30000</td>\n",
       "      <td>0.9677</td>\n",
       "      <td>0.048194844</td>\n",
       "    </tr>\n",
       "    <tr>\n",
       "      <th>21</th>\n",
       "      <td>Gaussian Mixture</td>\n",
       "      <td>30000</td>\n",
       "      <td>0.9656</td>\n",
       "      <td>0.04433673</td>\n",
       "    </tr>\n",
       "    <tr>\n",
       "      <th>22</th>\n",
       "      <td>Gaussian Spike and Slab</td>\n",
       "      <td>30000</td>\n",
       "      <td>0.9629</td>\n",
       "      <td>0.04300994</td>\n",
       "    </tr>\n",
       "    <tr>\n",
       "      <th>23</th>\n",
       "      <td>Mixed Laplace and Uniform</td>\n",
       "      <td>30000</td>\n",
       "      <td>0.9646</td>\n",
       "      <td>0.056958858</td>\n",
       "    </tr>\n",
       "    <tr>\n",
       "      <th>24</th>\n",
       "      <td>Isotropic Gaussian</td>\n",
       "      <td>60000</td>\n",
       "      <td>0.9793</td>\n",
       "      <td>0.008993256</td>\n",
       "    </tr>\n",
       "    <tr>\n",
       "      <th>25</th>\n",
       "      <td>Student-T</td>\n",
       "      <td>60000</td>\n",
       "      <td>0.9795</td>\n",
       "      <td>0.005534699</td>\n",
       "    </tr>\n",
       "    <tr>\n",
       "      <th>26</th>\n",
       "      <td>Laplace</td>\n",
       "      <td>60000</td>\n",
       "      <td>0.9795</td>\n",
       "      <td>0.005643106</td>\n",
       "    </tr>\n",
       "    <tr>\n",
       "      <th>27</th>\n",
       "      <td>Gaussian Mixture</td>\n",
       "      <td>60000</td>\n",
       "      <td>0.9803</td>\n",
       "      <td>0.0059506875</td>\n",
       "    </tr>\n",
       "    <tr>\n",
       "      <th>28</th>\n",
       "      <td>Gaussian Spike and Slab</td>\n",
       "      <td>60000</td>\n",
       "      <td>0.9803</td>\n",
       "      <td>0.007330886</td>\n",
       "    </tr>\n",
       "    <tr>\n",
       "      <th>29</th>\n",
       "      <td>Mixed Laplace and Uniform</td>\n",
       "      <td>60000</td>\n",
       "      <td>0.98</td>\n",
       "      <td>0.006285559</td>\n",
       "    </tr>\n",
       "    <tr>\n",
       "      <th>30</th>\n",
       "      <td>Isotropic Gaussian</td>\n",
       "      <td>120000</td>\n",
       "      <td>0.9734</td>\n",
       "      <td>0.009219469</td>\n",
       "    </tr>\n",
       "    <tr>\n",
       "      <th>31</th>\n",
       "      <td>Student-T</td>\n",
       "      <td>120000</td>\n",
       "      <td>0.9759</td>\n",
       "      <td>0.012455336</td>\n",
       "    </tr>\n",
       "    <tr>\n",
       "      <th>32</th>\n",
       "      <td>Laplace</td>\n",
       "      <td>120000</td>\n",
       "      <td>0.981</td>\n",
       "      <td>0.005775863</td>\n",
       "    </tr>\n",
       "    <tr>\n",
       "      <th>33</th>\n",
       "      <td>Gaussian Mixture</td>\n",
       "      <td>120000</td>\n",
       "      <td>0.9751</td>\n",
       "      <td>0.012312615</td>\n",
       "    </tr>\n",
       "    <tr>\n",
       "      <th>34</th>\n",
       "      <td>Gaussian Spike and Slab</td>\n",
       "      <td>120000</td>\n",
       "      <td>0.9788</td>\n",
       "      <td>0.01627807</td>\n",
       "    </tr>\n",
       "    <tr>\n",
       "      <th>35</th>\n",
       "      <td>Mixed Laplace and Uniform</td>\n",
       "      <td>120000</td>\n",
       "      <td>0.9708</td>\n",
       "      <td>0.026679505</td>\n",
       "    </tr>\n",
       "  </tbody>\n",
       "</table>\n",
       "</div>"
      ],
      "text/plain": [
       "                        Prior Sample Size Test Accuracy      Test ECE\n",
       "0          Isotropic Gaussian        3750        0.6555      0.441687\n",
       "1                   Student-T        3750        0.6476    0.42682523\n",
       "2                     Laplace        3750        0.7161    0.48377773\n",
       "3            Gaussian Mixture        3750        0.6243    0.41004023\n",
       "4     Gaussian Spike and Slab        3750        0.7284    0.51713884\n",
       "5   Mixed Laplace and Uniform        3750        0.6256    0.40196592\n",
       "6          Isotropic Gaussian        7500        0.8832    0.12774295\n",
       "7                   Student-T        7500         0.882    0.10857326\n",
       "8                     Laplace        7500        0.8862   0.120164536\n",
       "9            Gaussian Mixture        7500        0.8768    0.11931829\n",
       "10    Gaussian Spike and Slab        7500         0.887    0.13134347\n",
       "11  Mixed Laplace and Uniform        7500        0.8804    0.11681558\n",
       "12         Isotropic Gaussian       15000        0.9163    0.21079512\n",
       "13                  Student-T       15000         0.912    0.24066783\n",
       "14                    Laplace       15000        0.9168    0.16832547\n",
       "15           Gaussian Mixture       15000         0.926     0.2067336\n",
       "16    Gaussian Spike and Slab       15000        0.9006    0.18240817\n",
       "17  Mixed Laplace and Uniform       15000        0.9226    0.17828444\n",
       "18         Isotropic Gaussian       30000        0.9643    0.06239855\n",
       "19                  Student-T       30000        0.9667    0.10064511\n",
       "20                    Laplace       30000        0.9677   0.048194844\n",
       "21           Gaussian Mixture       30000        0.9656    0.04433673\n",
       "22    Gaussian Spike and Slab       30000        0.9629    0.04300994\n",
       "23  Mixed Laplace and Uniform       30000        0.9646   0.056958858\n",
       "24         Isotropic Gaussian       60000        0.9793   0.008993256\n",
       "25                  Student-T       60000        0.9795   0.005534699\n",
       "26                    Laplace       60000        0.9795   0.005643106\n",
       "27           Gaussian Mixture       60000        0.9803  0.0059506875\n",
       "28    Gaussian Spike and Slab       60000        0.9803   0.007330886\n",
       "29  Mixed Laplace and Uniform       60000          0.98   0.006285559\n",
       "30         Isotropic Gaussian      120000        0.9734   0.009219469\n",
       "31                  Student-T      120000        0.9759   0.012455336\n",
       "32                    Laplace      120000         0.981   0.005775863\n",
       "33           Gaussian Mixture      120000        0.9751   0.012312615\n",
       "34    Gaussian Spike and Slab      120000        0.9788    0.01627807\n",
       "35  Mixed Laplace and Uniform      120000        0.9708   0.026679505"
      ]
     },
     "execution_count": 37,
     "metadata": {},
     "output_type": "execute_result"
    }
   ],
   "source": [
    "# print full pandas dataframe\n",
    "results"
   ]
  },
  {
   "cell_type": "code",
   "execution_count": null,
   "metadata": {},
   "outputs": [],
   "source": []
  }
 ],
 "metadata": {
  "kernelspec": {
   "display_name": "Python 3",
   "language": "python",
   "name": "python3"
  },
  "language_info": {
   "codemirror_mode": {
    "name": "ipython",
    "version": 3
   },
   "file_extension": ".py",
   "mimetype": "text/x-python",
   "name": "python",
   "nbconvert_exporter": "python",
   "pygments_lexer": "ipython3",
   "version": "3.8.10 (tags/v3.8.10:3d8993a, May  3 2021, 11:48:03) [MSC v.1928 64 bit (AMD64)]"
  },
  "orig_nbformat": 4,
  "vscode": {
   "interpreter": {
    "hash": "27f3840d2a8e92b9098d5d1f2625c1fbd9e0739b6ace23f817bf68ad3a8d77b4"
   }
  }
 },
 "nbformat": 4,
 "nbformat_minor": 2
}
