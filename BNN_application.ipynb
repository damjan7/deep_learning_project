{
 "cells": [
  {
   "cell_type": "code",
   "execution_count": null,
   "metadata": {},
   "outputs": [],
   "source": [
    "import os"
   ]
  },
  {
   "cell_type": "code",
   "execution_count": null,
   "metadata": {},
   "outputs": [],
   "source": [
    "os.getcwd()"
   ]
  },
  {
   "cell_type": "code",
   "execution_count": 1,
   "metadata": {},
   "outputs": [],
   "source": [
    "import numpy as np\n",
    "import torch\n",
    "import torch.nn as nn\n",
    "import torch.nn.functional as F\n",
    "from torch.utils.data import DataLoader\n",
    "from torch.distributions import Normal\n",
    "from torch.utils.data import Subset\n",
    "from torch.distributions import Categorical, Normal, StudentT\n",
    "from torch.optim import SGD\n",
    "from torch.optim.lr_scheduler import PolynomialLR\n",
    "import torchvision\n",
    "from torchvision import datasets, transforms\n",
    "import torchvision.transforms as tr\n",
    "import torchmetrics\n",
    "from torchmetrics.functional import calibration_error\n",
    "import math\n",
    "import matplotlib.pyplot as plt\n",
    "import random\n",
    "from collections import deque, OrderedDict\n",
    "from tqdm import trange\n",
    "import tqdm\n",
    "import copy\n",
    "import typing\n",
    "from typing import Sequence, Optional, Callable, Tuple, Dict, Union\n",
    "import pandas as pd\n",
    "from sklearn.metrics import roc_auc_score\n",
    "\n",
    "from data import Data\n",
    "from priors import *\n",
    "from Networks import *\n",
    "from BayesianNN import BNN_MCMC\n",
    "from SGLD import SGLD"
   ]
  },
  {
   "cell_type": "code",
   "execution_count": 13,
   "metadata": {},
   "outputs": [
    {
     "name": "stdout",
     "output_type": "stream",
     "text": [
      "Train data size:  6000\n",
      "Test data size:  10000\n"
     ]
    }
   ],
   "source": [
    "# Load MNIST dataset with specified transforms\n",
    "# possible transforms: RandomRotation, RandomCrop, GaussianBlur\n",
    "# avoid Normalize and ToTensor (already done), RandomHorizontalFlip (for MNIST), RandomVerticalFlip (for MNIST)\n",
    "augmentations = tr.Compose([tr.RandomRotation(15)])\n",
    "\n",
    "train_data, test_data = Data(\"MNIST\", augmentations = None).get_data(num_train_samples=6000)\n",
    "\n",
    "# Print some information about the dataset\n",
    "print(\"Train data size: \", len(train_data))\n",
    "print(\"Test data size: \", len(test_data))\n"
   ]
  },
  {
   "cell_type": "code",
   "execution_count": 20,
   "metadata": {},
   "outputs": [
    {
     "name": "stdout",
     "output_type": "stream",
     "text": [
      "Training Model\n"
     ]
    },
    {
     "name": "stderr",
     "output_type": "stream",
     "text": [
      "100%|██████████| 30/30 [00:13<00:00,  2.28it/s, acc=0.828, log_prior_normalized=8.53e+4, loss=8.53e+4, lr=0.000183, nll_loss=24.7]\n"
     ]
    }
   ],
   "source": [
    "prior = Isotropic_Gaussian()\n",
    "lol = BNN_MCMC(\n",
    "    train_data, \n",
    "    network = FullyConnectedNN(), \n",
    "    prior=prior, \n",
    "    num_epochs = 30, \n",
    "    max_size = 15, \n",
    "    burn_in = 5, \n",
    "    lr = 1e-3, \n",
    "    sample_interval = 2, \n",
    "    Temperature = 10)\n",
    "\n",
    "lol.train()"
   ]
  },
  {
   "cell_type": "code",
   "execution_count": 21,
   "metadata": {},
   "outputs": [
    {
     "name": "stdout",
     "output_type": "stream",
     "text": [
      "Test accuracy:  0.8737\n",
      "Test ECE:  0.10882765\n",
      "Test AUROC:  0.986883858255555\n"
     ]
    }
   ],
   "source": [
    "acc = lol.test_accuracy(test_data)\n",
    "ece = lol.test_calibration(test_data)\n",
    "auroc = lol.test_auroc(test_data)\n",
    "print(\"Test accuracy: \", acc)\n",
    "print(\"Test ECE: \", ece)\n",
    "print(\"Test AUROC: \", auroc)\n",
    "\n"
   ]
  },
  {
   "cell_type": "code",
   "execution_count": null,
   "metadata": {},
   "outputs": [],
   "source": [
    "lol.get_metrics(test_data)"
   ]
  },
  {
   "cell_type": "code",
   "execution_count": null,
   "metadata": {},
   "outputs": [],
   "source": [
    "# compute AUROC\n",
    "x_test = test_data[:][0]\n",
    "y_test = test_data[:][1]    \n",
    "\n",
    "# get prediction probabilities\n",
    "probs = lol.predict_probabilities(x_test)\n",
    "\n",
    "# get argmax of predictions\n",
    "preds = probs.argmax(dim=1)\n",
    "\n",
    "# compute AUROC\n",
    "auroc = roc_auc_score(y_test, probs, multi_class='ovo')\n",
    "\n",
    "auroc\n",
    "\n",
    "\n"
   ]
  },
  {
   "cell_type": "code",
   "execution_count": null,
   "metadata": {},
   "outputs": [],
   "source": [
    "# get weights from all models\n",
    "param_flat_all = []\n",
    "for model in lol.model_sequence:\n",
    "    parameters = model.state_dict()\n",
    "    param_values = list(parameters.values())\n",
    "    param_flat = torch.cat([v.flatten() for v in param_values])\n",
    "    param_flat_all.append(param_flat.flatten())\n",
    "\n",
    "# put all weights in one array\n",
    "params = np.concatenate(param_flat_all)\n",
    "\n",
    "# plot weights\n",
    "plt.hist(params, bins=1000, range=(-4, 4))\n",
    "plt.title(\"Weights of all models, GaussianMixture(-2, 0.5, 2, 0.5) \")\n",
    "plt.show()"
   ]
  },
  {
   "cell_type": "code",
   "execution_count": null,
   "metadata": {},
   "outputs": [],
   "source": [
    "x, var = Normal_Inverse_Gamma(0, 5, 1, 1).sample(100000)\n",
    "x = x.flatten().numpy()\n",
    "var = var\n",
    "\n",
    "# plot prior samples\n",
    "plt.hist(x, bins=1000, range=(-5, 5))\n",
    "plt.show()\n",
    "\n",
    "# plot prior samples\n",
    "print(var)\n"
   ]
  },
  {
   "cell_type": "markdown",
   "metadata": {},
   "source": [
    "# Pretrain Prior"
   ]
  },
  {
   "cell_type": "code",
   "execution_count": null,
   "metadata": {},
   "outputs": [],
   "source": [
    "# pretrain on FashionMNIST\n",
    "pretrain_data, pretest_data = Data(\"FashionMNIST\", augmentations = None).get_data(num_train_samples=600)\n",
    "\n",
    "prior = Isotropic_Gaussian()\n",
    "pretrainer = BNN_MCMC(pretrain_data, network = FullyConnectedNN(), prior=prior, num_epochs = 30, max_size = 15, burn_in = 5, lr = 1e-3, sample_interval = 2)\n",
    "pretrainer.train()\n",
    "\n",
    "# get pretrained prior parameters\n",
    "mu, var = pretrainer.get_posterior_stats()\n",
    "\n"
   ]
  },
  {
   "cell_type": "code",
   "execution_count": null,
   "metadata": {},
   "outputs": [],
   "source": [
    "pretrained_Isotropic_Gaussian = Isotropic_Gaussian(mu, var)\n"
   ]
  },
  {
   "cell_type": "markdown",
   "metadata": {},
   "source": [
    "# Evaluation loop"
   ]
  },
  {
   "cell_type": "code",
   "execution_count": null,
   "metadata": {},
   "outputs": [],
   "source": [
    "prior_list = [Isotropic_Gaussian(),\n",
    "              StudentT_prior(),\n",
    "              GaussianSpikeNSlab(),\n",
    "              MixedLaplaceUniform(), \n",
    "              Normal_Inverse_Gamma()]\n",
    "\n",
    "prior_list_v2 = [Isotropic_Gaussian,\n",
    "              StudentT_prior,\n",
    "              GaussianSpikeNSlab,\n",
    "              MixedLaplaceUniform, \n",
    "              Normal_Inverse_Gamma]\n",
    "\n",
    "sample_sizes = [3750, 7500, 15000, 30000, 60000, 120000]\n",
    "\n",
    "Temperatures = [1, 0.001, 0.01, 0.1, 1, 10]\n",
    "\n",
    "\n",
    "prior_list = [] \n",
    "for prior in prior_list_v2:\n",
    "    for temp in Temperatures:\n",
    "        prior_list.append(prior(Temperature=temp))\n",
    "        \n",
    "# prior list is then list of all priors initialized with the correpsonding temperature\n",
    "# [prior1_temp1, prior2_temp1, ..., prior7_temp1, prior1_temp2, prior2_temp2, ... ]"
   ]
  },
  {
   "cell_type": "code",
   "execution_count": null,
   "metadata": {},
   "outputs": [],
   "source": [
    "# preallocate pandas dataframe for results\n",
    "results = pd.DataFrame(columns = [\"Prior\", \"Sample Size\", \"Epochs\", \"Burn_in\", \"sample_int\", \"Temperature\", \"Test Accuracy\", \"Test ECE\"], index = range(len(prior_list)*len(sample_sizes)))\n",
    "\n",
    "results"
   ]
  },
  {
   "cell_type": "code",
   "execution_count": null,
   "metadata": {},
   "outputs": [],
   "source": [
    "# run the experiment for all priors\n",
    "\n",
    "# set seed for reproducibility\n",
    "torch.manual_seed(0)\n",
    "\n",
    "#create a dict for the different parameter values\n",
    "base_epoch, base_burn_in, base_sample_interval, base_samplesize = 50, 10, 2, sample_sizes[-1]\n",
    "args_dict = [(sample_size, (base_epoch*base_samplesize/sample_size, base_burn_in*base_samplesize/sample_size, base_sample_interval*base_samplesize/sample_size )) for sample_size in sample_sizes]\n",
    "args_dict = dict(args_dict)\n",
    "\n",
    "iteration = 1\n",
    "\n",
    "for n in range(len(sample_sizes)):\n",
    "    # get data\n",
    "    if sample_sizes[n] == 120000:\n",
    "        # if sample size is 120000, use data augmentation\n",
    "        augmentations = tr.Compose([tr.RandomRotation(15)])\n",
    "        train_data, test_data = Data(\"MNIST\", augmentations = augmentations).get_data()\n",
    "    else:\n",
    "        # subsample original train data if sample size is smaller than 120000\n",
    "        train_data, test_data = Data(\"MNIST\", augmentations = None).get_data(num_train_samples=sample_sizes[n])\n",
    "    \n",
    "    for i in range(len(prior_list)):\n",
    "        # get prior\n",
    "        prior = prior_list[i]\n",
    "        print(50*\"-\")\n",
    "        print(\"Iteration: \", iteration, \" of \", len(prior_list)*len(sample_sizes))\n",
    "        iteration += 1\n",
    "        print(\"Prior:       \", prior.name)\n",
    "        print(\"Temperature: \", prior.Temperature.numpy())\n",
    "        print(\"Sample size: \", sample_sizes[n])\n",
    "\n",
    "        print(\"Epoch:       \", args_dict[sample_sizes[n]][0])\n",
    "        print(\"Burn in:     \", args_dict[sample_sizes[n]][1])\n",
    "        print(\"Sample interval: \", args_dict[sample_sizes[n]][2])\n",
    "\n",
    "        # run BNN\n",
    "        model = BNN_MCMC(\n",
    "            train_data,\n",
    "            network = FullyConnectedNN(),\n",
    "            prior=prior,\n",
    "            num_epochs = int(args_dict[sample_sizes[n]][0]),\n",
    "            max_size = 10,\n",
    "            burn_in = int(args_dict[sample_sizes[n]][1]),\n",
    "            lr = 1e-3,\n",
    "            sample_interval = int(args_dict[sample_sizes[n]][2]))\n",
    "\n",
    "        model.train()\n",
    "\n",
    "        # get test accuracy and ECE\n",
    "        acc = model.test_accuracy(test_data)\n",
    "        ece = model.test_calibration(test_data)\n",
    "\n",
    "        print(\"Test accuracy: \", acc)\n",
    "        print(\"Test ECE: \", ece)\n",
    "\n",
    "        # save results\n",
    "        results.iloc[i+n*len(prior_list), :] = prior.name, sample_sizes[n], args_dict[sample_sizes[n]][0], args_dict[sample_sizes[n]][1], args_dict[sample_sizes[n]][2], prior.Temperature.numpy(), acc, ece\n",
    "\n",
    "        # save model\n",
    "        #torch.save(model, \"models/\"+prior.name+\"_\"+str(sample_sizes[n])+\"_\"+str(prior.Temperature.numpy())+\".pt\")\n"
   ]
  },
  {
   "cell_type": "code",
   "execution_count": null,
   "metadata": {},
   "outputs": [],
   "source": [
    "# print full pandas dataframe\n",
    "results"
   ]
  },
  {
   "cell_type": "code",
   "execution_count": null,
   "metadata": {},
   "outputs": [],
   "source": [
    "# load model \n",
    "model = torch.load(\"models/Isotropic Gaussian_3750_1.0.pt\")\n",
    "\n",
    "# get test accuracy and ECE\n",
    "acc = model.test_accuracy(test_data)\n",
    "\n",
    "# get test data\n",
    "x_test = test_data[:][0]\n",
    "y_test = test_data[:][1]\n",
    "\n",
    "preds = model.predict_probabilities(x_test)\n",
    "print(preds.shape)\n",
    "\n",
    "ece = calibration_error(preds, y_test, n_bins = 10, task = \"multiclass\", norm=\"l1\", num_classes=10)\n",
    "\n",
    "\n",
    "print(\"Test accuracy: \", acc)\n",
    "#print(\"Test ECE: \", ece)"
   ]
  },
  {
   "cell_type": "code",
   "execution_count": null,
   "metadata": {},
   "outputs": [],
   "source": [
    "test_data[:][0].clone().detach()"
   ]
  }
 ],
 "metadata": {
  "kernelspec": {
   "display_name": "Python 3.8.5 64-bit ('anaconda3')",
   "language": "python",
   "name": "python3"
  },
  "language_info": {
   "codemirror_mode": {
    "name": "ipython",
    "version": 3
   },
   "file_extension": ".py",
   "mimetype": "text/x-python",
   "name": "python",
   "nbconvert_exporter": "python",
   "pygments_lexer": "ipython3",
   "version": "3.8.5"
  },
  "vscode": {
   "interpreter": {
    "hash": "aa526d89aec0a31945a2b2620e49fa7082f45611cb01c48b28f8969ea0ac1514"
   }
  }
 },
 "nbformat": 4,
 "nbformat_minor": 2
}
